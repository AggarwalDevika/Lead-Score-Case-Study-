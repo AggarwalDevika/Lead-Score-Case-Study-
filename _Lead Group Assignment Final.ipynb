{
 "cells": [
  {
   "cell_type": "markdown",
   "id": "b0bcd2c3",
   "metadata": {},
   "source": [
    "# Importing Libraries and Warnings"
   ]
  },
  {
   "cell_type": "code",
   "execution_count": 531,
   "id": "e56c3598",
   "metadata": {},
   "outputs": [],
   "source": [
    "import numpy as np\n",
    "import pandas as pd\n",
    "import matplotlib.pyplot as plt\n",
    "import seaborn as sns\n",
    "import warnings\n",
    "warnings.filterwarnings('ignore')\n",
    "\n",
    "from sklearn.preprocessing import MinMaxScaler\n",
    "from sklearn.model_selection import train_test_split\n",
    "import statsmodels.api as sm\n",
    "from sklearn.linear_model import LogisticRegression\n",
    "from sklearn.feature_selection import RFE\n",
    "from statsmodels.stats.outliers_influence import variance_inflation_factor\n",
    "from sklearn import metrics\n",
    "from sklearn.metrics import confusion_matrix\n",
    "from sklearn.metrics import precision_recall_curve"
   ]
  },
  {
   "cell_type": "markdown",
   "id": "ff22ef7f",
   "metadata": {},
   "source": [
    "# 1. Reading and Understading the data"
   ]
  },
  {
   "cell_type": "code",
   "execution_count": 532,
   "id": "ba094411",
   "metadata": {},
   "outputs": [],
   "source": [
    "lead = pd.read_csv(\"Leads.csv\")"
   ]
  },
  {
   "cell_type": "code",
   "execution_count": 533,
   "id": "2856ff8a",
   "metadata": {},
   "outputs": [
    {
     "data": {
      "text/html": [
       "<div>\n",
       "<style scoped>\n",
       "    .dataframe tbody tr th:only-of-type {\n",
       "        vertical-align: middle;\n",
       "    }\n",
       "\n",
       "    .dataframe tbody tr th {\n",
       "        vertical-align: top;\n",
       "    }\n",
       "\n",
       "    .dataframe thead th {\n",
       "        text-align: right;\n",
       "    }\n",
       "</style>\n",
       "<table border=\"1\" class=\"dataframe\">\n",
       "  <thead>\n",
       "    <tr style=\"text-align: right;\">\n",
       "      <th></th>\n",
       "      <th>Prospect ID</th>\n",
       "      <th>Lead Number</th>\n",
       "      <th>Lead Origin</th>\n",
       "      <th>Lead Source</th>\n",
       "      <th>Do Not Email</th>\n",
       "      <th>Do Not Call</th>\n",
       "      <th>Converted</th>\n",
       "      <th>TotalVisits</th>\n",
       "      <th>Total Time Spent on Website</th>\n",
       "      <th>Page Views Per Visit</th>\n",
       "      <th>...</th>\n",
       "      <th>Get updates on DM Content</th>\n",
       "      <th>Lead Profile</th>\n",
       "      <th>City</th>\n",
       "      <th>Asymmetrique Activity Index</th>\n",
       "      <th>Asymmetrique Profile Index</th>\n",
       "      <th>Asymmetrique Activity Score</th>\n",
       "      <th>Asymmetrique Profile Score</th>\n",
       "      <th>I agree to pay the amount through cheque</th>\n",
       "      <th>A free copy of Mastering The Interview</th>\n",
       "      <th>Last Notable Activity</th>\n",
       "    </tr>\n",
       "  </thead>\n",
       "  <tbody>\n",
       "    <tr>\n",
       "      <th>0</th>\n",
       "      <td>7927b2df-8bba-4d29-b9a2-b6e0beafe620</td>\n",
       "      <td>660737</td>\n",
       "      <td>API</td>\n",
       "      <td>Olark Chat</td>\n",
       "      <td>No</td>\n",
       "      <td>No</td>\n",
       "      <td>0</td>\n",
       "      <td>0.0</td>\n",
       "      <td>0</td>\n",
       "      <td>0.0</td>\n",
       "      <td>...</td>\n",
       "      <td>No</td>\n",
       "      <td>Select</td>\n",
       "      <td>Select</td>\n",
       "      <td>02.Medium</td>\n",
       "      <td>02.Medium</td>\n",
       "      <td>15.0</td>\n",
       "      <td>15.0</td>\n",
       "      <td>No</td>\n",
       "      <td>No</td>\n",
       "      <td>Modified</td>\n",
       "    </tr>\n",
       "    <tr>\n",
       "      <th>1</th>\n",
       "      <td>2a272436-5132-4136-86fa-dcc88c88f482</td>\n",
       "      <td>660728</td>\n",
       "      <td>API</td>\n",
       "      <td>Organic Search</td>\n",
       "      <td>No</td>\n",
       "      <td>No</td>\n",
       "      <td>0</td>\n",
       "      <td>5.0</td>\n",
       "      <td>674</td>\n",
       "      <td>2.5</td>\n",
       "      <td>...</td>\n",
       "      <td>No</td>\n",
       "      <td>Select</td>\n",
       "      <td>Select</td>\n",
       "      <td>02.Medium</td>\n",
       "      <td>02.Medium</td>\n",
       "      <td>15.0</td>\n",
       "      <td>15.0</td>\n",
       "      <td>No</td>\n",
       "      <td>No</td>\n",
       "      <td>Email Opened</td>\n",
       "    </tr>\n",
       "    <tr>\n",
       "      <th>2</th>\n",
       "      <td>8cc8c611-a219-4f35-ad23-fdfd2656bd8a</td>\n",
       "      <td>660727</td>\n",
       "      <td>Landing Page Submission</td>\n",
       "      <td>Direct Traffic</td>\n",
       "      <td>No</td>\n",
       "      <td>No</td>\n",
       "      <td>1</td>\n",
       "      <td>2.0</td>\n",
       "      <td>1532</td>\n",
       "      <td>2.0</td>\n",
       "      <td>...</td>\n",
       "      <td>No</td>\n",
       "      <td>Potential Lead</td>\n",
       "      <td>Mumbai</td>\n",
       "      <td>02.Medium</td>\n",
       "      <td>01.High</td>\n",
       "      <td>14.0</td>\n",
       "      <td>20.0</td>\n",
       "      <td>No</td>\n",
       "      <td>Yes</td>\n",
       "      <td>Email Opened</td>\n",
       "    </tr>\n",
       "    <tr>\n",
       "      <th>3</th>\n",
       "      <td>0cc2df48-7cf4-4e39-9de9-19797f9b38cc</td>\n",
       "      <td>660719</td>\n",
       "      <td>Landing Page Submission</td>\n",
       "      <td>Direct Traffic</td>\n",
       "      <td>No</td>\n",
       "      <td>No</td>\n",
       "      <td>0</td>\n",
       "      <td>1.0</td>\n",
       "      <td>305</td>\n",
       "      <td>1.0</td>\n",
       "      <td>...</td>\n",
       "      <td>No</td>\n",
       "      <td>Select</td>\n",
       "      <td>Mumbai</td>\n",
       "      <td>02.Medium</td>\n",
       "      <td>01.High</td>\n",
       "      <td>13.0</td>\n",
       "      <td>17.0</td>\n",
       "      <td>No</td>\n",
       "      <td>No</td>\n",
       "      <td>Modified</td>\n",
       "    </tr>\n",
       "    <tr>\n",
       "      <th>4</th>\n",
       "      <td>3256f628-e534-4826-9d63-4a8b88782852</td>\n",
       "      <td>660681</td>\n",
       "      <td>Landing Page Submission</td>\n",
       "      <td>Google</td>\n",
       "      <td>No</td>\n",
       "      <td>No</td>\n",
       "      <td>1</td>\n",
       "      <td>2.0</td>\n",
       "      <td>1428</td>\n",
       "      <td>1.0</td>\n",
       "      <td>...</td>\n",
       "      <td>No</td>\n",
       "      <td>Select</td>\n",
       "      <td>Mumbai</td>\n",
       "      <td>02.Medium</td>\n",
       "      <td>01.High</td>\n",
       "      <td>15.0</td>\n",
       "      <td>18.0</td>\n",
       "      <td>No</td>\n",
       "      <td>No</td>\n",
       "      <td>Modified</td>\n",
       "    </tr>\n",
       "  </tbody>\n",
       "</table>\n",
       "<p>5 rows × 37 columns</p>\n",
       "</div>"
      ],
      "text/plain": [
       "                            Prospect ID  Lead Number              Lead Origin  \\\n",
       "0  7927b2df-8bba-4d29-b9a2-b6e0beafe620       660737                      API   \n",
       "1  2a272436-5132-4136-86fa-dcc88c88f482       660728                      API   \n",
       "2  8cc8c611-a219-4f35-ad23-fdfd2656bd8a       660727  Landing Page Submission   \n",
       "3  0cc2df48-7cf4-4e39-9de9-19797f9b38cc       660719  Landing Page Submission   \n",
       "4  3256f628-e534-4826-9d63-4a8b88782852       660681  Landing Page Submission   \n",
       "\n",
       "      Lead Source Do Not Email Do Not Call  Converted  TotalVisits  \\\n",
       "0      Olark Chat           No          No          0          0.0   \n",
       "1  Organic Search           No          No          0          5.0   \n",
       "2  Direct Traffic           No          No          1          2.0   \n",
       "3  Direct Traffic           No          No          0          1.0   \n",
       "4          Google           No          No          1          2.0   \n",
       "\n",
       "   Total Time Spent on Website  Page Views Per Visit  ...  \\\n",
       "0                            0                   0.0  ...   \n",
       "1                          674                   2.5  ...   \n",
       "2                         1532                   2.0  ...   \n",
       "3                          305                   1.0  ...   \n",
       "4                         1428                   1.0  ...   \n",
       "\n",
       "  Get updates on DM Content    Lead Profile    City  \\\n",
       "0                        No          Select  Select   \n",
       "1                        No          Select  Select   \n",
       "2                        No  Potential Lead  Mumbai   \n",
       "3                        No          Select  Mumbai   \n",
       "4                        No          Select  Mumbai   \n",
       "\n",
       "  Asymmetrique Activity Index Asymmetrique Profile Index  \\\n",
       "0                   02.Medium                  02.Medium   \n",
       "1                   02.Medium                  02.Medium   \n",
       "2                   02.Medium                    01.High   \n",
       "3                   02.Medium                    01.High   \n",
       "4                   02.Medium                    01.High   \n",
       "\n",
       "  Asymmetrique Activity Score Asymmetrique Profile Score  \\\n",
       "0                        15.0                       15.0   \n",
       "1                        15.0                       15.0   \n",
       "2                        14.0                       20.0   \n",
       "3                        13.0                       17.0   \n",
       "4                        15.0                       18.0   \n",
       "\n",
       "  I agree to pay the amount through cheque  \\\n",
       "0                                       No   \n",
       "1                                       No   \n",
       "2                                       No   \n",
       "3                                       No   \n",
       "4                                       No   \n",
       "\n",
       "  A free copy of Mastering The Interview Last Notable Activity  \n",
       "0                                     No              Modified  \n",
       "1                                     No          Email Opened  \n",
       "2                                    Yes          Email Opened  \n",
       "3                                     No              Modified  \n",
       "4                                     No              Modified  \n",
       "\n",
       "[5 rows x 37 columns]"
      ]
     },
     "execution_count": 533,
     "metadata": {},
     "output_type": "execute_result"
    }
   ],
   "source": [
    "lead.head()"
   ]
  },
  {
   "cell_type": "code",
   "execution_count": 534,
   "id": "4e52b37f",
   "metadata": {},
   "outputs": [
    {
     "data": {
      "text/plain": [
       "(9240, 37)"
      ]
     },
     "execution_count": 534,
     "metadata": {},
     "output_type": "execute_result"
    }
   ],
   "source": [
    "lead.shape"
   ]
  },
  {
   "cell_type": "code",
   "execution_count": 535,
   "id": "bcc50703",
   "metadata": {},
   "outputs": [
    {
     "name": "stdout",
     "output_type": "stream",
     "text": [
      "<class 'pandas.core.frame.DataFrame'>\n",
      "RangeIndex: 9240 entries, 0 to 9239\n",
      "Data columns (total 37 columns):\n",
      " #   Column                                         Non-Null Count  Dtype  \n",
      "---  ------                                         --------------  -----  \n",
      " 0   Prospect ID                                    9240 non-null   object \n",
      " 1   Lead Number                                    9240 non-null   int64  \n",
      " 2   Lead Origin                                    9240 non-null   object \n",
      " 3   Lead Source                                    9204 non-null   object \n",
      " 4   Do Not Email                                   9240 non-null   object \n",
      " 5   Do Not Call                                    9240 non-null   object \n",
      " 6   Converted                                      9240 non-null   int64  \n",
      " 7   TotalVisits                                    9103 non-null   float64\n",
      " 8   Total Time Spent on Website                    9240 non-null   int64  \n",
      " 9   Page Views Per Visit                           9103 non-null   float64\n",
      " 10  Last Activity                                  9137 non-null   object \n",
      " 11  Country                                        6779 non-null   object \n",
      " 12  Specialization                                 7802 non-null   object \n",
      " 13  How did you hear about X Education             7033 non-null   object \n",
      " 14  What is your current occupation                6550 non-null   object \n",
      " 15  What matters most to you in choosing a course  6531 non-null   object \n",
      " 16  Search                                         9240 non-null   object \n",
      " 17  Magazine                                       9240 non-null   object \n",
      " 18  Newspaper Article                              9240 non-null   object \n",
      " 19  X Education Forums                             9240 non-null   object \n",
      " 20  Newspaper                                      9240 non-null   object \n",
      " 21  Digital Advertisement                          9240 non-null   object \n",
      " 22  Through Recommendations                        9240 non-null   object \n",
      " 23  Receive More Updates About Our Courses         9240 non-null   object \n",
      " 24  Tags                                           5887 non-null   object \n",
      " 25  Lead Quality                                   4473 non-null   object \n",
      " 26  Update me on Supply Chain Content              9240 non-null   object \n",
      " 27  Get updates on DM Content                      9240 non-null   object \n",
      " 28  Lead Profile                                   6531 non-null   object \n",
      " 29  City                                           7820 non-null   object \n",
      " 30  Asymmetrique Activity Index                    5022 non-null   object \n",
      " 31  Asymmetrique Profile Index                     5022 non-null   object \n",
      " 32  Asymmetrique Activity Score                    5022 non-null   float64\n",
      " 33  Asymmetrique Profile Score                     5022 non-null   float64\n",
      " 34  I agree to pay the amount through cheque       9240 non-null   object \n",
      " 35  A free copy of Mastering The Interview         9240 non-null   object \n",
      " 36  Last Notable Activity                          9240 non-null   object \n",
      "dtypes: float64(4), int64(3), object(30)\n",
      "memory usage: 2.6+ MB\n"
     ]
    }
   ],
   "source": [
    "lead.info()"
   ]
  },
  {
   "cell_type": "code",
   "execution_count": 536,
   "id": "1d1bd31c",
   "metadata": {},
   "outputs": [
    {
     "data": {
      "text/html": [
       "<div>\n",
       "<style scoped>\n",
       "    .dataframe tbody tr th:only-of-type {\n",
       "        vertical-align: middle;\n",
       "    }\n",
       "\n",
       "    .dataframe tbody tr th {\n",
       "        vertical-align: top;\n",
       "    }\n",
       "\n",
       "    .dataframe thead th {\n",
       "        text-align: right;\n",
       "    }\n",
       "</style>\n",
       "<table border=\"1\" class=\"dataframe\">\n",
       "  <thead>\n",
       "    <tr style=\"text-align: right;\">\n",
       "      <th></th>\n",
       "      <th>Lead Number</th>\n",
       "      <th>Converted</th>\n",
       "      <th>TotalVisits</th>\n",
       "      <th>Total Time Spent on Website</th>\n",
       "      <th>Page Views Per Visit</th>\n",
       "      <th>Asymmetrique Activity Score</th>\n",
       "      <th>Asymmetrique Profile Score</th>\n",
       "    </tr>\n",
       "  </thead>\n",
       "  <tbody>\n",
       "    <tr>\n",
       "      <th>count</th>\n",
       "      <td>9240.000000</td>\n",
       "      <td>9240.000000</td>\n",
       "      <td>9103.000000</td>\n",
       "      <td>9240.000000</td>\n",
       "      <td>9103.000000</td>\n",
       "      <td>5022.000000</td>\n",
       "      <td>5022.000000</td>\n",
       "    </tr>\n",
       "    <tr>\n",
       "      <th>mean</th>\n",
       "      <td>617188.435606</td>\n",
       "      <td>0.385390</td>\n",
       "      <td>3.445238</td>\n",
       "      <td>487.698268</td>\n",
       "      <td>2.362820</td>\n",
       "      <td>14.306252</td>\n",
       "      <td>16.344883</td>\n",
       "    </tr>\n",
       "    <tr>\n",
       "      <th>std</th>\n",
       "      <td>23405.995698</td>\n",
       "      <td>0.486714</td>\n",
       "      <td>4.854853</td>\n",
       "      <td>548.021466</td>\n",
       "      <td>2.161418</td>\n",
       "      <td>1.386694</td>\n",
       "      <td>1.811395</td>\n",
       "    </tr>\n",
       "    <tr>\n",
       "      <th>min</th>\n",
       "      <td>579533.000000</td>\n",
       "      <td>0.000000</td>\n",
       "      <td>0.000000</td>\n",
       "      <td>0.000000</td>\n",
       "      <td>0.000000</td>\n",
       "      <td>7.000000</td>\n",
       "      <td>11.000000</td>\n",
       "    </tr>\n",
       "    <tr>\n",
       "      <th>25%</th>\n",
       "      <td>596484.500000</td>\n",
       "      <td>0.000000</td>\n",
       "      <td>1.000000</td>\n",
       "      <td>12.000000</td>\n",
       "      <td>1.000000</td>\n",
       "      <td>14.000000</td>\n",
       "      <td>15.000000</td>\n",
       "    </tr>\n",
       "    <tr>\n",
       "      <th>50%</th>\n",
       "      <td>615479.000000</td>\n",
       "      <td>0.000000</td>\n",
       "      <td>3.000000</td>\n",
       "      <td>248.000000</td>\n",
       "      <td>2.000000</td>\n",
       "      <td>14.000000</td>\n",
       "      <td>16.000000</td>\n",
       "    </tr>\n",
       "    <tr>\n",
       "      <th>75%</th>\n",
       "      <td>637387.250000</td>\n",
       "      <td>1.000000</td>\n",
       "      <td>5.000000</td>\n",
       "      <td>936.000000</td>\n",
       "      <td>3.000000</td>\n",
       "      <td>15.000000</td>\n",
       "      <td>18.000000</td>\n",
       "    </tr>\n",
       "    <tr>\n",
       "      <th>max</th>\n",
       "      <td>660737.000000</td>\n",
       "      <td>1.000000</td>\n",
       "      <td>251.000000</td>\n",
       "      <td>2272.000000</td>\n",
       "      <td>55.000000</td>\n",
       "      <td>18.000000</td>\n",
       "      <td>20.000000</td>\n",
       "    </tr>\n",
       "  </tbody>\n",
       "</table>\n",
       "</div>"
      ],
      "text/plain": [
       "         Lead Number    Converted  TotalVisits  Total Time Spent on Website  \\\n",
       "count    9240.000000  9240.000000  9103.000000                  9240.000000   \n",
       "mean   617188.435606     0.385390     3.445238                   487.698268   \n",
       "std     23405.995698     0.486714     4.854853                   548.021466   \n",
       "min    579533.000000     0.000000     0.000000                     0.000000   \n",
       "25%    596484.500000     0.000000     1.000000                    12.000000   \n",
       "50%    615479.000000     0.000000     3.000000                   248.000000   \n",
       "75%    637387.250000     1.000000     5.000000                   936.000000   \n",
       "max    660737.000000     1.000000   251.000000                  2272.000000   \n",
       "\n",
       "       Page Views Per Visit  Asymmetrique Activity Score  \\\n",
       "count           9103.000000                  5022.000000   \n",
       "mean               2.362820                    14.306252   \n",
       "std                2.161418                     1.386694   \n",
       "min                0.000000                     7.000000   \n",
       "25%                1.000000                    14.000000   \n",
       "50%                2.000000                    14.000000   \n",
       "75%                3.000000                    15.000000   \n",
       "max               55.000000                    18.000000   \n",
       "\n",
       "       Asymmetrique Profile Score  \n",
       "count                 5022.000000  \n",
       "mean                    16.344883  \n",
       "std                      1.811395  \n",
       "min                     11.000000  \n",
       "25%                     15.000000  \n",
       "50%                     16.000000  \n",
       "75%                     18.000000  \n",
       "max                     20.000000  "
      ]
     },
     "execution_count": 536,
     "metadata": {},
     "output_type": "execute_result"
    }
   ],
   "source": [
    "lead.describe()"
   ]
  },
  {
   "cell_type": "markdown",
   "id": "f352094e",
   "metadata": {},
   "source": [
    "# 2 Pre-Processing and Cleaning of Data"
   ]
  },
  {
   "cell_type": "code",
   "execution_count": 537,
   "id": "28b9c524",
   "metadata": {},
   "outputs": [
    {
     "data": {
      "text/plain": [
       "0"
      ]
     },
     "execution_count": 537,
     "metadata": {},
     "output_type": "execute_result"
    }
   ],
   "source": [
    "# Checking for Duplicates\n",
    "lead.duplicated().sum()"
   ]
  },
  {
   "cell_type": "code",
   "execution_count": 538,
   "id": "64529317",
   "metadata": {},
   "outputs": [],
   "source": [
    "# Converting 'Select' values to NaN as it means no option is selected\n",
    "lead = lead.replace('Select', np.nan)"
   ]
  },
  {
   "cell_type": "code",
   "execution_count": 539,
   "id": "e3a2eedd",
   "metadata": {},
   "outputs": [
    {
     "data": {
      "text/plain": [
       "Prospect ID                                      9240\n",
       "Lead Number                                      9240\n",
       "Lead Origin                                         5\n",
       "Lead Source                                        21\n",
       "Do Not Email                                        2\n",
       "Do Not Call                                         2\n",
       "Converted                                           2\n",
       "TotalVisits                                        41\n",
       "Total Time Spent on Website                      1731\n",
       "Page Views Per Visit                              114\n",
       "Last Activity                                      17\n",
       "Country                                            38\n",
       "Specialization                                     18\n",
       "How did you hear about X Education                  9\n",
       "What is your current occupation                     6\n",
       "What matters most to you in choosing a course       3\n",
       "Search                                              2\n",
       "Magazine                                            1\n",
       "Newspaper Article                                   2\n",
       "X Education Forums                                  2\n",
       "Newspaper                                           2\n",
       "Digital Advertisement                               2\n",
       "Through Recommendations                             2\n",
       "Receive More Updates About Our Courses              1\n",
       "Tags                                               26\n",
       "Lead Quality                                        5\n",
       "Update me on Supply Chain Content                   1\n",
       "Get updates on DM Content                           1\n",
       "Lead Profile                                        5\n",
       "City                                                6\n",
       "Asymmetrique Activity Index                         3\n",
       "Asymmetrique Profile Index                          3\n",
       "Asymmetrique Activity Score                        12\n",
       "Asymmetrique Profile Score                         10\n",
       "I agree to pay the amount through cheque            1\n",
       "A free copy of Mastering The Interview              2\n",
       "Last Notable Activity                              16\n",
       "dtype: int64"
      ]
     },
     "execution_count": 539,
     "metadata": {},
     "output_type": "execute_result"
    }
   ],
   "source": [
    "# Checking unique values \n",
    "lead.nunique()"
   ]
  },
  {
   "cell_type": "code",
   "execution_count": 540,
   "id": "dc4a65b4",
   "metadata": {},
   "outputs": [],
   "source": [
    "# Dropping Lead Number and Prospect ID as they have all unique values\n",
    "lead.drop(['Prospect ID', 'Lead Number'], 1, inplace = True)"
   ]
  },
  {
   "cell_type": "code",
   "execution_count": 541,
   "id": "63b9316e",
   "metadata": {},
   "outputs": [
    {
     "data": {
      "text/plain": [
       "Lead Origin                                         0\n",
       "Lead Source                                        36\n",
       "Do Not Email                                        0\n",
       "Do Not Call                                         0\n",
       "Converted                                           0\n",
       "TotalVisits                                       137\n",
       "Total Time Spent on Website                         0\n",
       "Page Views Per Visit                              137\n",
       "Last Activity                                     103\n",
       "Country                                          2461\n",
       "Specialization                                   3380\n",
       "How did you hear about X Education               7250\n",
       "What is your current occupation                  2690\n",
       "What matters most to you in choosing a course    2709\n",
       "Search                                              0\n",
       "Magazine                                            0\n",
       "Newspaper Article                                   0\n",
       "X Education Forums                                  0\n",
       "Newspaper                                           0\n",
       "Digital Advertisement                               0\n",
       "Through Recommendations                             0\n",
       "Receive More Updates About Our Courses              0\n",
       "Tags                                             3353\n",
       "Lead Quality                                     4767\n",
       "Update me on Supply Chain Content                   0\n",
       "Get updates on DM Content                           0\n",
       "Lead Profile                                     6855\n",
       "City                                             3669\n",
       "Asymmetrique Activity Index                      4218\n",
       "Asymmetrique Profile Index                       4218\n",
       "Asymmetrique Activity Score                      4218\n",
       "Asymmetrique Profile Score                       4218\n",
       "I agree to pay the amount through cheque            0\n",
       "A free copy of Mastering The Interview              0\n",
       "Last Notable Activity                               0\n",
       "dtype: int64"
      ]
     },
     "execution_count": 541,
     "metadata": {},
     "output_type": "execute_result"
    }
   ],
   "source": [
    "# Checking for the null values\n",
    "lead.isnull().sum()"
   ]
  },
  {
   "cell_type": "markdown",
   "id": "15b18156",
   "metadata": {},
   "source": [
    " Null values are present in data"
   ]
  },
  {
   "cell_type": "code",
   "execution_count": 542,
   "id": "3b2e98c3",
   "metadata": {},
   "outputs": [
    {
     "data": {
      "text/plain": [
       "Lead Origin                                       0.00\n",
       "Lead Source                                       0.39\n",
       "Do Not Email                                      0.00\n",
       "Do Not Call                                       0.00\n",
       "Converted                                         0.00\n",
       "TotalVisits                                       1.48\n",
       "Total Time Spent on Website                       0.00\n",
       "Page Views Per Visit                              1.48\n",
       "Last Activity                                     1.11\n",
       "Country                                          26.63\n",
       "Specialization                                   36.58\n",
       "How did you hear about X Education               78.46\n",
       "What is your current occupation                  29.11\n",
       "What matters most to you in choosing a course    29.32\n",
       "Search                                            0.00\n",
       "Magazine                                          0.00\n",
       "Newspaper Article                                 0.00\n",
       "X Education Forums                                0.00\n",
       "Newspaper                                         0.00\n",
       "Digital Advertisement                             0.00\n",
       "Through Recommendations                           0.00\n",
       "Receive More Updates About Our Courses            0.00\n",
       "Tags                                             36.29\n",
       "Lead Quality                                     51.59\n",
       "Update me on Supply Chain Content                 0.00\n",
       "Get updates on DM Content                         0.00\n",
       "Lead Profile                                     74.19\n",
       "City                                             39.71\n",
       "Asymmetrique Activity Index                      45.65\n",
       "Asymmetrique Profile Index                       45.65\n",
       "Asymmetrique Activity Score                      45.65\n",
       "Asymmetrique Profile Score                       45.65\n",
       "I agree to pay the amount through cheque          0.00\n",
       "A free copy of Mastering The Interview            0.00\n",
       "Last Notable Activity                             0.00\n",
       "dtype: float64"
      ]
     },
     "execution_count": 542,
     "metadata": {},
     "output_type": "execute_result"
    }
   ],
   "source": [
    "# Checking for the Null Values Percentage\n",
    "round(100*(lead.isnull().sum()/len(lead.index)), 2)"
   ]
  },
  {
   "cell_type": "markdown",
   "id": "f407272f",
   "metadata": {},
   "source": [
    " Null Values needs to be handled"
   ]
  },
  {
   "cell_type": "code",
   "execution_count": 543,
   "id": "54401072",
   "metadata": {},
   "outputs": [],
   "source": [
    "# dropping featues with more than 40% Missing values\n",
    "column = lead.columns\n",
    "\n",
    "for i in column:\n",
    "    if((100*(lead[i].isnull().sum()/len(lead.index))) >= 40):\n",
    "        lead.drop(i, 1, inplace = True)"
   ]
  },
  {
   "cell_type": "code",
   "execution_count": 544,
   "id": "45ec579f",
   "metadata": {},
   "outputs": [
    {
     "data": {
      "text/plain": [
       "Lead Origin                                       0.00\n",
       "Lead Source                                       0.39\n",
       "Do Not Email                                      0.00\n",
       "Do Not Call                                       0.00\n",
       "Converted                                         0.00\n",
       "TotalVisits                                       1.48\n",
       "Total Time Spent on Website                       0.00\n",
       "Page Views Per Visit                              1.48\n",
       "Last Activity                                     1.11\n",
       "Country                                          26.63\n",
       "Specialization                                   36.58\n",
       "What is your current occupation                  29.11\n",
       "What matters most to you in choosing a course    29.32\n",
       "Search                                            0.00\n",
       "Magazine                                          0.00\n",
       "Newspaper Article                                 0.00\n",
       "X Education Forums                                0.00\n",
       "Newspaper                                         0.00\n",
       "Digital Advertisement                             0.00\n",
       "Through Recommendations                           0.00\n",
       "Receive More Updates About Our Courses            0.00\n",
       "Tags                                             36.29\n",
       "Update me on Supply Chain Content                 0.00\n",
       "Get updates on DM Content                         0.00\n",
       "City                                             39.71\n",
       "I agree to pay the amount through cheque          0.00\n",
       "A free copy of Mastering The Interview            0.00\n",
       "Last Notable Activity                             0.00\n",
       "dtype: float64"
      ]
     },
     "execution_count": 544,
     "metadata": {},
     "output_type": "execute_result"
    }
   ],
   "source": [
    "# Rechecking of Null Values Percentage after Dropping Variable\n",
    "round(100*(lead.isnull().sum()/len(lead.index)), 2)"
   ]
  },
  {
   "cell_type": "markdown",
   "id": "4316146e",
   "metadata": {},
   "source": [
    " \"City\" missing values is 39.71% which comes out to be 40%. We can drop \"City\" as well."
   ]
  },
  {
   "cell_type": "code",
   "execution_count": 545,
   "id": "dc7b5b41",
   "metadata": {},
   "outputs": [],
   "source": [
    "# Dropping \"City\"\n",
    "lead.drop(\"City\",axis = 1,inplace = True)"
   ]
  },
  {
   "cell_type": "code",
   "execution_count": 546,
   "id": "8d31f7e2",
   "metadata": {},
   "outputs": [
    {
     "data": {
      "text/plain": [
       "India                   6492\n",
       "NaN                     2461\n",
       "United States             69\n",
       "United Arab Emirates      53\n",
       "Singapore                 24\n",
       "Saudi Arabia              21\n",
       "United Kingdom            15\n",
       "Australia                 13\n",
       "Qatar                     10\n",
       "Bahrain                    7\n",
       "Hong Kong                  7\n",
       "Oman                       6\n",
       "France                     6\n",
       "unknown                    5\n",
       "Kuwait                     4\n",
       "South Africa               4\n",
       "Canada                     4\n",
       "Nigeria                    4\n",
       "Germany                    4\n",
       "Sweden                     3\n",
       "Philippines                2\n",
       "Uganda                     2\n",
       "Italy                      2\n",
       "Bangladesh                 2\n",
       "Netherlands                2\n",
       "Asia/Pacific Region        2\n",
       "China                      2\n",
       "Belgium                    2\n",
       "Ghana                      2\n",
       "Kenya                      1\n",
       "Sri Lanka                  1\n",
       "Tanzania                   1\n",
       "Malaysia                   1\n",
       "Liberia                    1\n",
       "Switzerland                1\n",
       "Denmark                    1\n",
       "Russia                     1\n",
       "Vietnam                    1\n",
       "Indonesia                  1\n",
       "Name: Country, dtype: int64"
      ]
     },
     "execution_count": 546,
     "metadata": {},
     "output_type": "execute_result"
    }
   ],
   "source": [
    "# Checking values for Country\n",
    "lead['Country'].value_counts(dropna=False)"
   ]
  },
  {
   "cell_type": "markdown",
   "id": "7eed6a59",
   "metadata": {},
   "source": [
    "1. Maximum Values are of India (about 70%), we can drop this column and no fun of imputing Nan Values with India as it it is Maximum Values are of India"
   ]
  },
  {
   "cell_type": "code",
   "execution_count": 547,
   "id": "056e66e4",
   "metadata": {},
   "outputs": [],
   "source": [
    "# Dropping \"Country\"\n",
    "lead.drop(\"Country\",axis = 1,inplace = True)"
   ]
  },
  {
   "cell_type": "code",
   "execution_count": 548,
   "id": "a9c52249",
   "metadata": {},
   "outputs": [
    {
     "data": {
      "text/plain": [
       "Lead Origin                                       0.00\n",
       "Lead Source                                       0.39\n",
       "Do Not Email                                      0.00\n",
       "Do Not Call                                       0.00\n",
       "Converted                                         0.00\n",
       "TotalVisits                                       1.48\n",
       "Total Time Spent on Website                       0.00\n",
       "Page Views Per Visit                              1.48\n",
       "Last Activity                                     1.11\n",
       "Specialization                                   36.58\n",
       "What is your current occupation                  29.11\n",
       "What matters most to you in choosing a course    29.32\n",
       "Search                                            0.00\n",
       "Magazine                                          0.00\n",
       "Newspaper Article                                 0.00\n",
       "X Education Forums                                0.00\n",
       "Newspaper                                         0.00\n",
       "Digital Advertisement                             0.00\n",
       "Through Recommendations                           0.00\n",
       "Receive More Updates About Our Courses            0.00\n",
       "Tags                                             36.29\n",
       "Update me on Supply Chain Content                 0.00\n",
       "Get updates on DM Content                         0.00\n",
       "I agree to pay the amount through cheque          0.00\n",
       "A free copy of Mastering The Interview            0.00\n",
       "Last Notable Activity                             0.00\n",
       "dtype: float64"
      ]
     },
     "execution_count": 548,
     "metadata": {},
     "output_type": "execute_result"
    }
   ],
   "source": [
    "# Rechecking the features after Dropping Feature\n",
    "round(100*(lead.isnull().sum()/len(lead.index)), 2)"
   ]
  },
  {
   "cell_type": "code",
   "execution_count": 549,
   "id": "70257ce2",
   "metadata": {},
   "outputs": [
    {
     "data": {
      "text/plain": [
       "NaN                                                  3353\n",
       "Will revert after reading the email                  2072\n",
       "Ringing                                              1203\n",
       "Interested in other courses                           513\n",
       "Already a student                                     465\n",
       "Closed by Horizzon                                    358\n",
       "switched off                                          240\n",
       "Busy                                                  186\n",
       "Lost to EINS                                          175\n",
       "Not doing further education                           145\n",
       "Interested  in full time MBA                          117\n",
       "Graduation in progress                                111\n",
       "invalid number                                         83\n",
       "Diploma holder (Not Eligible)                          63\n",
       "wrong number given                                     47\n",
       "opp hangup                                             33\n",
       "number not provided                                    27\n",
       "in touch with EINS                                     12\n",
       "Lost to Others                                          7\n",
       "Still Thinking                                          6\n",
       "Want to take admission but has financial problems       6\n",
       "In confusion whether part time or DLP                   5\n",
       "Interested in Next batch                                5\n",
       "Lateral student                                         3\n",
       "Shall take in the next coming month                     2\n",
       "University not recognized                               2\n",
       "Recognition issue (DEC approval)                        1\n",
       "Name: Tags, dtype: int64"
      ]
     },
     "execution_count": 549,
     "metadata": {},
     "output_type": "execute_result"
    }
   ],
   "source": [
    "# Checking \"Tags\" Feature\n",
    "lead['Tags'].value_counts(dropna=False)"
   ]
  },
  {
   "cell_type": "code",
   "execution_count": 550,
   "id": "85d5db7c",
   "metadata": {},
   "outputs": [],
   "source": [
    "# Replacing Nan values with \"Not Specified\"\n",
    "lead['Tags'] = lead['Tags'].replace(np.nan,'Not Specified')"
   ]
  },
  {
   "cell_type": "code",
   "execution_count": 551,
   "id": "020cb734",
   "metadata": {},
   "outputs": [],
   "source": [
    "lead['Tags'] = lead['Tags'].replace([\"invalid number\" , \"Diploma holder (Not Eligible)\", \"wrong number given\" ,\"Not doing further education\",\n",
    "                                       \"opp hangup\", \"number not provided\",\"Lost to Others\",  \"University not recognized\",\"Recognition issue (DEC approval)\"], 'Negative Tags')"
   ]
  },
  {
   "cell_type": "code",
   "execution_count": 552,
   "id": "8dc7b8af",
   "metadata": {},
   "outputs": [],
   "source": [
    "lead['Tags'] = lead['Tags'].replace([\"Interested in Next batch\",\"Shall take in the next coming month\",\"Still Thinking\",\"Interested Prospects\",\"Want to take admission but has financial problems\",\"In confusion whether part time or DLP\",\"Lateral student\"],\"Positive Tags\")"
   ]
  },
  {
   "cell_type": "code",
   "execution_count": 553,
   "id": "1bd38208",
   "metadata": {},
   "outputs": [
    {
     "data": {
      "text/plain": [
       "Not Specified                          3353\n",
       "Will revert after reading the email    2072\n",
       "Ringing                                1203\n",
       "Interested in other courses             513\n",
       "Already a student                       465\n",
       "Negative Tags                           408\n",
       "Closed by Horizzon                      358\n",
       "switched off                            240\n",
       "Busy                                    186\n",
       "Lost to EINS                            175\n",
       "Interested  in full time MBA            117\n",
       "Graduation in progress                  111\n",
       "Positive Tags                            27\n",
       "in touch with EINS                       12\n",
       "Name: Tags, dtype: int64"
      ]
     },
     "execution_count": 553,
     "metadata": {},
     "output_type": "execute_result"
    }
   ],
   "source": [
    "lead['Tags'].value_counts()"
   ]
  },
  {
   "cell_type": "code",
   "execution_count": 554,
   "id": "78024025",
   "metadata": {},
   "outputs": [
    {
     "data": {
      "text/plain": [
       "Lead Origin                                       0.00\n",
       "Lead Source                                       0.39\n",
       "Do Not Email                                      0.00\n",
       "Do Not Call                                       0.00\n",
       "Converted                                         0.00\n",
       "TotalVisits                                       1.48\n",
       "Total Time Spent on Website                       0.00\n",
       "Page Views Per Visit                              1.48\n",
       "Last Activity                                     1.11\n",
       "Specialization                                   36.58\n",
       "What is your current occupation                  29.11\n",
       "What matters most to you in choosing a course    29.32\n",
       "Search                                            0.00\n",
       "Magazine                                          0.00\n",
       "Newspaper Article                                 0.00\n",
       "X Education Forums                                0.00\n",
       "Newspaper                                         0.00\n",
       "Digital Advertisement                             0.00\n",
       "Through Recommendations                           0.00\n",
       "Receive More Updates About Our Courses            0.00\n",
       "Tags                                              0.00\n",
       "Update me on Supply Chain Content                 0.00\n",
       "Get updates on DM Content                         0.00\n",
       "I agree to pay the amount through cheque          0.00\n",
       "A free copy of Mastering The Interview            0.00\n",
       "Last Notable Activity                             0.00\n",
       "dtype: float64"
      ]
     },
     "execution_count": 554,
     "metadata": {},
     "output_type": "execute_result"
    }
   ],
   "source": [
    "# Rechecking the features \n",
    "round(100*(lead.isnull().sum()/len(lead.index)), 2)"
   ]
  },
  {
   "cell_type": "code",
   "execution_count": 555,
   "id": "d42fa3ae",
   "metadata": {},
   "outputs": [
    {
     "data": {
      "text/plain": [
       "NaN                                  3380\n",
       "Finance Management                    976\n",
       "Human Resource Management             848\n",
       "Marketing Management                  838\n",
       "Operations Management                 503\n",
       "Business Administration               403\n",
       "IT Projects Management                366\n",
       "Supply Chain Management               349\n",
       "Banking, Investment And Insurance     338\n",
       "Travel and Tourism                    203\n",
       "Media and Advertising                 203\n",
       "International Business                178\n",
       "Healthcare Management                 159\n",
       "Hospitality Management                114\n",
       "E-COMMERCE                            112\n",
       "Retail Management                     100\n",
       "Rural and Agribusiness                 73\n",
       "E-Business                             57\n",
       "Services Excellence                    40\n",
       "Name: Specialization, dtype: int64"
      ]
     },
     "execution_count": 555,
     "metadata": {},
     "output_type": "execute_result"
    }
   ],
   "source": [
    "# Checking \"Specialization\" Feature\n",
    "lead['Specialization'].value_counts(dropna=False)"
   ]
  },
  {
   "cell_type": "code",
   "execution_count": 556,
   "id": "8552d0da",
   "metadata": {},
   "outputs": [
    {
     "data": {
      "text/plain": [
       "Management Specializations           4253\n",
       "Not Specified                        3380\n",
       "Business Administration               403\n",
       "Banking, Investment And Insurance     338\n",
       "Media and Advertising                 203\n",
       "Travel and Tourism                    203\n",
       "International Business                178\n",
       "E-COMMERCE                            112\n",
       "Rural and Agribusiness                 73\n",
       "E-Business                             57\n",
       "Services Excellence                    40\n",
       "Name: Specialization, dtype: int64"
      ]
     },
     "execution_count": 556,
     "metadata": {},
     "output_type": "execute_result"
    }
   ],
   "source": [
    "# Replacing Nan values with \"Not Specified\"\n",
    "lead['Specialization'] = lead['Specialization'].replace(np.nan,'Not Specified')\n",
    "\n",
    "#combining Management Specializations because they have similar trends\n",
    "\n",
    "lead['Specialization'] = lead['Specialization'].replace(['Finance Management','Human Resource Management',\n",
    "                                                           'Marketing Management','Operations Management',\n",
    "                                                           'IT Projects Management','Supply Chain Management',\n",
    "                                                    'Healthcare Management','Hospitality Management',\n",
    "                                                           'Retail Management'] ,'Management Specializations')  \n",
    "lead['Specialization'].value_counts()"
   ]
  },
  {
   "cell_type": "code",
   "execution_count": 557,
   "id": "9a420cd0",
   "metadata": {},
   "outputs": [
    {
     "data": {
      "text/plain": [
       "Unemployed              5600\n",
       "NaN                     2690\n",
       "Working Professional     706\n",
       "Student                  210\n",
       "Other                     16\n",
       "Housewife                 10\n",
       "Businessman                8\n",
       "Name: What is your current occupation, dtype: int64"
      ]
     },
     "execution_count": 557,
     "metadata": {},
     "output_type": "execute_result"
    }
   ],
   "source": [
    "# Checking \"What is your current occupation\" Feature\n",
    "lead['What is your current occupation'].value_counts(dropna=False)"
   ]
  },
  {
   "cell_type": "code",
   "execution_count": 558,
   "id": "200a83ea",
   "metadata": {},
   "outputs": [],
   "source": [
    "# Replacing Nan values with \"Not Specified\"\n",
    "lead['What is your current occupation'] = lead['What is your current occupation'].replace(np.nan,'Not Specified')"
   ]
  },
  {
   "cell_type": "code",
   "execution_count": 559,
   "id": "dcb507b4",
   "metadata": {},
   "outputs": [
    {
     "data": {
      "text/plain": [
       "Better Career Prospects      6528\n",
       "NaN                          2709\n",
       "Flexibility & Convenience       2\n",
       "Other                           1\n",
       "Name: What matters most to you in choosing a course, dtype: int64"
      ]
     },
     "execution_count": 559,
     "metadata": {},
     "output_type": "execute_result"
    }
   ],
   "source": [
    "# Checking \"What matters most to you in choosing a course\" Feature\n",
    "lead['What matters most to you in choosing a course'].value_counts(dropna=False)"
   ]
  },
  {
   "cell_type": "code",
   "execution_count": 560,
   "id": "c4a25753",
   "metadata": {},
   "outputs": [],
   "source": [
    "# We can drop What matters most to you in choosing a course variable as this is not giving much of information \n",
    "lead.drop(\"What matters most to you in choosing a course\",axis = 1,inplace = True)"
   ]
  },
  {
   "cell_type": "code",
   "execution_count": 561,
   "id": "17834f53",
   "metadata": {},
   "outputs": [
    {
     "data": {
      "text/plain": [
       "Lead Origin                                 0.00\n",
       "Lead Source                                 0.39\n",
       "Do Not Email                                0.00\n",
       "Do Not Call                                 0.00\n",
       "Converted                                   0.00\n",
       "TotalVisits                                 1.48\n",
       "Total Time Spent on Website                 0.00\n",
       "Page Views Per Visit                        1.48\n",
       "Last Activity                               1.11\n",
       "Specialization                              0.00\n",
       "What is your current occupation             0.00\n",
       "Search                                      0.00\n",
       "Magazine                                    0.00\n",
       "Newspaper Article                           0.00\n",
       "X Education Forums                          0.00\n",
       "Newspaper                                   0.00\n",
       "Digital Advertisement                       0.00\n",
       "Through Recommendations                     0.00\n",
       "Receive More Updates About Our Courses      0.00\n",
       "Tags                                        0.00\n",
       "Update me on Supply Chain Content           0.00\n",
       "Get updates on DM Content                   0.00\n",
       "I agree to pay the amount through cheque    0.00\n",
       "A free copy of Mastering The Interview      0.00\n",
       "Last Notable Activity                       0.00\n",
       "dtype: float64"
      ]
     },
     "execution_count": 561,
     "metadata": {},
     "output_type": "execute_result"
    }
   ],
   "source": [
    "# Rechecking the features after Replacing and Imputations of NaN\n",
    "round(100*(lead.isnull().sum()/len(lead.index)), 2)"
   ]
  },
  {
   "cell_type": "code",
   "execution_count": 562,
   "id": "944f443e",
   "metadata": {},
   "outputs": [
    {
     "data": {
      "text/plain": [
       "Google               2868\n",
       "Direct Traffic       2543\n",
       "Olark Chat           1755\n",
       "Organic Search       1154\n",
       "Reference             534\n",
       "Welingak Website      142\n",
       "Referral Sites        125\n",
       "Facebook               55\n",
       "NaN                    36\n",
       "bing                    6\n",
       "google                  5\n",
       "Click2call              4\n",
       "Press_Release           2\n",
       "Social Media            2\n",
       "Live Chat               2\n",
       "youtubechannel          1\n",
       "testone                 1\n",
       "Pay per Click Ads       1\n",
       "welearnblog_Home        1\n",
       "WeLearn                 1\n",
       "blog                    1\n",
       "NC_EDM                  1\n",
       "Name: Lead Source, dtype: int64"
      ]
     },
     "execution_count": 562,
     "metadata": {},
     "output_type": "execute_result"
    }
   ],
   "source": [
    "# Checking \"Lead Source\" Feature\n",
    "lead['Lead Source'].value_counts(dropna=False)"
   ]
  },
  {
   "cell_type": "code",
   "execution_count": 563,
   "id": "fd216d08",
   "metadata": {},
   "outputs": [],
   "source": [
    "# Replacing Nan Values and google with Google\n",
    "lead['Lead Source'] = lead['Lead Source'].replace(np.nan,'Others')\n",
    "lead['Lead Source'] = lead['Lead Source'].replace([\"google\"],'Google')\n",
    "lead['Lead Source'] = lead['Lead Source'].replace([\"Facebook\"],'Social Media')\n",
    "lead['Lead Source'] = lead['Lead Source'].replace(['bing','Click2call','Press_Release',\n",
    "                                                     'youtubechannel','welearnblog_Home',\n",
    "                                                     'WeLearn','blog','Pay per Click Ads',\n",
    "                                                    'testone','NC_EDM'],'Others')"
   ]
  },
  {
   "cell_type": "code",
   "execution_count": 564,
   "id": "95ca42bf",
   "metadata": {},
   "outputs": [
    {
     "data": {
      "text/plain": [
       "Google              2873\n",
       "Direct Traffic      2543\n",
       "Olark Chat          1755\n",
       "Organic Search      1154\n",
       "Reference            534\n",
       "Welingak Website     142\n",
       "Referral Sites       125\n",
       "Social Media          57\n",
       "Others                55\n",
       "Live Chat              2\n",
       "Name: Lead Source, dtype: int64"
      ]
     },
     "execution_count": 564,
     "metadata": {},
     "output_type": "execute_result"
    }
   ],
   "source": [
    "lead['Lead Source'].value_counts()"
   ]
  },
  {
   "cell_type": "code",
   "execution_count": 565,
   "id": "06afa73b",
   "metadata": {},
   "outputs": [
    {
     "data": {
      "text/plain": [
       "1.48"
      ]
     },
     "execution_count": 565,
     "metadata": {},
     "output_type": "execute_result"
    }
   ],
   "source": [
    "# Checking the percent of lose if the null values are removed in rows\n",
    "round(100*(sum(lead.isnull().sum(axis=1) > 1)/lead.shape[0]),2)"
   ]
  },
  {
   "cell_type": "code",
   "execution_count": 566,
   "id": "b8ff59d1",
   "metadata": {},
   "outputs": [],
   "source": [
    "# Drop all rows which have Nan Values. Since the number of Dropped rows is less than 1.50%, it will not affect the model\n",
    "lead_df = lead[lead.isnull().sum(axis=1) <1]"
   ]
  },
  {
   "cell_type": "code",
   "execution_count": 567,
   "id": "1d888fa8",
   "metadata": {},
   "outputs": [
    {
     "data": {
      "text/plain": [
       "98.52"
      ]
     },
     "execution_count": 567,
     "metadata": {},
     "output_type": "execute_result"
    }
   ],
   "source": [
    "# checking percentage of rows left \n",
    "round(100*(lead_df.shape[0])/(lead.shape[0]),2)"
   ]
  },
  {
   "cell_type": "code",
   "execution_count": 568,
   "id": "69d82c63",
   "metadata": {},
   "outputs": [
    {
     "data": {
      "text/plain": [
       "Lead Origin                                 0.0\n",
       "Lead Source                                 0.0\n",
       "Do Not Email                                0.0\n",
       "Do Not Call                                 0.0\n",
       "Converted                                   0.0\n",
       "TotalVisits                                 0.0\n",
       "Total Time Spent on Website                 0.0\n",
       "Page Views Per Visit                        0.0\n",
       "Last Activity                               0.0\n",
       "Specialization                              0.0\n",
       "What is your current occupation             0.0\n",
       "Search                                      0.0\n",
       "Magazine                                    0.0\n",
       "Newspaper Article                           0.0\n",
       "X Education Forums                          0.0\n",
       "Newspaper                                   0.0\n",
       "Digital Advertisement                       0.0\n",
       "Through Recommendations                     0.0\n",
       "Receive More Updates About Our Courses      0.0\n",
       "Tags                                        0.0\n",
       "Update me on Supply Chain Content           0.0\n",
       "Get updates on DM Content                   0.0\n",
       "I agree to pay the amount through cheque    0.0\n",
       "A free copy of Mastering The Interview      0.0\n",
       "Last Notable Activity                       0.0\n",
       "dtype: float64"
      ]
     },
     "execution_count": 568,
     "metadata": {},
     "output_type": "execute_result"
    }
   ],
   "source": [
    "# Rececking For Missing Values or Nan Values Present in Data\n",
    "round(100*(lead_df.isnull().sum()/len(lead_df.index)), 2)"
   ]
  },
  {
   "cell_type": "markdown",
   "id": "211a77c5",
   "metadata": {},
   "source": [
    "No Null Vaues present in Data"
   ]
  },
  {
   "cell_type": "code",
   "execution_count": 569,
   "id": "6160a73e",
   "metadata": {},
   "outputs": [
    {
     "data": {
      "text/plain": [
       "(9103, 25)"
      ]
     },
     "execution_count": 569,
     "metadata": {},
     "output_type": "execute_result"
    }
   ],
   "source": [
    "lead_df.shape\n"
   ]
  },
  {
   "cell_type": "code",
   "execution_count": null,
   "id": "67d5636f",
   "metadata": {},
   "outputs": [],
   "source": [
    "\n"
   ]
  },
  {
   "cell_type": "markdown",
   "id": "ce7fd2ea",
   "metadata": {},
   "source": [
    "# 3. EDA"
   ]
  },
  {
   "cell_type": "code",
   "execution_count": 570,
   "id": "8fb45868",
   "metadata": {},
   "outputs": [
    {
     "name": "stdout",
     "output_type": "stream",
     "text": [
      "Landing Page Submission    4886\n",
      "API                        3578\n",
      "Lead Add Form               608\n",
      "Lead Import                  31\n",
      "Name: Lead Origin, dtype: int64\n",
      "----------------------------------------------------------------------------------------\n",
      "Google              2873\n",
      "Direct Traffic      2543\n",
      "Olark Chat          1753\n",
      "Organic Search      1154\n",
      "Reference            443\n",
      "Welingak Website     129\n",
      "Referral Sites       125\n",
      "Others                48\n",
      "Social Media          33\n",
      "Live Chat              2\n",
      "Name: Lead Source, dtype: int64\n",
      "----------------------------------------------------------------------------------------\n",
      "No     8379\n",
      "Yes     724\n",
      "Name: Do Not Email, dtype: int64\n",
      "----------------------------------------------------------------------------------------\n",
      "No     9101\n",
      "Yes       2\n",
      "Name: Do Not Call, dtype: int64\n",
      "----------------------------------------------------------------------------------------\n",
      "0    5642\n",
      "1    3461\n",
      "Name: Converted, dtype: int64\n",
      "----------------------------------------------------------------------------------------\n",
      "0.0      2189\n",
      "2.0      1680\n",
      "3.0      1306\n",
      "4.0      1120\n",
      "5.0       783\n",
      "6.0       466\n",
      "1.0       395\n",
      "7.0       309\n",
      "8.0       224\n",
      "9.0       164\n",
      "10.0      114\n",
      "11.0       86\n",
      "13.0       48\n",
      "12.0       45\n",
      "14.0       36\n",
      "16.0       21\n",
      "15.0       18\n",
      "17.0       16\n",
      "18.0       15\n",
      "20.0       12\n",
      "19.0        9\n",
      "23.0        6\n",
      "21.0        6\n",
      "24.0        5\n",
      "25.0        5\n",
      "27.0        5\n",
      "22.0        3\n",
      "26.0        2\n",
      "28.0        2\n",
      "29.0        2\n",
      "54.0        1\n",
      "141.0       1\n",
      "115.0       1\n",
      "74.0        1\n",
      "55.0        1\n",
      "30.0        1\n",
      "43.0        1\n",
      "42.0        1\n",
      "41.0        1\n",
      "32.0        1\n",
      "251.0       1\n",
      "Name: TotalVisits, dtype: int64\n",
      "----------------------------------------------------------------------------------------\n",
      "0       2193\n",
      "60        19\n",
      "127       18\n",
      "75        18\n",
      "157       17\n",
      "        ... \n",
      "1355       1\n",
      "600        1\n",
      "601        1\n",
      "603        1\n",
      "2272       1\n",
      "Name: Total Time Spent on Website, Length: 1717, dtype: int64\n",
      "----------------------------------------------------------------------------------------\n",
      "0.0     2189\n",
      "2.0     1795\n",
      "3.0     1196\n",
      "4.0      896\n",
      "1.0      651\n",
      "        ... \n",
      "3.57       1\n",
      "3.8        1\n",
      "3.82       1\n",
      "3.83       1\n",
      "55.0       1\n",
      "Name: Page Views Per Visit, Length: 114, dtype: int64\n",
      "----------------------------------------------------------------------------------------\n",
      "Email Opened                    3437\n",
      "SMS Sent                        2738\n",
      "Olark Chat Conversation          972\n",
      "Page Visited on Website          640\n",
      "Converted to Lead                428\n",
      "Email Bounced                    312\n",
      "Email Link Clicked               267\n",
      "Form Submitted on Website        116\n",
      "Unreachable                       90\n",
      "Unsubscribed                      61\n",
      "Had a Phone Conversation          25\n",
      "View in browser link Clicked       6\n",
      "Approached upfront                 5\n",
      "Email Received                     2\n",
      "Email Marked Spam                  2\n",
      "Resubscribed to emails             1\n",
      "Visited Booth in Tradeshow         1\n",
      "Name: Last Activity, dtype: int64\n",
      "----------------------------------------------------------------------------------------\n",
      "Management Specializations           4204\n",
      "Not Specified                        3304\n",
      "Business Administration               399\n",
      "Banking, Investment And Insurance     335\n",
      "Media and Advertising                 202\n",
      "Travel and Tourism                    202\n",
      "International Business                176\n",
      "E-COMMERCE                            111\n",
      "Rural and Agribusiness                 73\n",
      "E-Business                             57\n",
      "Services Excellence                    40\n",
      "Name: Specialization, dtype: int64\n",
      "----------------------------------------------------------------------------------------\n",
      "Unemployed              5502\n",
      "Not Specified           2683\n",
      "Working Professional     679\n",
      "Student                  207\n",
      "Other                     15\n",
      "Housewife                  9\n",
      "Businessman                8\n",
      "Name: What is your current occupation, dtype: int64\n",
      "----------------------------------------------------------------------------------------\n",
      "No     9089\n",
      "Yes      14\n",
      "Name: Search, dtype: int64\n",
      "----------------------------------------------------------------------------------------\n",
      "No    9103\n",
      "Name: Magazine, dtype: int64\n",
      "----------------------------------------------------------------------------------------\n",
      "No     9101\n",
      "Yes       2\n",
      "Name: Newspaper Article, dtype: int64\n",
      "----------------------------------------------------------------------------------------\n",
      "No     9102\n",
      "Yes       1\n",
      "Name: X Education Forums, dtype: int64\n",
      "----------------------------------------------------------------------------------------\n",
      "No     9102\n",
      "Yes       1\n",
      "Name: Newspaper, dtype: int64\n",
      "----------------------------------------------------------------------------------------\n",
      "No     9099\n",
      "Yes       4\n",
      "Name: Digital Advertisement, dtype: int64\n",
      "----------------------------------------------------------------------------------------\n",
      "No     9096\n",
      "Yes       7\n",
      "Name: Through Recommendations, dtype: int64\n",
      "----------------------------------------------------------------------------------------\n",
      "No    9103\n",
      "Name: Receive More Updates About Our Courses, dtype: int64\n",
      "----------------------------------------------------------------------------------------\n",
      "Not Specified                          3333\n",
      "Will revert after reading the email    2035\n",
      "Ringing                                1189\n",
      "Interested in other courses             509\n",
      "Already a student                       465\n",
      "Negative Tags                           407\n",
      "Closed by Horizzon                      301\n",
      "switched off                            240\n",
      "Busy                                    185\n",
      "Lost to EINS                            173\n",
      "Interested  in full time MBA            116\n",
      "Graduation in progress                  111\n",
      "Positive Tags                            27\n",
      "in touch with EINS                       12\n",
      "Name: Tags, dtype: int64\n",
      "----------------------------------------------------------------------------------------\n",
      "No    9103\n",
      "Name: Update me on Supply Chain Content, dtype: int64\n",
      "----------------------------------------------------------------------------------------\n",
      "No    9103\n",
      "Name: Get updates on DM Content, dtype: int64\n",
      "----------------------------------------------------------------------------------------\n",
      "No    9103\n",
      "Name: I agree to pay the amount through cheque, dtype: int64\n",
      "----------------------------------------------------------------------------------------\n",
      "No     6215\n",
      "Yes    2888\n",
      "Name: A free copy of Mastering The Interview, dtype: int64\n",
      "----------------------------------------------------------------------------------------\n",
      "Modified                        3270\n",
      "Email Opened                    2827\n",
      "SMS Sent                        2172\n",
      "Page Visited on Website          318\n",
      "Olark Chat Conversation          183\n",
      "Email Link Clicked               173\n",
      "Email Bounced                     60\n",
      "Unsubscribed                      47\n",
      "Unreachable                       32\n",
      "Had a Phone Conversation          14\n",
      "Email Marked Spam                  2\n",
      "Approached upfront                 1\n",
      "Email Received                     1\n",
      "Form Submitted on Website          1\n",
      "Resubscribed to emails             1\n",
      "View in browser link Clicked       1\n",
      "Name: Last Notable Activity, dtype: int64\n",
      "----------------------------------------------------------------------------------------\n"
     ]
    }
   ],
   "source": [
    "# for getting all the categorical values\n",
    "\n",
    "\n",
    "for column in lead_df:\n",
    "    print(lead_df[column].astype('category').value_counts())\n",
    "    print('----------------------------------------------------------------------------------------')"
   ]
  },
  {
   "cell_type": "code",
   "execution_count": 571,
   "id": "1ae60105",
   "metadata": {},
   "outputs": [],
   "source": [
    "# Univariate Analysis for Categorial Variables"
   ]
  },
  {
   "cell_type": "code",
   "execution_count": 572,
   "id": "2aead7a3",
   "metadata": {},
   "outputs": [
    {
     "name": "stdout",
     "output_type": "stream",
     "text": [
      "<class 'pandas.core.frame.DataFrame'>\n",
      "Int64Index: 9103 entries, 0 to 9239\n",
      "Data columns (total 25 columns):\n",
      " #   Column                                    Non-Null Count  Dtype  \n",
      "---  ------                                    --------------  -----  \n",
      " 0   Lead Origin                               9103 non-null   object \n",
      " 1   Lead Source                               9103 non-null   object \n",
      " 2   Do Not Email                              9103 non-null   object \n",
      " 3   Do Not Call                               9103 non-null   object \n",
      " 4   Converted                                 9103 non-null   int64  \n",
      " 5   TotalVisits                               9103 non-null   float64\n",
      " 6   Total Time Spent on Website               9103 non-null   int64  \n",
      " 7   Page Views Per Visit                      9103 non-null   float64\n",
      " 8   Last Activity                             9103 non-null   object \n",
      " 9   Specialization                            9103 non-null   object \n",
      " 10  What is your current occupation           9103 non-null   object \n",
      " 11  Search                                    9103 non-null   object \n",
      " 12  Magazine                                  9103 non-null   object \n",
      " 13  Newspaper Article                         9103 non-null   object \n",
      " 14  X Education Forums                        9103 non-null   object \n",
      " 15  Newspaper                                 9103 non-null   object \n",
      " 16  Digital Advertisement                     9103 non-null   object \n",
      " 17  Through Recommendations                   9103 non-null   object \n",
      " 18  Receive More Updates About Our Courses    9103 non-null   object \n",
      " 19  Tags                                      9103 non-null   object \n",
      " 20  Update me on Supply Chain Content         9103 non-null   object \n",
      " 21  Get updates on DM Content                 9103 non-null   object \n",
      " 22  I agree to pay the amount through cheque  9103 non-null   object \n",
      " 23  A free copy of Mastering The Interview    9103 non-null   object \n",
      " 24  Last Notable Activity                     9103 non-null   object \n",
      "dtypes: float64(2), int64(2), object(21)\n",
      "memory usage: 1.8+ MB\n"
     ]
    }
   ],
   "source": [
    "lead_df.info()"
   ]
  },
  {
   "cell_type": "code",
   "execution_count": 573,
   "id": "c6de0621",
   "metadata": {},
   "outputs": [
    {
     "data": {
      "image/png": "[encoded data removed]",
      "text/plain": [
       "<Figure size 1440x2880 with 12 Axes>"
      ]
     },
     "metadata": {
      "needs_background": "light"
     },
     "output_type": "display_data"
    }
   ],
   "source": [
    "plt.figure(figsize = (20,40))\n",
    "\n",
    "plt.subplot(6,2,1)\n",
    "sns.countplot(lead_df['Lead Origin'])\n",
    "plt.title('Lead Origin')\n",
    "\n",
    "plt.subplot(6,2,2)\n",
    "sns.countplot(lead_df['Do Not Email'])\n",
    "plt.title('Do Not Email')\n",
    "\n",
    "plt.subplot(6,2,3)\n",
    "sns.countplot(lead_df['Do Not Call'])\n",
    "plt.title('Do Not Call')\n",
    "\n",
    "plt.subplot(6,2,4)\n",
    "sns.countplot(lead_df['Search'])\n",
    "plt.title('Search')\n",
    "\n",
    "plt.subplot(6,2,5)\n",
    "sns.countplot(lead_df['Newspaper Article'])\n",
    "plt.title('Newspaper Article')\n",
    "\n",
    "plt.subplot(6,2,6)\n",
    "sns.countplot(lead_df['X Education Forums'])\n",
    "plt.title('X Education Forums')\n",
    "\n",
    "plt.subplot(6,2,7)\n",
    "sns.countplot(lead_df['Newspaper'])\n",
    "plt.title('Newspaper')\n",
    "\n",
    "plt.subplot(6,2,8)\n",
    "sns.countplot(lead_df['Digital Advertisement'])\n",
    "plt.title('Digital Advertisement')\n",
    "\n",
    "plt.subplot(6,2,9)\n",
    "sns.countplot(lead_df['Through Recommendations'])\n",
    "plt.title('Through Recommendations')\n",
    "\n",
    "plt.subplot(6,2,10)\n",
    "sns.countplot(lead_df['A free copy of Mastering The Interview'])\n",
    "plt.title('A free copy of Mastering The Interview')\n",
    "\n",
    "plt.subplot(6,2,11)\n",
    "sns.countplot(lead_df['Last Notable Activity']).tick_params(axis='x', rotation = 90)\n",
    "plt.title('Last Notable Activity')\n",
    "\n",
    "plt.subplot(6,2,12)\n",
    "sns.countplot(lead_df['Lead Source']).tick_params(axis='x', rotation = 90)\n",
    "plt.title('Lead Source')\n",
    "\n",
    "plt.show()"
   ]
  },
  {
   "cell_type": "markdown",
   "id": "c5669dd9",
   "metadata": {},
   "source": [
    "### Inferences drawn:\n",
    "1. Through Landing Page Submission followed by Api we can heavily identify the lead.\n",
    "2. Most of the leads want the course details to be mailed.\n",
    "3. Google is the most effective website to generate the leads.\n",
    "4. Imbalance Data also present"
   ]
  },
  {
   "cell_type": "markdown",
   "id": "71f3454c",
   "metadata": {},
   "source": [
    "1. Imbalanced Variables can be dropeed \n",
    "2. Checking Value Counts to check the Imbalance"
   ]
  },
  {
   "cell_type": "code",
   "execution_count": 574,
   "id": "dbbad548",
   "metadata": {},
   "outputs": [
    {
     "data": {
      "text/plain": [
       "No     0.99978\n",
       "Yes    0.00022\n",
       "Name: Do Not Call, dtype: float64"
      ]
     },
     "execution_count": 574,
     "metadata": {},
     "output_type": "execute_result"
    }
   ],
   "source": [
    "lead_df['Do Not Call'].value_counts(normalize=True)"
   ]
  },
  {
   "cell_type": "code",
   "execution_count": 575,
   "id": "5d868e4d",
   "metadata": {},
   "outputs": [
    {
     "data": {
      "text/plain": [
       "['Do Not Call']"
      ]
     },
     "execution_count": 575,
     "metadata": {},
     "output_type": "execute_result"
    }
   ],
   "source": [
    "# 'Do Not Call' feature can be dropped as 99% of data is No\n",
    "drop_col = [\"Do Not Call\"]\n",
    "drop_col"
   ]
  },
  {
   "cell_type": "code",
   "execution_count": 576,
   "id": "e92946d8",
   "metadata": {},
   "outputs": [
    {
     "data": {
      "text/plain": [
       "No     0.998462\n",
       "Yes    0.001538\n",
       "Name: Search, dtype: float64"
      ]
     },
     "execution_count": 576,
     "metadata": {},
     "output_type": "execute_result"
    }
   ],
   "source": [
    "lead_df['Search'].value_counts(normalize=True)"
   ]
  },
  {
   "cell_type": "code",
   "execution_count": 577,
   "id": "b877b802",
   "metadata": {},
   "outputs": [
    {
     "data": {
      "text/plain": [
       "['Do Not Call', 'Search']"
      ]
     },
     "execution_count": 577,
     "metadata": {},
     "output_type": "execute_result"
    }
   ],
   "source": [
    "# 'Search' feature can be dropped as 99% of data is No\n",
    "drop_col.append('Search')\n",
    "drop_col"
   ]
  },
  {
   "cell_type": "code",
   "execution_count": 578,
   "id": "efbd5c30",
   "metadata": {},
   "outputs": [
    {
     "data": {
      "text/plain": [
       "No     0.99978\n",
       "Yes    0.00022\n",
       "Name: Newspaper Article, dtype: float64"
      ]
     },
     "execution_count": 578,
     "metadata": {},
     "output_type": "execute_result"
    }
   ],
   "source": [
    "lead_df['Newspaper Article'].value_counts(normalize=True)"
   ]
  },
  {
   "cell_type": "code",
   "execution_count": 579,
   "id": "7393f841",
   "metadata": {},
   "outputs": [
    {
     "data": {
      "text/plain": [
       "['Do Not Call', 'Search', 'Newspaper Article']"
      ]
     },
     "execution_count": 579,
     "metadata": {},
     "output_type": "execute_result"
    }
   ],
   "source": [
    "# 'Newspaper Article' feature can be dropped as 99% of data is No\n",
    "drop_col.append('Newspaper Article')\n",
    "drop_col"
   ]
  },
  {
   "cell_type": "code",
   "execution_count": 580,
   "id": "4ef0466c",
   "metadata": {},
   "outputs": [
    {
     "data": {
      "text/plain": [
       "No    1.0\n",
       "Name: Magazine, dtype: float64"
      ]
     },
     "execution_count": 580,
     "metadata": {},
     "output_type": "execute_result"
    }
   ],
   "source": [
    "lead_df['Magazine'].value_counts(normalize=True)"
   ]
  },
  {
   "cell_type": "code",
   "execution_count": 581,
   "id": "c63cdbcf",
   "metadata": {},
   "outputs": [
    {
     "data": {
      "text/plain": [
       "['Do Not Call', 'Search', 'Newspaper Article', 'Magazine']"
      ]
     },
     "execution_count": 581,
     "metadata": {},
     "output_type": "execute_result"
    }
   ],
   "source": [
    "# 'Magazine' feature can be dropped\n",
    "drop_col.append('Magazine')\n",
    "drop_col"
   ]
  },
  {
   "cell_type": "code",
   "execution_count": 582,
   "id": "ddb4f920",
   "metadata": {},
   "outputs": [
    {
     "data": {
      "text/plain": [
       "No     0.99989\n",
       "Yes    0.00011\n",
       "Name: X Education Forums, dtype: float64"
      ]
     },
     "execution_count": 582,
     "metadata": {},
     "output_type": "execute_result"
    }
   ],
   "source": [
    "lead_df['X Education Forums'].value_counts(normalize=True)"
   ]
  },
  {
   "cell_type": "code",
   "execution_count": 583,
   "id": "fd5c0219",
   "metadata": {},
   "outputs": [
    {
     "data": {
      "text/plain": [
       "['Do Not Call',\n",
       " 'Search',\n",
       " 'Newspaper Article',\n",
       " 'Magazine',\n",
       " 'X Education Forums']"
      ]
     },
     "execution_count": 583,
     "metadata": {},
     "output_type": "execute_result"
    }
   ],
   "source": [
    "# 'X Education Forums' feature can be dropped as 99% of data is No\n",
    "drop_col.append('X Education Forums')\n",
    "drop_col"
   ]
  },
  {
   "cell_type": "code",
   "execution_count": 584,
   "id": "a013b373",
   "metadata": {},
   "outputs": [
    {
     "data": {
      "text/plain": [
       "No     0.99989\n",
       "Yes    0.00011\n",
       "Name: Newspaper, dtype: float64"
      ]
     },
     "execution_count": 584,
     "metadata": {},
     "output_type": "execute_result"
    }
   ],
   "source": [
    "lead_df['Newspaper'].value_counts(normalize=True)"
   ]
  },
  {
   "cell_type": "code",
   "execution_count": 585,
   "id": "0f726e34",
   "metadata": {},
   "outputs": [
    {
     "data": {
      "text/plain": [
       "['Do Not Call',\n",
       " 'Search',\n",
       " 'Newspaper Article',\n",
       " 'Magazine',\n",
       " 'X Education Forums',\n",
       " 'Newspaper']"
      ]
     },
     "execution_count": 585,
     "metadata": {},
     "output_type": "execute_result"
    }
   ],
   "source": [
    "# 'Newspaper' feature can be dropped as 99% of data is No\n",
    "drop_col.append('Newspaper')\n",
    "drop_col"
   ]
  },
  {
   "cell_type": "code",
   "execution_count": 586,
   "id": "7b6d4d05",
   "metadata": {},
   "outputs": [
    {
     "data": {
      "text/plain": [
       "No     0.999561\n",
       "Yes    0.000439\n",
       "Name: Digital Advertisement, dtype: float64"
      ]
     },
     "execution_count": 586,
     "metadata": {},
     "output_type": "execute_result"
    }
   ],
   "source": [
    "lead_df['Digital Advertisement'].value_counts(normalize=True)"
   ]
  },
  {
   "cell_type": "code",
   "execution_count": 587,
   "id": "46be302d",
   "metadata": {},
   "outputs": [
    {
     "data": {
      "text/plain": [
       "['Do Not Call',\n",
       " 'Search',\n",
       " 'Newspaper Article',\n",
       " 'Magazine',\n",
       " 'X Education Forums',\n",
       " 'Newspaper',\n",
       " 'Digital Advertisement']"
      ]
     },
     "execution_count": 587,
     "metadata": {},
     "output_type": "execute_result"
    }
   ],
   "source": [
    "# 'Digital Advertisement' feature can be dropped as 99% of data is No\n",
    "drop_col.append('Digital Advertisement')\n",
    "drop_col"
   ]
  },
  {
   "cell_type": "code",
   "execution_count": 588,
   "id": "5f504e40",
   "metadata": {},
   "outputs": [
    {
     "data": {
      "text/plain": [
       "No     0.999231\n",
       "Yes    0.000769\n",
       "Name: Through Recommendations, dtype: float64"
      ]
     },
     "execution_count": 588,
     "metadata": {},
     "output_type": "execute_result"
    }
   ],
   "source": [
    "lead_df['Through Recommendations'].value_counts(normalize=True)"
   ]
  },
  {
   "cell_type": "code",
   "execution_count": 589,
   "id": "57e6b593",
   "metadata": {},
   "outputs": [
    {
     "data": {
      "text/plain": [
       "['Do Not Call',\n",
       " 'Search',\n",
       " 'Newspaper Article',\n",
       " 'Magazine',\n",
       " 'X Education Forums',\n",
       " 'Newspaper',\n",
       " 'Digital Advertisement',\n",
       " 'Through Recommendations']"
      ]
     },
     "execution_count": 589,
     "metadata": {},
     "output_type": "execute_result"
    }
   ],
   "source": [
    "# 'Through Recommendations' feature can be dropped as 99% of data is No\n",
    "drop_col.append('Through Recommendations')\n",
    "drop_col"
   ]
  },
  {
   "cell_type": "code",
   "execution_count": 590,
   "id": "d426d538",
   "metadata": {},
   "outputs": [
    {
     "data": {
      "text/plain": [
       "No    1.0\n",
       "Name: Update me on Supply Chain Content, dtype: float64"
      ]
     },
     "execution_count": 590,
     "metadata": {},
     "output_type": "execute_result"
    }
   ],
   "source": [
    "lead_df['Update me on Supply Chain Content'].value_counts(normalize=True)"
   ]
  },
  {
   "cell_type": "code",
   "execution_count": 591,
   "id": "e7213889",
   "metadata": {},
   "outputs": [
    {
     "data": {
      "text/plain": [
       "['Do Not Call',\n",
       " 'Search',\n",
       " 'Newspaper Article',\n",
       " 'Magazine',\n",
       " 'X Education Forums',\n",
       " 'Newspaper',\n",
       " 'Digital Advertisement',\n",
       " 'Through Recommendations',\n",
       " 'Update me on Supply Chain Content']"
      ]
     },
     "execution_count": 591,
     "metadata": {},
     "output_type": "execute_result"
    }
   ],
   "source": [
    "# 'Update me on Supply Chain Content' feature can be dropped \n",
    "drop_col.append('Update me on Supply Chain Content')\n",
    "drop_col"
   ]
  },
  {
   "cell_type": "code",
   "execution_count": 592,
   "id": "537eb4e6",
   "metadata": {},
   "outputs": [
    {
     "data": {
      "text/plain": [
       "No    1.0\n",
       "Name: I agree to pay the amount through cheque, dtype: float64"
      ]
     },
     "execution_count": 592,
     "metadata": {},
     "output_type": "execute_result"
    }
   ],
   "source": [
    "lead_df['I agree to pay the amount through cheque'].value_counts(normalize=True)"
   ]
  },
  {
   "cell_type": "code",
   "execution_count": 593,
   "id": "d5a8c6e0",
   "metadata": {},
   "outputs": [
    {
     "data": {
      "text/plain": [
       "['Do Not Call',\n",
       " 'Search',\n",
       " 'Newspaper Article',\n",
       " 'Magazine',\n",
       " 'X Education Forums',\n",
       " 'Newspaper',\n",
       " 'Digital Advertisement',\n",
       " 'Through Recommendations',\n",
       " 'Update me on Supply Chain Content',\n",
       " 'I agree to pay the amount through cheque']"
      ]
     },
     "execution_count": 593,
     "metadata": {},
     "output_type": "execute_result"
    }
   ],
   "source": [
    "# 'I agree to pay the amount through cheque' feature can be dropped \n",
    "drop_col.append('I agree to pay the amount through cheque')\n",
    "drop_col"
   ]
  },
  {
   "cell_type": "code",
   "execution_count": 594,
   "id": "cb82f14e",
   "metadata": {},
   "outputs": [
    {
     "data": {
      "text/plain": [
       "No    1.0\n",
       "Name: Get updates on DM Content, dtype: float64"
      ]
     },
     "execution_count": 594,
     "metadata": {},
     "output_type": "execute_result"
    }
   ],
   "source": [
    "lead_df['Get updates on DM Content'].value_counts(normalize=True)"
   ]
  },
  {
   "cell_type": "code",
   "execution_count": 595,
   "id": "49933388",
   "metadata": {},
   "outputs": [
    {
     "data": {
      "text/plain": [
       "['Do Not Call',\n",
       " 'Search',\n",
       " 'Newspaper Article',\n",
       " 'Magazine',\n",
       " 'X Education Forums',\n",
       " 'Newspaper',\n",
       " 'Digital Advertisement',\n",
       " 'Through Recommendations',\n",
       " 'Update me on Supply Chain Content',\n",
       " 'I agree to pay the amount through cheque',\n",
       " 'Get updates on DM Content']"
      ]
     },
     "execution_count": 595,
     "metadata": {},
     "output_type": "execute_result"
    }
   ],
   "source": [
    "# ''Get updates on DM Content' feature can be dropped \n",
    "drop_col.append('Get updates on DM Content')\n",
    "drop_col"
   ]
  },
  {
   "cell_type": "code",
   "execution_count": 596,
   "id": "f4ccda50",
   "metadata": {},
   "outputs": [
    {
     "data": {
      "text/plain": [
       "No    1.0\n",
       "Name: Receive More Updates About Our Courses, dtype: float64"
      ]
     },
     "execution_count": 596,
     "metadata": {},
     "output_type": "execute_result"
    }
   ],
   "source": [
    "lead_df['Receive More Updates About Our Courses'].value_counts(normalize=True)"
   ]
  },
  {
   "cell_type": "code",
   "execution_count": 597,
   "id": "55a8409a",
   "metadata": {},
   "outputs": [
    {
     "data": {
      "text/plain": [
       "['Do Not Call',\n",
       " 'Search',\n",
       " 'Newspaper Article',\n",
       " 'Magazine',\n",
       " 'X Education Forums',\n",
       " 'Newspaper',\n",
       " 'Digital Advertisement',\n",
       " 'Through Recommendations',\n",
       " 'Update me on Supply Chain Content',\n",
       " 'I agree to pay the amount through cheque',\n",
       " 'Get updates on DM Content',\n",
       " 'Receive More Updates About Our Courses']"
      ]
     },
     "execution_count": 597,
     "metadata": {},
     "output_type": "execute_result"
    }
   ],
   "source": [
    "# 'Receive More Updates About Our Courses' feature can be dropped \n",
    "drop_col.append('Receive More Updates About Our Courses')\n",
    "drop_col"
   ]
  },
  {
   "cell_type": "code",
   "execution_count": 598,
   "id": "bff233d7",
   "metadata": {},
   "outputs": [
    {
     "name": "stdout",
     "output_type": "stream",
     "text": [
      "<class 'pandas.core.frame.DataFrame'>\n",
      "Int64Index: 9103 entries, 0 to 9239\n",
      "Data columns (total 13 columns):\n",
      " #   Column                                  Non-Null Count  Dtype  \n",
      "---  ------                                  --------------  -----  \n",
      " 0   Lead Origin                             9103 non-null   object \n",
      " 1   Lead Source                             9103 non-null   object \n",
      " 2   Do Not Email                            9103 non-null   object \n",
      " 3   Converted                               9103 non-null   int64  \n",
      " 4   TotalVisits                             9103 non-null   float64\n",
      " 5   Total Time Spent on Website             9103 non-null   int64  \n",
      " 6   Page Views Per Visit                    9103 non-null   float64\n",
      " 7   Last Activity                           9103 non-null   object \n",
      " 8   Specialization                          9103 non-null   object \n",
      " 9   What is your current occupation         9103 non-null   object \n",
      " 10  Tags                                    9103 non-null   object \n",
      " 11  A free copy of Mastering The Interview  9103 non-null   object \n",
      " 12  Last Notable Activity                   9103 non-null   object \n",
      "dtypes: float64(2), int64(2), object(9)\n",
      "memory usage: 1.2+ MB\n"
     ]
    }
   ],
   "source": [
    "#dropping columns\n",
    "lead_df = lead_df.drop(drop_col,1)\n",
    "lead_df.info()"
   ]
  },
  {
   "cell_type": "code",
   "execution_count": 599,
   "id": "f20ed576",
   "metadata": {},
   "outputs": [
    {
     "data": {
      "image/png": "[encoded data removed]",
      "text/plain": [
       "<Figure size 432x288 with 1 Axes>"
      ]
     },
     "metadata": {
      "needs_background": "light"
     },
     "output_type": "display_data"
    }
   ],
   "source": [
    "sns.countplot(lead_df['Specialization']).tick_params(axis='x',rotation=90)\n",
    "plt.title('Specialization')\n",
    "\n",
    "plt.show()"
   ]
  },
  {
   "cell_type": "markdown",
   "id": "58e39e8d",
   "metadata": {},
   "source": [
    "Inference drawn:\n",
    "- Management Specialization have higher number of leads as well as leads converted."
   ]
  },
  {
   "cell_type": "code",
   "execution_count": 600,
   "id": "68aaa620",
   "metadata": {},
   "outputs": [
    {
     "data": {
      "image/png": "[encoded data removed]",
      "text/plain": [
       "<Figure size 432x288 with 1 Axes>"
      ]
     },
     "metadata": {
      "needs_background": "light"
     },
     "output_type": "display_data"
    }
   ],
   "source": [
    "sns.countplot(lead_df['What is your current occupation']).tick_params(axis='x',rotation=90)\n",
    "plt.title('Current Occupation')\n",
    "plt.show()"
   ]
  },
  {
   "cell_type": "markdown",
   "id": "e506edf1",
   "metadata": {},
   "source": [
    "### Inference drawn:\n",
    "- Most of the leads are not working(unemployed)"
   ]
  },
  {
   "cell_type": "code",
   "execution_count": 601,
   "id": "aae94403",
   "metadata": {},
   "outputs": [
    {
     "data": {
      "image/png": "[encoded data removed]",
      "text/plain": [
       "<Figure size 432x288 with 1 Axes>"
      ]
     },
     "metadata": {
      "needs_background": "light"
     },
     "output_type": "display_data"
    }
   ],
   "source": [
    "sns.countplot(lead_df['Last Activity']).tick_params(axis='x',rotation=90)\n",
    "plt.title('Last Activity')\n",
    "plt.show()"
   ]
  },
  {
   "cell_type": "code",
   "execution_count": null,
   "id": "18b00e80",
   "metadata": {},
   "outputs": [],
   "source": []
  },
  {
   "cell_type": "markdown",
   "id": "cd87431c",
   "metadata": {},
   "source": [
    "### Inference drawn:\n",
    "- From the last activity we can see that emails are opened in respect to others."
   ]
  },
  {
   "cell_type": "code",
   "execution_count": 602,
   "id": "cefe933c",
   "metadata": {},
   "outputs": [
    {
     "data": {
      "image/png": "[encoded data removed]",
      "text/plain": [
       "<Figure size 1080x1080 with 3 Axes>"
      ]
     },
     "metadata": {
      "needs_background": "light"
     },
     "output_type": "display_data"
    }
   ],
   "source": [
    "#Univariate Analysis for numerical variables\n",
    "\n",
    "plt.figure(figsize = (15,15))\n",
    "\n",
    "plt.subplot(2,3,1)\n",
    "plt.hist(lead_df['TotalVisits'], bins = 50)\n",
    "plt.title('Total Visits')\n",
    "plt.xlim(0,25)\n",
    "\n",
    "plt.subplot(2,3,2)\n",
    "plt.hist(lead_df['Total Time Spent on Website'], bins = 10)\n",
    "plt.title('Total Time Spent on Website')\n",
    "\n",
    "plt.subplot(2,3,3)\n",
    "plt.hist(lead_df['Page Views Per Visit'], bins = 20)\n",
    "plt.title('Page Views Per Visit')\n",
    "plt.xlim(0,20)\n",
    "plt.show()"
   ]
  },
  {
   "cell_type": "code",
   "execution_count": null,
   "id": "0efd0016",
   "metadata": {},
   "outputs": [],
   "source": []
  },
  {
   "cell_type": "code",
   "execution_count": 603,
   "id": "2fbfebc4",
   "metadata": {},
   "outputs": [
    {
     "data": {
      "image/png": "[encoded data removed]",
      "text/plain": [
       "<Figure size 1440x720 with 2 Axes>"
      ]
     },
     "metadata": {
      "needs_background": "light"
     },
     "output_type": "display_data"
    }
   ],
   "source": [
    "# Checking correlations of numeric values\n",
    "\n",
    "plt.figure(figsize = (20, 10))  ## checking the correlations using heatmap\n",
    "sns.heatmap(lead_df.corr(), annot = True, cmap=\"YlGnBu\")\n",
    "plt.show()"
   ]
  },
  {
   "cell_type": "code",
   "execution_count": null,
   "id": "09bca60e",
   "metadata": {},
   "outputs": [],
   "source": []
  },
  {
   "cell_type": "code",
   "execution_count": 604,
   "id": "55f13ff2",
   "metadata": {},
   "outputs": [],
   "source": [
    "# Checking for Outliers"
   ]
  },
  {
   "cell_type": "code",
   "execution_count": 605,
   "id": "1473875e",
   "metadata": {},
   "outputs": [
    {
     "data": {
      "image/png": "[encoded data removed]",
      "text/plain": [
       "<Figure size 432x432 with 1 Axes>"
      ]
     },
     "metadata": {
      "needs_background": "light"
     },
     "output_type": "display_data"
    }
   ],
   "source": [
    "plt.figure(figsize=(6,6))\n",
    "sns.boxplot(y=lead_df['TotalVisits'])\n",
    "plt.show()"
   ]
  },
  {
   "cell_type": "code",
   "execution_count": 606,
   "id": "cc8006f4",
   "metadata": {},
   "outputs": [
    {
     "data": {
      "text/plain": [
       "count    9103.000000\n",
       "mean        3.445238\n",
       "std         4.854853\n",
       "min         0.000000\n",
       "5%          0.000000\n",
       "25%         1.000000\n",
       "50%         3.000000\n",
       "75%         5.000000\n",
       "90%         7.000000\n",
       "95%        10.000000\n",
       "99%        17.000000\n",
       "max       251.000000\n",
       "Name: TotalVisits, dtype: float64"
      ]
     },
     "execution_count": 606,
     "metadata": {},
     "output_type": "execute_result"
    }
   ],
   "source": [
    "# Outliers are present in TotalVisits\n",
    "lead_df['TotalVisits'].describe(percentiles=[0.05,.25, .5, .75, .90, .95, .99])"
   ]
  },
  {
   "cell_type": "code",
   "execution_count": 607,
   "id": "8668280c",
   "metadata": {},
   "outputs": [
    {
     "data": {
      "image/png": "[encoded data removed]",
      "text/plain": [
       "<Figure size 432x288 with 1 Axes>"
      ]
     },
     "metadata": {
      "needs_background": "light"
     },
     "output_type": "display_data"
    }
   ],
   "source": [
    "# Outlier Treatment: Remove top & bottom 1% \n",
    "\n",
    "Q3 = lead_df.TotalVisits.quantile(0.99)\n",
    "lead_df = lead_df[(lead_df.TotalVisits <= Q3)]\n",
    "Q1 = lead_df.TotalVisits.quantile(0.01)\n",
    "lead_df = lead_df[(lead_df.TotalVisits >= Q1)]\n",
    "sns.boxplot(y=lead_df['TotalVisits'])\n",
    "plt.show()"
   ]
  },
  {
   "cell_type": "code",
   "execution_count": 608,
   "id": "84e69d4a",
   "metadata": {},
   "outputs": [
    {
     "data": {
      "image/png": "[encoded data removed]",
      "text/plain": [
       "<Figure size 432x432 with 1 Axes>"
      ]
     },
     "metadata": {
      "needs_background": "light"
     },
     "output_type": "display_data"
    }
   ],
   "source": [
    "plt.figure(figsize=(6,6))\n",
    "sns.boxplot(y=lead_df['Total Time Spent on Website'])\n",
    "plt.show()"
   ]
  },
  {
   "cell_type": "code",
   "execution_count": 609,
   "id": "0f8a490f",
   "metadata": {},
   "outputs": [],
   "source": [
    "# No Outliers present in Total Time Spent on Website"
   ]
  },
  {
   "cell_type": "code",
   "execution_count": 610,
   "id": "11125672",
   "metadata": {},
   "outputs": [
    {
     "data": {
      "image/png": "[encoded data removed]",
      "text/plain": [
       "<Figure size 432x432 with 1 Axes>"
      ]
     },
     "metadata": {
      "needs_background": "light"
     },
     "output_type": "display_data"
    }
   ],
   "source": [
    "plt.figure(figsize=(6,6))\n",
    "sns.boxplot(y=lead_df['Page Views Per Visit'])\n",
    "plt.show()"
   ]
  },
  {
   "cell_type": "code",
   "execution_count": 611,
   "id": "4224b851",
   "metadata": {},
   "outputs": [
    {
     "data": {
      "text/plain": [
       "count    9020.000000\n",
       "mean        2.337271\n",
       "std         2.062363\n",
       "min         0.000000\n",
       "25%         1.000000\n",
       "50%         2.000000\n",
       "75%         3.000000\n",
       "max        16.000000\n",
       "Name: Page Views Per Visit, dtype: float64"
      ]
     },
     "execution_count": 611,
     "metadata": {},
     "output_type": "execute_result"
    }
   ],
   "source": [
    "# Outliers present in Page per visit\n",
    "#checking spread of \"Page Views Per Visit\"\n",
    "\n",
    "lead_df['Page Views Per Visit'].describe()"
   ]
  },
  {
   "cell_type": "code",
   "execution_count": 612,
   "id": "533b0243",
   "metadata": {},
   "outputs": [
    {
     "data": {
      "image/png": "[encoded data removed]",
      "text/plain": [
       "<Figure size 432x288 with 1 Axes>"
      ]
     },
     "metadata": {
      "needs_background": "light"
     },
     "output_type": "display_data"
    }
   ],
   "source": [
    "# Outlier Treatment: Remove top & bottom 1% \n",
    "\n",
    "Q3 = lead_df['Page Views Per Visit'].quantile(0.99)\n",
    "lead_df = lead_df[lead_df['Page Views Per Visit'] <= Q3]\n",
    "Q1 = lead_df['Page Views Per Visit'].quantile(0.01)\n",
    "leads = lead_df[lead_df['Page Views Per Visit'] >= Q1]\n",
    "sns.boxplot(y=lead_df['Page Views Per Visit'])\n",
    "plt.show()"
   ]
  },
  {
   "cell_type": "code",
   "execution_count": 613,
   "id": "a4f6d39b",
   "metadata": {},
   "outputs": [],
   "source": [
    "# Bivariate Analysis (with target variable: 'Converted') (Categorial Features)"
   ]
  },
  {
   "cell_type": "code",
   "execution_count": 614,
   "id": "f4a6904e",
   "metadata": {},
   "outputs": [
    {
     "data": {
      "image/png": "[encoded data removed]",
      "text/plain": [
       "<Figure size 1080x360 with 2 Axes>"
      ]
     },
     "metadata": {
      "needs_background": "light"
     },
     "output_type": "display_data"
    }
   ],
   "source": [
    "plt.figure(figsize = (15,5))\n",
    "\n",
    "plt.subplot(1,2,1)\n",
    "sns.countplot(x='Lead Origin', hue='Converted', data= lead_df).tick_params(axis='x', rotation = 90)\n",
    "plt.title('Lead Origin')\n",
    "\n",
    "plt.subplot(1,2,2)\n",
    "sns.countplot(x='Lead Source', hue='Converted', data= lead_df).tick_params(axis='x', rotation = 90)\n",
    "plt.title('Lead Source')\n",
    "plt.show()"
   ]
  },
  {
   "cell_type": "code",
   "execution_count": 615,
   "id": "51316e37",
   "metadata": {},
   "outputs": [
    {
     "data": {
      "image/png": "[encoded data removed]",
      "text/plain": [
       "<Figure size 1080x360 with 2 Axes>"
      ]
     },
     "metadata": {
      "needs_background": "light"
     },
     "output_type": "display_data"
    }
   ],
   "source": [
    "plt.figure(figsize = (15,5))\n",
    "\n",
    "plt.subplot(1,2,1)\n",
    "sns.countplot(x='Do Not Email', hue='Converted', data= lead_df).tick_params(axis='x', rotation = 90)\n",
    "plt.title('Do Not Email')\n",
    "\n",
    "plt.subplot(1,2,2)\n",
    "sns.countplot(x='Last Activity', hue='Converted', data= lead_df).tick_params(axis='x', rotation = 90)\n",
    "plt.title('Last Activity')\n",
    "\n",
    "plt.show()"
   ]
  },
  {
   "cell_type": "code",
   "execution_count": null,
   "id": "97983119",
   "metadata": {},
   "outputs": [],
   "source": []
  },
  {
   "cell_type": "code",
   "execution_count": 616,
   "id": "70c85441",
   "metadata": {},
   "outputs": [
    {
     "data": {
      "image/png": "[encoded data removed]",
      "text/plain": [
       "<Figure size 720x360 with 2 Axes>"
      ]
     },
     "metadata": {
      "needs_background": "light"
     },
     "output_type": "display_data"
    }
   ],
   "source": [
    "plt.figure(figsize = (10,5))\n",
    "\n",
    "plt.subplot(1,2,1)\n",
    "sns.countplot(x='Specialization', hue='Converted', data= lead_df).tick_params(axis='x', rotation = 90)\n",
    "plt.title('Specialization')\n",
    "\n",
    "plt.subplot(1,2,2)\n",
    "sns.countplot(x='What is your current occupation', hue='Converted', data= lead_df).tick_params(axis='x', rotation = 90)\n",
    "plt.title('What is your current occupation')\n",
    "plt.show()"
   ]
  },
  {
   "cell_type": "code",
   "execution_count": 617,
   "id": "c3626211",
   "metadata": {},
   "outputs": [
    {
     "data": {
      "image/png": "[encoded data removed]",
      "text/plain": [
       "<Figure size 1080x360 with 2 Axes>"
      ]
     },
     "metadata": {
      "needs_background": "light"
     },
     "output_type": "display_data"
    }
   ],
   "source": [
    "plt.figure(figsize = (15,5))\n",
    "plt.subplot(1,2,1)\n",
    "sns.countplot(x='Last Notable Activity', hue='Converted', data= lead_df).tick_params(axis='x', rotation = 90)\n",
    "plt.title('Last Notable Activity')\n",
    "\n",
    "plt.subplot(1,2,2)\n",
    "sns.countplot(x='A free copy of Mastering The Interview', hue='Converted', data= lead_df).tick_params(axis='x', rotation = 90)\n",
    "plt.title('A free copy of Mastering The Interview')\n",
    "plt.show()"
   ]
  },
  {
   "cell_type": "markdown",
   "id": "14217859",
   "metadata": {},
   "source": [
    "Infrences\n",
    "1. Working Professionals have high chances of joining the course.\n",
    "2. Maximum leads are generated through Google and Direct traffic.\n",
    "3. Conversion Rate of reference leads and leads through welingak website is high.\n",
    "4. API and Landing Page Submission bring higher number of leads as well as conversion.\n",
    "5. Lead Add Form has a very high conversion rate but count of leads are not high.\n",
    "6. Lead Import and Quick Add Form get very few leads.\n"
   ]
  },
  {
   "cell_type": "code",
   "execution_count": 618,
   "id": "01cf96d8",
   "metadata": {},
   "outputs": [],
   "source": [
    "# Bivariate Analysis (with target variable: 'Converted') (Numerical Features)"
   ]
  },
  {
   "cell_type": "code",
   "execution_count": 619,
   "id": "c2442a52",
   "metadata": {},
   "outputs": [
    {
     "data": {
      "image/png": "[encoded data removed]",
      "text/plain": [
       "<Figure size 432x288 with 1 Axes>"
      ]
     },
     "metadata": {
      "needs_background": "light"
     },
     "output_type": "display_data"
    }
   ],
   "source": [
    "#checking Spread of \"Total Visits\" vs Converted variable\n",
    "sns.boxplot(y = 'TotalVisits', x = 'Converted', data = lead_df)\n",
    "plt.show()"
   ]
  },
  {
   "cell_type": "code",
   "execution_count": 620,
   "id": "ad1aca11",
   "metadata": {},
   "outputs": [
    {
     "data": {
      "image/png": "[encoded data removed]",
      "text/plain": [
       "<Figure size 432x288 with 1 Axes>"
      ]
     },
     "metadata": {
      "needs_background": "light"
     },
     "output_type": "display_data"
    }
   ],
   "source": [
    "#checking Spread of \"Total Time Spent on Website\" vs Converted variable\n",
    "\n",
    "sns.boxplot(x=lead_df.Converted, y=lead_df['Total Time Spent on Website'])\n",
    "plt.show()"
   ]
  },
  {
   "cell_type": "code",
   "execution_count": 621,
   "id": "439e58f8",
   "metadata": {},
   "outputs": [
    {
     "data": {
      "image/png": "[encoded data removed]",
      "text/plain": [
       "<Figure size 432x288 with 1 Axes>"
      ]
     },
     "metadata": {
      "needs_background": "light"
     },
     "output_type": "display_data"
    }
   ],
   "source": [
    "#checking Spread of \"Page Views Per Visit\" vs Converted variable\n",
    "\n",
    "sns.boxplot(x=lead_df.Converted,y=lead_df['Page Views Per Visit'])\n",
    "plt.show()"
   ]
  },
  {
   "cell_type": "markdown",
   "id": "2f270d4a",
   "metadata": {},
   "source": [
    " Infrences\n",
    "1. Median for converted and not-converted leads are same on Total Visits\n",
    "2. Nothng conclusive on Total Visits\n",
    "3. Leads spending more time on the website are likely to be converted.\n",
    "4. Website should be made engaging to make leads spend more time.\n",
    "5. Median for converted and unconverted leads are same on Page Views Per Visit.\n",
    "6. Nothing Conclusive for lead conversion from Page Views Per Visit"
   ]
  },
  {
   "cell_type": "markdown",
   "id": "d072bac3",
   "metadata": {},
   "source": [
    "# 4. Dummy Variables"
   ]
  },
  {
   "cell_type": "code",
   "execution_count": 622,
   "id": "647ca5db",
   "metadata": {},
   "outputs": [
    {
     "data": {
      "text/plain": [
       "Index(['Lead Origin', 'Lead Source', 'Do Not Email', 'Last Activity',\n",
       "       'Specialization', 'What is your current occupation', 'Tags',\n",
       "       'A free copy of Mastering The Interview', 'Last Notable Activity'],\n",
       "      dtype='object')"
      ]
     },
     "execution_count": 622,
     "metadata": {},
     "output_type": "execute_result"
    }
   ],
   "source": [
    "col_cat = lead_df.select_dtypes(include= ['object']).columns\n",
    "col_cat"
   ]
  },
  {
   "cell_type": "code",
   "execution_count": 623,
   "id": "17f05b77",
   "metadata": {},
   "outputs": [
    {
     "name": "stdout",
     "output_type": "stream",
     "text": [
      "<class 'pandas.core.frame.DataFrame'>\n",
      "Int64Index: 8953 entries, 0 to 9239\n",
      "Data columns (total 13 columns):\n",
      " #   Column                                  Non-Null Count  Dtype  \n",
      "---  ------                                  --------------  -----  \n",
      " 0   Lead Origin                             8953 non-null   object \n",
      " 1   Lead Source                             8953 non-null   object \n",
      " 2   Do Not Email                            8953 non-null   object \n",
      " 3   Converted                               8953 non-null   int64  \n",
      " 4   TotalVisits                             8953 non-null   float64\n",
      " 5   Total Time Spent on Website             8953 non-null   int64  \n",
      " 6   Page Views Per Visit                    8953 non-null   float64\n",
      " 7   Last Activity                           8953 non-null   object \n",
      " 8   Specialization                          8953 non-null   object \n",
      " 9   What is your current occupation         8953 non-null   object \n",
      " 10  Tags                                    8953 non-null   object \n",
      " 11  A free copy of Mastering The Interview  8953 non-null   object \n",
      " 12  Last Notable Activity                   8953 non-null   object \n",
      "dtypes: float64(2), int64(2), object(9)\n",
      "memory usage: 1.2+ MB\n"
     ]
    }
   ],
   "source": [
    "lead_df.info()"
   ]
  },
  {
   "cell_type": "code",
   "execution_count": 624,
   "id": "3d31a73f",
   "metadata": {},
   "outputs": [],
   "source": [
    "# variables which is mapped\n",
    "# List of variables to map\n",
    "\n",
    "var_lst =  ['A free copy of Mastering The Interview','Do Not Email']\n",
    "\n",
    "# Defining the map function\n",
    "def bin_map(x):\n",
    "    return x.map({'Yes': 1, \"No\": 0})\n",
    "\n",
    "# Applying the function to the housing list\n",
    "lead_df[var_lst] = lead_df[var_lst].apply(bin_map)\n"
   ]
  },
  {
   "cell_type": "code",
   "execution_count": 625,
   "id": "ff1f90ab",
   "metadata": {},
   "outputs": [],
   "source": [
    "dummy01=pd.get_dummies(lead_df[['Lead Origin','What is your current occupation']],drop_first=True)\n",
    "lead_df= pd.concat([lead_df,dummy01],1)"
   ]
  },
  {
   "cell_type": "code",
   "execution_count": 626,
   "id": "1a9e7846",
   "metadata": {},
   "outputs": [],
   "source": [
    "dummy01 = pd.get_dummies(lead_df['Specialization'], prefix  = 'Specialization')\n",
    "dummy01 = dummy01.drop(['Specialization_Not Specified'], 1)\n",
    "lead_df = pd.concat([lead_df, dummy01], axis = 1)"
   ]
  },
  {
   "cell_type": "code",
   "execution_count": 627,
   "id": "5bf79f58",
   "metadata": {},
   "outputs": [],
   "source": [
    "dummy01 = pd.get_dummies(lead_df['Lead Source'], prefix  = 'Lead Source')\n",
    "dummy01 = dummy01.drop(['Lead Source_Others'], 1)\n",
    "lead_df = pd.concat([lead_df, dummy01], axis = 1)"
   ]
  },
  {
   "cell_type": "code",
   "execution_count": 628,
   "id": "0e82a632",
   "metadata": {},
   "outputs": [],
   "source": [
    "# grouping some categories from the column 'Last Activity' as it is not making any sort of difference.\n",
    "\n",
    "\n",
    "lead_df['Last Activity'] = lead_df['Last Activity'].replace(['Unreachable','Unsubscribed',\n",
    "                                                        'Had a Phone Conversation', \n",
    "                                                        'Approached upfront',\n",
    "                                                        'View in browser link Clicked',       \n",
    "                                                        'Email Marked Spam',                  \n",
    "                                                        'Email Received','Resubscribed to emails',\n",
    "                                                         'Visited Booth in Tradeshow'],'Others')\n",
    "\n",
    "dummy01 = pd.get_dummies(lead_df['Last Activity'], prefix  = 'Last Activity')\n",
    "dummy01 = dummy01.drop(['Last Activity_Others'], 1)\n",
    "lead_df = pd.concat([lead_df, dummy01], axis = 1) "
   ]
  },
  {
   "cell_type": "code",
   "execution_count": 629,
   "id": "328931d9",
   "metadata": {},
   "outputs": [],
   "source": [
    "#clubbing lower frequency values\n",
    "\n",
    "lead_df['Last Notable Activity'] = lead_df['Last Notable Activity'].replace(['Had a Phone Conversation',\n",
    "                                                                       'Email Marked Spam',\n",
    "                                                                         'Unreachable',\n",
    "                                                                         'Unsubscribed',\n",
    "                                                                         'Email Bounced',                                                                    \n",
    "                                                                       'Resubscribed to emails',\n",
    "                                                                       'View in browser link Clicked',\n",
    "                                                                       'Approached upfront', \n",
    "                                                                       'Form Submitted on Website', \n",
    "                                                                       'Email Received'],'Other_Notable_activity')"
   ]
  },
  {
   "cell_type": "code",
   "execution_count": 630,
   "id": "8ad15b81",
   "metadata": {},
   "outputs": [],
   "source": [
    "dummy01 = pd.get_dummies(lead_df['Last Notable Activity'], prefix  = 'Last Notable Activity')\n",
    "dummy01 = dummy01.drop(['Last Notable Activity_Other_Notable_activity'], 1)\n",
    "lead_df = pd.concat([lead_df, dummy01], axis = 1)\n",
    "\n",
    "dummy01 = pd.get_dummies(lead_df['Tags'], prefix  = 'Tags')\n",
    "dummy01 = dummy01.drop(['Tags_Not Specified'], 1)\n",
    "lead_df = pd.concat([lead_df, dummy01], axis = 1)"
   ]
  },
  {
   "cell_type": "code",
   "execution_count": 631,
   "id": "5fc90ca5",
   "metadata": {},
   "outputs": [],
   "source": [
    "#dropping the original columns after dummy variable creation\n",
    "\n",
    "lead_df.drop(col_cat,1,inplace = True)"
   ]
  },
  {
   "cell_type": "code",
   "execution_count": 632,
   "id": "f0e19cce",
   "metadata": {},
   "outputs": [
    {
     "data": {
      "text/html": [
       "<div>\n",
       "<style scoped>\n",
       "    .dataframe tbody tr th:only-of-type {\n",
       "        vertical-align: middle;\n",
       "    }\n",
       "\n",
       "    .dataframe tbody tr th {\n",
       "        vertical-align: top;\n",
       "    }\n",
       "\n",
       "    .dataframe thead th {\n",
       "        text-align: right;\n",
       "    }\n",
       "</style>\n",
       "<table border=\"1\" class=\"dataframe\">\n",
       "  <thead>\n",
       "    <tr style=\"text-align: right;\">\n",
       "      <th></th>\n",
       "      <th>Converted</th>\n",
       "      <th>TotalVisits</th>\n",
       "      <th>Total Time Spent on Website</th>\n",
       "      <th>Page Views Per Visit</th>\n",
       "      <th>Lead Origin_Landing Page Submission</th>\n",
       "      <th>Lead Origin_Lead Add Form</th>\n",
       "      <th>Lead Origin_Lead Import</th>\n",
       "      <th>What is your current occupation_Housewife</th>\n",
       "      <th>What is your current occupation_Not Specified</th>\n",
       "      <th>What is your current occupation_Other</th>\n",
       "      <th>...</th>\n",
       "      <th>Tags_Graduation in progress</th>\n",
       "      <th>Tags_Interested  in full time MBA</th>\n",
       "      <th>Tags_Interested in other courses</th>\n",
       "      <th>Tags_Lost to EINS</th>\n",
       "      <th>Tags_Negative Tags</th>\n",
       "      <th>Tags_Positive Tags</th>\n",
       "      <th>Tags_Ringing</th>\n",
       "      <th>Tags_Will revert after reading the email</th>\n",
       "      <th>Tags_in touch with EINS</th>\n",
       "      <th>Tags_switched off</th>\n",
       "    </tr>\n",
       "  </thead>\n",
       "  <tbody>\n",
       "    <tr>\n",
       "      <th>0</th>\n",
       "      <td>0</td>\n",
       "      <td>0.0</td>\n",
       "      <td>0</td>\n",
       "      <td>0.0</td>\n",
       "      <td>0</td>\n",
       "      <td>0</td>\n",
       "      <td>0</td>\n",
       "      <td>0</td>\n",
       "      <td>0</td>\n",
       "      <td>0</td>\n",
       "      <td>...</td>\n",
       "      <td>0</td>\n",
       "      <td>0</td>\n",
       "      <td>1</td>\n",
       "      <td>0</td>\n",
       "      <td>0</td>\n",
       "      <td>0</td>\n",
       "      <td>0</td>\n",
       "      <td>0</td>\n",
       "      <td>0</td>\n",
       "      <td>0</td>\n",
       "    </tr>\n",
       "    <tr>\n",
       "      <th>1</th>\n",
       "      <td>0</td>\n",
       "      <td>5.0</td>\n",
       "      <td>674</td>\n",
       "      <td>2.5</td>\n",
       "      <td>0</td>\n",
       "      <td>0</td>\n",
       "      <td>0</td>\n",
       "      <td>0</td>\n",
       "      <td>0</td>\n",
       "      <td>0</td>\n",
       "      <td>...</td>\n",
       "      <td>0</td>\n",
       "      <td>0</td>\n",
       "      <td>0</td>\n",
       "      <td>0</td>\n",
       "      <td>0</td>\n",
       "      <td>0</td>\n",
       "      <td>1</td>\n",
       "      <td>0</td>\n",
       "      <td>0</td>\n",
       "      <td>0</td>\n",
       "    </tr>\n",
       "    <tr>\n",
       "      <th>2</th>\n",
       "      <td>1</td>\n",
       "      <td>2.0</td>\n",
       "      <td>1532</td>\n",
       "      <td>2.0</td>\n",
       "      <td>1</td>\n",
       "      <td>0</td>\n",
       "      <td>0</td>\n",
       "      <td>0</td>\n",
       "      <td>0</td>\n",
       "      <td>0</td>\n",
       "      <td>...</td>\n",
       "      <td>0</td>\n",
       "      <td>0</td>\n",
       "      <td>0</td>\n",
       "      <td>0</td>\n",
       "      <td>0</td>\n",
       "      <td>0</td>\n",
       "      <td>0</td>\n",
       "      <td>1</td>\n",
       "      <td>0</td>\n",
       "      <td>0</td>\n",
       "    </tr>\n",
       "    <tr>\n",
       "      <th>3</th>\n",
       "      <td>0</td>\n",
       "      <td>1.0</td>\n",
       "      <td>305</td>\n",
       "      <td>1.0</td>\n",
       "      <td>1</td>\n",
       "      <td>0</td>\n",
       "      <td>0</td>\n",
       "      <td>0</td>\n",
       "      <td>0</td>\n",
       "      <td>0</td>\n",
       "      <td>...</td>\n",
       "      <td>0</td>\n",
       "      <td>0</td>\n",
       "      <td>0</td>\n",
       "      <td>0</td>\n",
       "      <td>0</td>\n",
       "      <td>0</td>\n",
       "      <td>1</td>\n",
       "      <td>0</td>\n",
       "      <td>0</td>\n",
       "      <td>0</td>\n",
       "    </tr>\n",
       "    <tr>\n",
       "      <th>4</th>\n",
       "      <td>1</td>\n",
       "      <td>2.0</td>\n",
       "      <td>1428</td>\n",
       "      <td>1.0</td>\n",
       "      <td>1</td>\n",
       "      <td>0</td>\n",
       "      <td>0</td>\n",
       "      <td>0</td>\n",
       "      <td>0</td>\n",
       "      <td>0</td>\n",
       "      <td>...</td>\n",
       "      <td>0</td>\n",
       "      <td>0</td>\n",
       "      <td>0</td>\n",
       "      <td>0</td>\n",
       "      <td>0</td>\n",
       "      <td>0</td>\n",
       "      <td>0</td>\n",
       "      <td>1</td>\n",
       "      <td>0</td>\n",
       "      <td>0</td>\n",
       "    </tr>\n",
       "  </tbody>\n",
       "</table>\n",
       "<p>5 rows × 59 columns</p>\n",
       "</div>"
      ],
      "text/plain": [
       "   Converted  TotalVisits  Total Time Spent on Website  Page Views Per Visit  \\\n",
       "0          0          0.0                            0                   0.0   \n",
       "1          0          5.0                          674                   2.5   \n",
       "2          1          2.0                         1532                   2.0   \n",
       "3          0          1.0                          305                   1.0   \n",
       "4          1          2.0                         1428                   1.0   \n",
       "\n",
       "   Lead Origin_Landing Page Submission  Lead Origin_Lead Add Form  \\\n",
       "0                                    0                          0   \n",
       "1                                    0                          0   \n",
       "2                                    1                          0   \n",
       "3                                    1                          0   \n",
       "4                                    1                          0   \n",
       "\n",
       "   Lead Origin_Lead Import  What is your current occupation_Housewife  \\\n",
       "0                        0                                          0   \n",
       "1                        0                                          0   \n",
       "2                        0                                          0   \n",
       "3                        0                                          0   \n",
       "4                        0                                          0   \n",
       "\n",
       "   What is your current occupation_Not Specified  \\\n",
       "0                                              0   \n",
       "1                                              0   \n",
       "2                                              0   \n",
       "3                                              0   \n",
       "4                                              0   \n",
       "\n",
       "   What is your current occupation_Other  ...  Tags_Graduation in progress  \\\n",
       "0                                      0  ...                            0   \n",
       "1                                      0  ...                            0   \n",
       "2                                      0  ...                            0   \n",
       "3                                      0  ...                            0   \n",
       "4                                      0  ...                            0   \n",
       "\n",
       "   Tags_Interested  in full time MBA  Tags_Interested in other courses  \\\n",
       "0                                  0                                 1   \n",
       "1                                  0                                 0   \n",
       "2                                  0                                 0   \n",
       "3                                  0                                 0   \n",
       "4                                  0                                 0   \n",
       "\n",
       "   Tags_Lost to EINS  Tags_Negative Tags  Tags_Positive Tags  Tags_Ringing  \\\n",
       "0                  0                   0                   0             0   \n",
       "1                  0                   0                   0             1   \n",
       "2                  0                   0                   0             0   \n",
       "3                  0                   0                   0             1   \n",
       "4                  0                   0                   0             0   \n",
       "\n",
       "   Tags_Will revert after reading the email  Tags_in touch with EINS  \\\n",
       "0                                         0                        0   \n",
       "1                                         0                        0   \n",
       "2                                         1                        0   \n",
       "3                                         0                        0   \n",
       "4                                         1                        0   \n",
       "\n",
       "   Tags_switched off  \n",
       "0                  0  \n",
       "1                  0  \n",
       "2                  0  \n",
       "3                  0  \n",
       "4                  0  \n",
       "\n",
       "[5 rows x 59 columns]"
      ]
     },
     "execution_count": 632,
     "metadata": {},
     "output_type": "execute_result"
    }
   ],
   "source": [
    "lead_df.head()"
   ]
  },
  {
   "cell_type": "markdown",
   "id": "0604f784",
   "metadata": {},
   "source": [
    "# 5.Train-test-Split"
   ]
  },
  {
   "cell_type": "code",
   "execution_count": 633,
   "id": "0e76cfcc",
   "metadata": {},
   "outputs": [],
   "source": [
    "# Putting response variable to y and rest of the variables are present in X\n",
    "y = lead_df['Converted']\n",
    "y.head()\n",
    "X=lead_df.drop('Converted', axis=1)"
   ]
  },
  {
   "cell_type": "code",
   "execution_count": 634,
   "id": "a0fe44bd",
   "metadata": {},
   "outputs": [],
   "source": [
    "X_train, X_test, y_train, y_test = train_test_split(X, y, train_size=0.7, test_size=0.3, random_state=100,stratify = y)"
   ]
  },
  {
   "cell_type": "code",
   "execution_count": 635,
   "id": "89e26256",
   "metadata": {},
   "outputs": [
    {
     "name": "stdout",
     "output_type": "stream",
     "text": [
      "<class 'pandas.core.frame.DataFrame'>\n",
      "Int64Index: 6267 entries, 2389 to 1113\n",
      "Data columns (total 58 columns):\n",
      " #   Column                                                Non-Null Count  Dtype  \n",
      "---  ------                                                --------------  -----  \n",
      " 0   TotalVisits                                           6267 non-null   float64\n",
      " 1   Total Time Spent on Website                           6267 non-null   int64  \n",
      " 2   Page Views Per Visit                                  6267 non-null   float64\n",
      " 3   Lead Origin_Landing Page Submission                   6267 non-null   uint8  \n",
      " 4   Lead Origin_Lead Add Form                             6267 non-null   uint8  \n",
      " 5   Lead Origin_Lead Import                               6267 non-null   uint8  \n",
      " 6   What is your current occupation_Housewife             6267 non-null   uint8  \n",
      " 7   What is your current occupation_Not Specified         6267 non-null   uint8  \n",
      " 8   What is your current occupation_Other                 6267 non-null   uint8  \n",
      " 9   What is your current occupation_Student               6267 non-null   uint8  \n",
      " 10  What is your current occupation_Unemployed            6267 non-null   uint8  \n",
      " 11  What is your current occupation_Working Professional  6267 non-null   uint8  \n",
      " 12  Specialization_Banking, Investment And Insurance      6267 non-null   uint8  \n",
      " 13  Specialization_Business Administration                6267 non-null   uint8  \n",
      " 14  Specialization_E-Business                             6267 non-null   uint8  \n",
      " 15  Specialization_E-COMMERCE                             6267 non-null   uint8  \n",
      " 16  Specialization_International Business                 6267 non-null   uint8  \n",
      " 17  Specialization_Management Specializations             6267 non-null   uint8  \n",
      " 18  Specialization_Media and Advertising                  6267 non-null   uint8  \n",
      " 19  Specialization_Rural and Agribusiness                 6267 non-null   uint8  \n",
      " 20  Specialization_Services Excellence                    6267 non-null   uint8  \n",
      " 21  Specialization_Travel and Tourism                     6267 non-null   uint8  \n",
      " 22  Lead Source_Direct Traffic                            6267 non-null   uint8  \n",
      " 23  Lead Source_Google                                    6267 non-null   uint8  \n",
      " 24  Lead Source_Live Chat                                 6267 non-null   uint8  \n",
      " 25  Lead Source_Olark Chat                                6267 non-null   uint8  \n",
      " 26  Lead Source_Organic Search                            6267 non-null   uint8  \n",
      " 27  Lead Source_Reference                                 6267 non-null   uint8  \n",
      " 28  Lead Source_Referral Sites                            6267 non-null   uint8  \n",
      " 29  Lead Source_Social Media                              6267 non-null   uint8  \n",
      " 30  Lead Source_Welingak Website                          6267 non-null   uint8  \n",
      " 31  Last Activity_Converted to Lead                       6267 non-null   uint8  \n",
      " 32  Last Activity_Email Bounced                           6267 non-null   uint8  \n",
      " 33  Last Activity_Email Link Clicked                      6267 non-null   uint8  \n",
      " 34  Last Activity_Email Opened                            6267 non-null   uint8  \n",
      " 35  Last Activity_Form Submitted on Website               6267 non-null   uint8  \n",
      " 36  Last Activity_Olark Chat Conversation                 6267 non-null   uint8  \n",
      " 37  Last Activity_Page Visited on Website                 6267 non-null   uint8  \n",
      " 38  Last Activity_SMS Sent                                6267 non-null   uint8  \n",
      " 39  Last Notable Activity_Email Link Clicked              6267 non-null   uint8  \n",
      " 40  Last Notable Activity_Email Opened                    6267 non-null   uint8  \n",
      " 41  Last Notable Activity_Modified                        6267 non-null   uint8  \n",
      " 42  Last Notable Activity_Olark Chat Conversation         6267 non-null   uint8  \n",
      " 43  Last Notable Activity_Page Visited on Website         6267 non-null   uint8  \n",
      " 44  Last Notable Activity_SMS Sent                        6267 non-null   uint8  \n",
      " 45  Tags_Already a student                                6267 non-null   uint8  \n",
      " 46  Tags_Busy                                             6267 non-null   uint8  \n",
      " 47  Tags_Closed by Horizzon                               6267 non-null   uint8  \n",
      " 48  Tags_Graduation in progress                           6267 non-null   uint8  \n",
      " 49  Tags_Interested  in full time MBA                     6267 non-null   uint8  \n",
      " 50  Tags_Interested in other courses                      6267 non-null   uint8  \n",
      " 51  Tags_Lost to EINS                                     6267 non-null   uint8  \n",
      " 52  Tags_Negative Tags                                    6267 non-null   uint8  \n",
      " 53  Tags_Positive Tags                                    6267 non-null   uint8  \n",
      " 54  Tags_Ringing                                          6267 non-null   uint8  \n",
      " 55  Tags_Will revert after reading the email              6267 non-null   uint8  \n",
      " 56  Tags_in touch with EINS                               6267 non-null   uint8  \n",
      " 57  Tags_switched off                                     6267 non-null   uint8  \n",
      "dtypes: float64(2), int64(1), uint8(55)\n",
      "memory usage: 532.5 KB\n"
     ]
    }
   ],
   "source": [
    "X_train.info()"
   ]
  },
  {
   "cell_type": "markdown",
   "id": "ccdb821d",
   "metadata": {},
   "source": [
    "# 6.Scaling of the Data"
   ]
  },
  {
   "cell_type": "code",
   "execution_count": 636,
   "id": "20465f3f",
   "metadata": {},
   "outputs": [
    {
     "data": {
      "text/html": [
       "<div>\n",
       "<style scoped>\n",
       "    .dataframe tbody tr th:only-of-type {\n",
       "        vertical-align: middle;\n",
       "    }\n",
       "\n",
       "    .dataframe tbody tr th {\n",
       "        vertical-align: top;\n",
       "    }\n",
       "\n",
       "    .dataframe thead th {\n",
       "        text-align: right;\n",
       "    }\n",
       "</style>\n",
       "<table border=\"1\" class=\"dataframe\">\n",
       "  <thead>\n",
       "    <tr style=\"text-align: right;\">\n",
       "      <th></th>\n",
       "      <th>TotalVisits</th>\n",
       "      <th>Total Time Spent on Website</th>\n",
       "      <th>Page Views Per Visit</th>\n",
       "      <th>Lead Origin_Landing Page Submission</th>\n",
       "      <th>Lead Origin_Lead Add Form</th>\n",
       "      <th>Lead Origin_Lead Import</th>\n",
       "      <th>What is your current occupation_Housewife</th>\n",
       "      <th>What is your current occupation_Not Specified</th>\n",
       "      <th>What is your current occupation_Other</th>\n",
       "      <th>What is your current occupation_Student</th>\n",
       "      <th>...</th>\n",
       "      <th>Tags_Graduation in progress</th>\n",
       "      <th>Tags_Interested  in full time MBA</th>\n",
       "      <th>Tags_Interested in other courses</th>\n",
       "      <th>Tags_Lost to EINS</th>\n",
       "      <th>Tags_Negative Tags</th>\n",
       "      <th>Tags_Positive Tags</th>\n",
       "      <th>Tags_Ringing</th>\n",
       "      <th>Tags_Will revert after reading the email</th>\n",
       "      <th>Tags_in touch with EINS</th>\n",
       "      <th>Tags_switched off</th>\n",
       "    </tr>\n",
       "  </thead>\n",
       "  <tbody>\n",
       "    <tr>\n",
       "      <th>2389</th>\n",
       "      <td>0.176471</td>\n",
       "      <td>0.599472</td>\n",
       "      <td>0.333333</td>\n",
       "      <td>0</td>\n",
       "      <td>0</td>\n",
       "      <td>0</td>\n",
       "      <td>0</td>\n",
       "      <td>0</td>\n",
       "      <td>0</td>\n",
       "      <td>0</td>\n",
       "      <td>...</td>\n",
       "      <td>0</td>\n",
       "      <td>0</td>\n",
       "      <td>0</td>\n",
       "      <td>0</td>\n",
       "      <td>0</td>\n",
       "      <td>0</td>\n",
       "      <td>0</td>\n",
       "      <td>0</td>\n",
       "      <td>0</td>\n",
       "      <td>0</td>\n",
       "    </tr>\n",
       "    <tr>\n",
       "      <th>7435</th>\n",
       "      <td>0.000000</td>\n",
       "      <td>0.000000</td>\n",
       "      <td>0.000000</td>\n",
       "      <td>0</td>\n",
       "      <td>0</td>\n",
       "      <td>0</td>\n",
       "      <td>0</td>\n",
       "      <td>0</td>\n",
       "      <td>0</td>\n",
       "      <td>0</td>\n",
       "      <td>...</td>\n",
       "      <td>0</td>\n",
       "      <td>0</td>\n",
       "      <td>0</td>\n",
       "      <td>0</td>\n",
       "      <td>0</td>\n",
       "      <td>0</td>\n",
       "      <td>0</td>\n",
       "      <td>0</td>\n",
       "      <td>0</td>\n",
       "      <td>0</td>\n",
       "    </tr>\n",
       "    <tr>\n",
       "      <th>1102</th>\n",
       "      <td>0.117647</td>\n",
       "      <td>0.767606</td>\n",
       "      <td>0.222222</td>\n",
       "      <td>1</td>\n",
       "      <td>0</td>\n",
       "      <td>0</td>\n",
       "      <td>0</td>\n",
       "      <td>0</td>\n",
       "      <td>0</td>\n",
       "      <td>0</td>\n",
       "      <td>...</td>\n",
       "      <td>0</td>\n",
       "      <td>1</td>\n",
       "      <td>0</td>\n",
       "      <td>0</td>\n",
       "      <td>0</td>\n",
       "      <td>0</td>\n",
       "      <td>0</td>\n",
       "      <td>0</td>\n",
       "      <td>0</td>\n",
       "      <td>0</td>\n",
       "    </tr>\n",
       "    <tr>\n",
       "      <th>4444</th>\n",
       "      <td>0.000000</td>\n",
       "      <td>0.000000</td>\n",
       "      <td>0.000000</td>\n",
       "      <td>0</td>\n",
       "      <td>1</td>\n",
       "      <td>0</td>\n",
       "      <td>0</td>\n",
       "      <td>0</td>\n",
       "      <td>0</td>\n",
       "      <td>0</td>\n",
       "      <td>...</td>\n",
       "      <td>0</td>\n",
       "      <td>0</td>\n",
       "      <td>0</td>\n",
       "      <td>0</td>\n",
       "      <td>0</td>\n",
       "      <td>0</td>\n",
       "      <td>0</td>\n",
       "      <td>0</td>\n",
       "      <td>0</td>\n",
       "      <td>0</td>\n",
       "    </tr>\n",
       "    <tr>\n",
       "      <th>8026</th>\n",
       "      <td>0.000000</td>\n",
       "      <td>0.000000</td>\n",
       "      <td>0.000000</td>\n",
       "      <td>0</td>\n",
       "      <td>0</td>\n",
       "      <td>0</td>\n",
       "      <td>0</td>\n",
       "      <td>1</td>\n",
       "      <td>0</td>\n",
       "      <td>0</td>\n",
       "      <td>...</td>\n",
       "      <td>0</td>\n",
       "      <td>0</td>\n",
       "      <td>0</td>\n",
       "      <td>0</td>\n",
       "      <td>0</td>\n",
       "      <td>0</td>\n",
       "      <td>0</td>\n",
       "      <td>0</td>\n",
       "      <td>0</td>\n",
       "      <td>0</td>\n",
       "    </tr>\n",
       "  </tbody>\n",
       "</table>\n",
       "<p>5 rows × 58 columns</p>\n",
       "</div>"
      ],
      "text/plain": [
       "      TotalVisits  Total Time Spent on Website  Page Views Per Visit  \\\n",
       "2389     0.176471                     0.599472              0.333333   \n",
       "7435     0.000000                     0.000000              0.000000   \n",
       "1102     0.117647                     0.767606              0.222222   \n",
       "4444     0.000000                     0.000000              0.000000   \n",
       "8026     0.000000                     0.000000              0.000000   \n",
       "\n",
       "      Lead Origin_Landing Page Submission  Lead Origin_Lead Add Form  \\\n",
       "2389                                    0                          0   \n",
       "7435                                    0                          0   \n",
       "1102                                    1                          0   \n",
       "4444                                    0                          1   \n",
       "8026                                    0                          0   \n",
       "\n",
       "      Lead Origin_Lead Import  What is your current occupation_Housewife  \\\n",
       "2389                        0                                          0   \n",
       "7435                        0                                          0   \n",
       "1102                        0                                          0   \n",
       "4444                        0                                          0   \n",
       "8026                        0                                          0   \n",
       "\n",
       "      What is your current occupation_Not Specified  \\\n",
       "2389                                              0   \n",
       "7435                                              0   \n",
       "1102                                              0   \n",
       "4444                                              0   \n",
       "8026                                              1   \n",
       "\n",
       "      What is your current occupation_Other  \\\n",
       "2389                                      0   \n",
       "7435                                      0   \n",
       "1102                                      0   \n",
       "4444                                      0   \n",
       "8026                                      0   \n",
       "\n",
       "      What is your current occupation_Student  ...  \\\n",
       "2389                                        0  ...   \n",
       "7435                                        0  ...   \n",
       "1102                                        0  ...   \n",
       "4444                                        0  ...   \n",
       "8026                                        0  ...   \n",
       "\n",
       "      Tags_Graduation in progress  Tags_Interested  in full time MBA  \\\n",
       "2389                            0                                  0   \n",
       "7435                            0                                  0   \n",
       "1102                            0                                  1   \n",
       "4444                            0                                  0   \n",
       "8026                            0                                  0   \n",
       "\n",
       "      Tags_Interested in other courses  Tags_Lost to EINS  Tags_Negative Tags  \\\n",
       "2389                                 0                  0                   0   \n",
       "7435                                 0                  0                   0   \n",
       "1102                                 0                  0                   0   \n",
       "4444                                 0                  0                   0   \n",
       "8026                                 0                  0                   0   \n",
       "\n",
       "      Tags_Positive Tags  Tags_Ringing  \\\n",
       "2389                   0             0   \n",
       "7435                   0             0   \n",
       "1102                   0             0   \n",
       "4444                   0             0   \n",
       "8026                   0             0   \n",
       "\n",
       "      Tags_Will revert after reading the email  Tags_in touch with EINS  \\\n",
       "2389                                         0                        0   \n",
       "7435                                         0                        0   \n",
       "1102                                         0                        0   \n",
       "4444                                         0                        0   \n",
       "8026                                         0                        0   \n",
       "\n",
       "      Tags_switched off  \n",
       "2389                  0  \n",
       "7435                  0  \n",
       "1102                  0  \n",
       "4444                  0  \n",
       "8026                  0  \n",
       "\n",
       "[5 rows x 58 columns]"
      ]
     },
     "execution_count": 636,
     "metadata": {},
     "output_type": "execute_result"
    }
   ],
   "source": [
    "scale = MinMaxScaler()\n",
    "X_train[['TotalVisits', 'Page Views Per Visit', 'Total Time Spent on Website']] = scale.fit_transform(X_train[['TotalVisits', 'Page Views Per Visit', 'Total Time Spent on Website']])\n",
    "X_train.head()"
   ]
  },
  {
   "cell_type": "code",
   "execution_count": 637,
   "id": "fa58b926",
   "metadata": {},
   "outputs": [],
   "source": [
    "lr = LogisticRegression()"
   ]
  },
  {
   "cell_type": "code",
   "execution_count": 638,
   "id": "83faac8a",
   "metadata": {},
   "outputs": [],
   "source": [
    " # running RFE with 15 variables as output\n",
    "rfe1 = RFE(lr, 15)             \n",
    "rfe1 = rfe1.fit(X_train, y_train)"
   ]
  },
  {
   "cell_type": "code",
   "execution_count": 639,
   "id": "5a9d8805",
   "metadata": {},
   "outputs": [
    {
     "data": {
      "text/plain": [
       "array([False,  True, False, False, False, False, False,  True, False,\n",
       "       False, False, False, False, False, False, False, False, False,\n",
       "       False, False, False, False, False, False, False, False, False,\n",
       "       False, False, False,  True, False, False, False, False, False,\n",
       "       False, False,  True, False, False,  True, False, False, False,\n",
       "        True, False,  True,  True,  True,  True,  True,  True, False,\n",
       "        True,  True, False,  True])"
      ]
     },
     "execution_count": 639,
     "metadata": {},
     "output_type": "execute_result"
    }
   ],
   "source": [
    "rfe1.support_"
   ]
  },
  {
   "cell_type": "code",
   "execution_count": 640,
   "id": "0f733b3e",
   "metadata": {},
   "outputs": [
    {
     "data": {
      "text/plain": [
       "[('TotalVisits', False, 6),\n",
       " ('Total Time Spent on Website', True, 1),\n",
       " ('Page Views Per Visit', False, 7),\n",
       " ('Lead Origin_Landing Page Submission', False, 30),\n",
       " ('Lead Origin_Lead Add Form', False, 2),\n",
       " ('Lead Origin_Lead Import', False, 32),\n",
       " ('What is your current occupation_Housewife', False, 18),\n",
       " ('What is your current occupation_Not Specified', True, 1),\n",
       " ('What is your current occupation_Other', False, 36),\n",
       " ('What is your current occupation_Student', False, 43),\n",
       " ('What is your current occupation_Unemployed', False, 16),\n",
       " ('What is your current occupation_Working Professional', False, 15),\n",
       " ('Specialization_Banking, Investment And Insurance', False, 33),\n",
       " ('Specialization_Business Administration', False, 34),\n",
       " ('Specialization_E-Business', False, 40),\n",
       " ('Specialization_E-COMMERCE', False, 22),\n",
       " ('Specialization_International Business', False, 20),\n",
       " ('Specialization_Management Specializations', False, 41),\n",
       " ('Specialization_Media and Advertising', False, 35),\n",
       " ('Specialization_Rural and Agribusiness', False, 31),\n",
       " ('Specialization_Services Excellence', False, 29),\n",
       " ('Specialization_Travel and Tourism', False, 39),\n",
       " ('Lead Source_Direct Traffic', False, 23),\n",
       " ('Lead Source_Google', False, 25),\n",
       " ('Lead Source_Live Chat', False, 44),\n",
       " ('Lead Source_Olark Chat', False, 4),\n",
       " ('Lead Source_Organic Search', False, 24),\n",
       " ('Lead Source_Reference', False, 26),\n",
       " ('Lead Source_Referral Sites', False, 28),\n",
       " ('Lead Source_Social Media', False, 19),\n",
       " ('Lead Source_Welingak Website', True, 1),\n",
       " ('Last Activity_Converted to Lead', False, 13),\n",
       " ('Last Activity_Email Bounced', False, 8),\n",
       " ('Last Activity_Email Link Clicked', False, 27),\n",
       " ('Last Activity_Email Opened', False, 38),\n",
       " ('Last Activity_Form Submitted on Website', False, 37),\n",
       " ('Last Activity_Olark Chat Conversation', False, 12),\n",
       " ('Last Activity_Page Visited on Website', False, 11),\n",
       " ('Last Activity_SMS Sent', True, 1),\n",
       " ('Last Notable Activity_Email Link Clicked', False, 17),\n",
       " ('Last Notable Activity_Email Opened', False, 42),\n",
       " ('Last Notable Activity_Modified', True, 1),\n",
       " ('Last Notable Activity_Olark Chat Conversation', False, 3),\n",
       " ('Last Notable Activity_Page Visited on Website', False, 21),\n",
       " ('Last Notable Activity_SMS Sent', False, 5),\n",
       " ('Tags_Already a student', True, 1),\n",
       " ('Tags_Busy', False, 10),\n",
       " ('Tags_Closed by Horizzon', True, 1),\n",
       " ('Tags_Graduation in progress', True, 1),\n",
       " ('Tags_Interested  in full time MBA', True, 1),\n",
       " ('Tags_Interested in other courses', True, 1),\n",
       " ('Tags_Lost to EINS', True, 1),\n",
       " ('Tags_Negative Tags', True, 1),\n",
       " ('Tags_Positive Tags', False, 14),\n",
       " ('Tags_Ringing', True, 1),\n",
       " ('Tags_Will revert after reading the email', True, 1),\n",
       " ('Tags_in touch with EINS', False, 9),\n",
       " ('Tags_switched off', True, 1)]"
      ]
     },
     "execution_count": 640,
     "metadata": {},
     "output_type": "execute_result"
    }
   ],
   "source": [
    "list(zip(X_train.columns, rfe1.support_, rfe1.ranking_))"
   ]
  },
  {
   "cell_type": "code",
   "execution_count": 641,
   "id": "e4b38a8f",
   "metadata": {},
   "outputs": [
    {
     "data": {
      "text/plain": [
       "Index(['Total Time Spent on Website',\n",
       "       'What is your current occupation_Not Specified',\n",
       "       'Lead Source_Welingak Website', 'Last Activity_SMS Sent',\n",
       "       'Last Notable Activity_Modified', 'Tags_Already a student',\n",
       "       'Tags_Closed by Horizzon', 'Tags_Graduation in progress',\n",
       "       'Tags_Interested  in full time MBA', 'Tags_Interested in other courses',\n",
       "       'Tags_Lost to EINS', 'Tags_Negative Tags', 'Tags_Ringing',\n",
       "       'Tags_Will revert after reading the email', 'Tags_switched off'],\n",
       "      dtype='object')"
      ]
     },
     "execution_count": 641,
     "metadata": {},
     "output_type": "execute_result"
    }
   ],
   "source": [
    "# RFE supported columns list\n",
    "column = X_train.columns[rfe1.support_]\n",
    "column"
   ]
  },
  {
   "cell_type": "markdown",
   "id": "63930398",
   "metadata": {},
   "source": [
    "# 7. Logistic regression Model Building "
   ]
  },
  {
   "cell_type": "code",
   "execution_count": 642,
   "id": "dd5ffdf9",
   "metadata": {},
   "outputs": [
    {
     "data": {
      "text/html": [
       "<table class=\"simpletable\">\n",
       "<caption>Generalized Linear Model Regression Results</caption>\n",
       "<tr>\n",
       "  <th>Dep. Variable:</th>       <td>Converted</td>    <th>  No. Observations:  </th>  <td>  6267</td> \n",
       "</tr>\n",
       "<tr>\n",
       "  <th>Model:</th>                  <td>GLM</td>       <th>  Df Residuals:      </th>  <td>  6251</td> \n",
       "</tr>\n",
       "<tr>\n",
       "  <th>Model Family:</th>        <td>Binomial</td>     <th>  Df Model:          </th>  <td>    15</td> \n",
       "</tr>\n",
       "<tr>\n",
       "  <th>Link Function:</th>         <td>logit</td>      <th>  Scale:             </th> <td>  1.0000</td>\n",
       "</tr>\n",
       "<tr>\n",
       "  <th>Method:</th>                <td>IRLS</td>       <th>  Log-Likelihood:    </th> <td> -1128.5</td>\n",
       "</tr>\n",
       "<tr>\n",
       "  <th>Date:</th>            <td>Mon, 17 Oct 2022</td> <th>  Deviance:          </th> <td>  2256.9</td>\n",
       "</tr>\n",
       "<tr>\n",
       "  <th>Time:</th>                <td>02:42:47</td>     <th>  Pearson chi2:      </th> <td>7.88e+03</td>\n",
       "</tr>\n",
       "<tr>\n",
       "  <th>No. Iterations:</th>          <td>8</td>        <th>                     </th>     <td> </td>   \n",
       "</tr>\n",
       "<tr>\n",
       "  <th>Covariance Type:</th>     <td>nonrobust</td>    <th>                     </th>     <td> </td>   \n",
       "</tr>\n",
       "</table>\n",
       "<table class=\"simpletable\">\n",
       "<tr>\n",
       "                        <td></td>                           <th>coef</th>     <th>std err</th>      <th>z</th>      <th>P>|z|</th>  <th>[0.025</th>    <th>0.975]</th>  \n",
       "</tr>\n",
       "<tr>\n",
       "  <th>const</th>                                         <td>   -0.5790</td> <td>    0.120</td> <td>   -4.813</td> <td> 0.000</td> <td>   -0.815</td> <td>   -0.343</td>\n",
       "</tr>\n",
       "<tr>\n",
       "  <th>Total Time Spent on Website</th>                   <td>    3.5004</td> <td>    0.233</td> <td>   14.992</td> <td> 0.000</td> <td>    3.043</td> <td>    3.958</td>\n",
       "</tr>\n",
       "<tr>\n",
       "  <th>What is your current occupation_Not Specified</th> <td>   -2.2634</td> <td>    0.137</td> <td>  -16.539</td> <td> 0.000</td> <td>   -2.532</td> <td>   -1.995</td>\n",
       "</tr>\n",
       "<tr>\n",
       "  <th>Lead Source_Welingak Website</th>                  <td>    3.3719</td> <td>    0.742</td> <td>    4.544</td> <td> 0.000</td> <td>    1.917</td> <td>    4.826</td>\n",
       "</tr>\n",
       "<tr>\n",
       "  <th>Last Activity_SMS Sent</th>                        <td>    1.9084</td> <td>    0.124</td> <td>   15.368</td> <td> 0.000</td> <td>    1.665</td> <td>    2.152</td>\n",
       "</tr>\n",
       "<tr>\n",
       "  <th>Last Notable Activity_Modified</th>                <td>   -1.6194</td> <td>    0.132</td> <td>  -12.289</td> <td> 0.000</td> <td>   -1.878</td> <td>   -1.361</td>\n",
       "</tr>\n",
       "<tr>\n",
       "  <th>Tags_Already a student</th>                        <td>   -4.5875</td> <td>    0.598</td> <td>   -7.670</td> <td> 0.000</td> <td>   -5.760</td> <td>   -3.415</td>\n",
       "</tr>\n",
       "<tr>\n",
       "  <th>Tags_Closed by Horizzon</th>                       <td>    6.3031</td> <td>    1.016</td> <td>    6.204</td> <td> 0.000</td> <td>    4.312</td> <td>    8.294</td>\n",
       "</tr>\n",
       "<tr>\n",
       "  <th>Tags_Graduation in progress</th>                   <td>   -2.0870</td> <td>    0.497</td> <td>   -4.199</td> <td> 0.000</td> <td>   -3.061</td> <td>   -1.113</td>\n",
       "</tr>\n",
       "<tr>\n",
       "  <th>Tags_Interested  in full time MBA</th>             <td>   -3.4197</td> <td>    0.744</td> <td>   -4.593</td> <td> 0.000</td> <td>   -4.879</td> <td>   -1.961</td>\n",
       "</tr>\n",
       "<tr>\n",
       "  <th>Tags_Interested in other courses</th>              <td>   -3.1550</td> <td>    0.365</td> <td>   -8.642</td> <td> 0.000</td> <td>   -3.871</td> <td>   -2.440</td>\n",
       "</tr>\n",
       "<tr>\n",
       "  <th>Tags_Lost to EINS</th>                             <td>    5.1713</td> <td>    0.551</td> <td>    9.392</td> <td> 0.000</td> <td>    4.092</td> <td>    6.250</td>\n",
       "</tr>\n",
       "<tr>\n",
       "  <th>Tags_Negative Tags</th>                            <td>   -4.6185</td> <td>    0.491</td> <td>   -9.413</td> <td> 0.000</td> <td>   -5.580</td> <td>   -3.657</td>\n",
       "</tr>\n",
       "<tr>\n",
       "  <th>Tags_Ringing</th>                                  <td>   -4.9072</td> <td>    0.261</td> <td>  -18.782</td> <td> 0.000</td> <td>   -5.419</td> <td>   -4.395</td>\n",
       "</tr>\n",
       "<tr>\n",
       "  <th>Tags_Will revert after reading the email</th>      <td>    2.9778</td> <td>    0.189</td> <td>   15.788</td> <td> 0.000</td> <td>    2.608</td> <td>    3.347</td>\n",
       "</tr>\n",
       "<tr>\n",
       "  <th>Tags_switched off</th>                             <td>   -5.3617</td> <td>    0.607</td> <td>   -8.834</td> <td> 0.000</td> <td>   -6.551</td> <td>   -4.172</td>\n",
       "</tr>\n",
       "</table>"
      ],
      "text/plain": [
       "<class 'statsmodels.iolib.summary.Summary'>\n",
       "\"\"\"\n",
       "                 Generalized Linear Model Regression Results                  \n",
       "==============================================================================\n",
       "Dep. Variable:              Converted   No. Observations:                 6267\n",
       "Model:                            GLM   Df Residuals:                     6251\n",
       "Model Family:                Binomial   Df Model:                           15\n",
       "Link Function:                  logit   Scale:                          1.0000\n",
       "Method:                          IRLS   Log-Likelihood:                -1128.5\n",
       "Date:                Mon, 17 Oct 2022   Deviance:                       2256.9\n",
       "Time:                        02:42:47   Pearson chi2:                 7.88e+03\n",
       "No. Iterations:                     8                                         \n",
       "Covariance Type:            nonrobust                                         \n",
       "=================================================================================================================\n",
       "                                                    coef    std err          z      P>|z|      [0.025      0.975]\n",
       "-----------------------------------------------------------------------------------------------------------------\n",
       "const                                            -0.5790      0.120     -4.813      0.000      -0.815      -0.343\n",
       "Total Time Spent on Website                       3.5004      0.233     14.992      0.000       3.043       3.958\n",
       "What is your current occupation_Not Specified    -2.2634      0.137    -16.539      0.000      -2.532      -1.995\n",
       "Lead Source_Welingak Website                      3.3719      0.742      4.544      0.000       1.917       4.826\n",
       "Last Activity_SMS Sent                            1.9084      0.124     15.368      0.000       1.665       2.152\n",
       "Last Notable Activity_Modified                   -1.6194      0.132    -12.289      0.000      -1.878      -1.361\n",
       "Tags_Already a student                           -4.5875      0.598     -7.670      0.000      -5.760      -3.415\n",
       "Tags_Closed by Horizzon                           6.3031      1.016      6.204      0.000       4.312       8.294\n",
       "Tags_Graduation in progress                      -2.0870      0.497     -4.199      0.000      -3.061      -1.113\n",
       "Tags_Interested  in full time MBA                -3.4197      0.744     -4.593      0.000      -4.879      -1.961\n",
       "Tags_Interested in other courses                 -3.1550      0.365     -8.642      0.000      -3.871      -2.440\n",
       "Tags_Lost to EINS                                 5.1713      0.551      9.392      0.000       4.092       6.250\n",
       "Tags_Negative Tags                               -4.6185      0.491     -9.413      0.000      -5.580      -3.657\n",
       "Tags_Ringing                                     -4.9072      0.261    -18.782      0.000      -5.419      -4.395\n",
       "Tags_Will revert after reading the email          2.9778      0.189     15.788      0.000       2.608       3.347\n",
       "Tags_switched off                                -5.3617      0.607     -8.834      0.000      -6.551      -4.172\n",
       "=================================================================================================================\n",
       "\"\"\""
      ]
     },
     "execution_count": 642,
     "metadata": {},
     "output_type": "execute_result"
    }
   ],
   "source": [
    "# Model 1\n",
    "\n",
    "X_train_sm = sm.add_constant(X_train[column])\n",
    "lm1 = sm.GLM(y_train,X_train_sm, family = sm.families.Binomial())\n",
    "result = lm1.fit()\n",
    "result.summary()"
   ]
  },
  {
   "cell_type": "markdown",
   "id": "778e620a",
   "metadata": {},
   "source": [
    " All the p-values are 0.00 further checking Variance Inflation Factor(VIF) to see if any correlation are there between the variables"
   ]
  },
  {
   "cell_type": "code",
   "execution_count": 643,
   "id": "e63633ef",
   "metadata": {},
   "outputs": [
    {
     "data": {
      "text/html": [
       "<div>\n",
       "<style scoped>\n",
       "    .dataframe tbody tr th:only-of-type {\n",
       "        vertical-align: middle;\n",
       "    }\n",
       "\n",
       "    .dataframe tbody tr th {\n",
       "        vertical-align: top;\n",
       "    }\n",
       "\n",
       "    .dataframe thead th {\n",
       "        text-align: right;\n",
       "    }\n",
       "</style>\n",
       "<table border=\"1\" class=\"dataframe\">\n",
       "  <thead>\n",
       "    <tr style=\"text-align: right;\">\n",
       "      <th></th>\n",
       "      <th>Features</th>\n",
       "      <th>VIF</th>\n",
       "    </tr>\n",
       "  </thead>\n",
       "  <tbody>\n",
       "    <tr>\n",
       "      <th>0</th>\n",
       "      <td>Total Time Spent on Website</td>\n",
       "      <td>1.82</td>\n",
       "    </tr>\n",
       "    <tr>\n",
       "      <th>4</th>\n",
       "      <td>Last Notable Activity_Modified</td>\n",
       "      <td>1.81</td>\n",
       "    </tr>\n",
       "    <tr>\n",
       "      <th>13</th>\n",
       "      <td>Tags_Will revert after reading the email</td>\n",
       "      <td>1.66</td>\n",
       "    </tr>\n",
       "    <tr>\n",
       "      <th>3</th>\n",
       "      <td>Last Activity_SMS Sent</td>\n",
       "      <td>1.54</td>\n",
       "    </tr>\n",
       "    <tr>\n",
       "      <th>1</th>\n",
       "      <td>What is your current occupation_Not Specified</td>\n",
       "      <td>1.50</td>\n",
       "    </tr>\n",
       "    <tr>\n",
       "      <th>9</th>\n",
       "      <td>Tags_Interested in other courses</td>\n",
       "      <td>1.17</td>\n",
       "    </tr>\n",
       "    <tr>\n",
       "      <th>12</th>\n",
       "      <td>Tags_Ringing</td>\n",
       "      <td>1.17</td>\n",
       "    </tr>\n",
       "    <tr>\n",
       "      <th>6</th>\n",
       "      <td>Tags_Closed by Horizzon</td>\n",
       "      <td>1.10</td>\n",
       "    </tr>\n",
       "    <tr>\n",
       "      <th>5</th>\n",
       "      <td>Tags_Already a student</td>\n",
       "      <td>1.08</td>\n",
       "    </tr>\n",
       "    <tr>\n",
       "      <th>11</th>\n",
       "      <td>Tags_Negative Tags</td>\n",
       "      <td>1.08</td>\n",
       "    </tr>\n",
       "    <tr>\n",
       "      <th>10</th>\n",
       "      <td>Tags_Lost to EINS</td>\n",
       "      <td>1.06</td>\n",
       "    </tr>\n",
       "    <tr>\n",
       "      <th>14</th>\n",
       "      <td>Tags_switched off</td>\n",
       "      <td>1.04</td>\n",
       "    </tr>\n",
       "    <tr>\n",
       "      <th>2</th>\n",
       "      <td>Lead Source_Welingak Website</td>\n",
       "      <td>1.03</td>\n",
       "    </tr>\n",
       "    <tr>\n",
       "      <th>7</th>\n",
       "      <td>Tags_Graduation in progress</td>\n",
       "      <td>1.03</td>\n",
       "    </tr>\n",
       "    <tr>\n",
       "      <th>8</th>\n",
       "      <td>Tags_Interested  in full time MBA</td>\n",
       "      <td>1.03</td>\n",
       "    </tr>\n",
       "  </tbody>\n",
       "</table>\n",
       "</div>"
      ],
      "text/plain": [
       "                                         Features   VIF\n",
       "0                     Total Time Spent on Website  1.82\n",
       "4                  Last Notable Activity_Modified  1.81\n",
       "13       Tags_Will revert after reading the email  1.66\n",
       "3                          Last Activity_SMS Sent  1.54\n",
       "1   What is your current occupation_Not Specified  1.50\n",
       "9                Tags_Interested in other courses  1.17\n",
       "12                                   Tags_Ringing  1.17\n",
       "6                         Tags_Closed by Horizzon  1.10\n",
       "5                          Tags_Already a student  1.08\n",
       "11                             Tags_Negative Tags  1.08\n",
       "10                              Tags_Lost to EINS  1.06\n",
       "14                              Tags_switched off  1.04\n",
       "2                    Lead Source_Welingak Website  1.03\n",
       "7                     Tags_Graduation in progress  1.03\n",
       "8               Tags_Interested  in full time MBA  1.03"
      ]
     },
     "execution_count": 643,
     "metadata": {},
     "output_type": "execute_result"
    }
   ],
   "source": [
    "# Creating a dataframe that will show all the features with their VIFs\n",
    "VIF = pd.DataFrame()\n",
    "VIF['Features'] = X_train[column].columns\n",
    "VIF['VIF'] = [variance_inflation_factor(X_train[column].values, i) for i in range(X_train[column].shape[1])]\n",
    "VIF['VIF'] = round(VIF['VIF'], 2)\n",
    "VIF = VIF.sort_values(by = \"VIF\", ascending = False)\n",
    "VIF"
   ]
  },
  {
   "cell_type": "markdown",
   "id": "74d90db8",
   "metadata": {},
   "source": [
    "VIF values seems perfect as well as p values. We can use this MODEL "
   ]
  },
  {
   "cell_type": "markdown",
   "id": "eb1b0a84",
   "metadata": {},
   "source": [
    "# 8.Making Predictions"
   ]
  },
  {
   "cell_type": "code",
   "execution_count": 644,
   "id": "ad645fc7",
   "metadata": {},
   "outputs": [
    {
     "data": {
      "text/plain": [
       "2389    0.820453\n",
       "7435    0.790742\n",
       "1102    0.212203\n",
       "4444    0.996744\n",
       "8026    0.011410\n",
       "2163    0.990999\n",
       "5814    0.037674\n",
       "850     0.039751\n",
       "2758    0.011410\n",
       "8947    0.013613\n",
       "3163    0.987947\n",
       "1819    0.996349\n",
       "3631    0.997711\n",
       "6446    0.035555\n",
       "8256    0.011410\n",
       "dtype: float64"
      ]
     },
     "execution_count": 644,
     "metadata": {},
     "output_type": "execute_result"
    }
   ],
   "source": [
    "# Predicting values on the train set\n",
    "y_train_pred = result.predict(X_train_sm)\n",
    "y_train_pred[:15]"
   ]
  },
  {
   "cell_type": "code",
   "execution_count": 645,
   "id": "abdb3311",
   "metadata": {},
   "outputs": [
    {
     "data": {
      "text/plain": [
       "array([0.82045347, 0.79074166, 0.21220287, 0.9967445 , 0.01141019,\n",
       "       0.99099871, 0.03767412, 0.03975102, 0.01141019, 0.01361257,\n",
       "       0.98794664, 0.99634876, 0.9977111 , 0.03555521, 0.01141019])"
      ]
     },
     "execution_count": 645,
     "metadata": {},
     "output_type": "execute_result"
    }
   ],
   "source": [
    "# Reshaping\n",
    "y_train_pred = y_train_pred.values.reshape(-1)\n",
    "y_train_pred[:15]"
   ]
  },
  {
   "cell_type": "code",
   "execution_count": 646,
   "id": "36730fb6",
   "metadata": {},
   "outputs": [
    {
     "data": {
      "text/html": [
       "<div>\n",
       "<style scoped>\n",
       "    .dataframe tbody tr th:only-of-type {\n",
       "        vertical-align: middle;\n",
       "    }\n",
       "\n",
       "    .dataframe tbody tr th {\n",
       "        vertical-align: top;\n",
       "    }\n",
       "\n",
       "    .dataframe thead th {\n",
       "        text-align: right;\n",
       "    }\n",
       "</style>\n",
       "<table border=\"1\" class=\"dataframe\">\n",
       "  <thead>\n",
       "    <tr style=\"text-align: right;\">\n",
       "      <th></th>\n",
       "      <th>Converted</th>\n",
       "      <th>Converted_prob</th>\n",
       "      <th>Prospect ID</th>\n",
       "    </tr>\n",
       "  </thead>\n",
       "  <tbody>\n",
       "    <tr>\n",
       "      <th>0</th>\n",
       "      <td>1</td>\n",
       "      <td>0.820453</td>\n",
       "      <td>2389</td>\n",
       "    </tr>\n",
       "    <tr>\n",
       "      <th>1</th>\n",
       "      <td>1</td>\n",
       "      <td>0.790742</td>\n",
       "      <td>7435</td>\n",
       "    </tr>\n",
       "    <tr>\n",
       "      <th>2</th>\n",
       "      <td>1</td>\n",
       "      <td>0.212203</td>\n",
       "      <td>1102</td>\n",
       "    </tr>\n",
       "    <tr>\n",
       "      <th>3</th>\n",
       "      <td>1</td>\n",
       "      <td>0.996744</td>\n",
       "      <td>4444</td>\n",
       "    </tr>\n",
       "    <tr>\n",
       "      <th>4</th>\n",
       "      <td>0</td>\n",
       "      <td>0.011410</td>\n",
       "      <td>8026</td>\n",
       "    </tr>\n",
       "  </tbody>\n",
       "</table>\n",
       "</div>"
      ],
      "text/plain": [
       "   Converted  Converted_prob  Prospect ID\n",
       "0          1        0.820453         2389\n",
       "1          1        0.790742         7435\n",
       "2          1        0.212203         1102\n",
       "3          1        0.996744         4444\n",
       "4          0        0.011410         8026"
      ]
     },
     "execution_count": 646,
     "metadata": {},
     "output_type": "execute_result"
    }
   ],
   "source": [
    "# Data frame with convertion rate and probablity of predicted ones\n",
    "y_train_pred_f = pd.DataFrame({'Converted':y_train.values, 'Converted_prob':y_train_pred})\n",
    "y_train_pred_f['Prospect ID'] = y_train.index\n",
    "y_train_pred_f.head()"
   ]
  },
  {
   "cell_type": "code",
   "execution_count": 647,
   "id": "80976d3f",
   "metadata": {},
   "outputs": [
    {
     "data": {
      "text/html": [
       "<div>\n",
       "<style scoped>\n",
       "    .dataframe tbody tr th:only-of-type {\n",
       "        vertical-align: middle;\n",
       "    }\n",
       "\n",
       "    .dataframe tbody tr th {\n",
       "        vertical-align: top;\n",
       "    }\n",
       "\n",
       "    .dataframe thead th {\n",
       "        text-align: right;\n",
       "    }\n",
       "</style>\n",
       "<table border=\"1\" class=\"dataframe\">\n",
       "  <thead>\n",
       "    <tr style=\"text-align: right;\">\n",
       "      <th></th>\n",
       "      <th>Converted</th>\n",
       "      <th>Converted_prob</th>\n",
       "      <th>Prospect ID</th>\n",
       "      <th>Predicted</th>\n",
       "    </tr>\n",
       "  </thead>\n",
       "  <tbody>\n",
       "    <tr>\n",
       "      <th>0</th>\n",
       "      <td>1</td>\n",
       "      <td>0.820453</td>\n",
       "      <td>2389</td>\n",
       "      <td>1</td>\n",
       "    </tr>\n",
       "    <tr>\n",
       "      <th>1</th>\n",
       "      <td>1</td>\n",
       "      <td>0.790742</td>\n",
       "      <td>7435</td>\n",
       "      <td>1</td>\n",
       "    </tr>\n",
       "    <tr>\n",
       "      <th>2</th>\n",
       "      <td>1</td>\n",
       "      <td>0.212203</td>\n",
       "      <td>1102</td>\n",
       "      <td>0</td>\n",
       "    </tr>\n",
       "    <tr>\n",
       "      <th>3</th>\n",
       "      <td>1</td>\n",
       "      <td>0.996744</td>\n",
       "      <td>4444</td>\n",
       "      <td>1</td>\n",
       "    </tr>\n",
       "    <tr>\n",
       "      <th>4</th>\n",
       "      <td>0</td>\n",
       "      <td>0.011410</td>\n",
       "      <td>8026</td>\n",
       "      <td>0</td>\n",
       "    </tr>\n",
       "  </tbody>\n",
       "</table>\n",
       "</div>"
      ],
      "text/plain": [
       "   Converted  Converted_prob  Prospect ID  Predicted\n",
       "0          1        0.820453         2389          1\n",
       "1          1        0.790742         7435          1\n",
       "2          1        0.212203         1102          0\n",
       "3          1        0.996744         4444          1\n",
       "4          0        0.011410         8026          0"
      ]
     },
     "execution_count": 647,
     "metadata": {},
     "output_type": "execute_result"
    }
   ],
   "source": [
    "# Substituting\n",
    "y_train_pred_f['Predicted'] = y_train_pred_f.Converted_prob.map(lambda x: 1 if x > 0.5 else 0)\n",
    "\n",
    "y_train_pred_f.head()"
   ]
  },
  {
   "cell_type": "code",
   "execution_count": 648,
   "id": "618aa78c",
   "metadata": {},
   "outputs": [
    {
     "name": "stdout",
     "output_type": "stream",
     "text": [
      "[[3746  145]\n",
      " [ 263 2113]]\n"
     ]
    }
   ],
   "source": [
    "# Confusion Metrics \n",
    "con_met = metrics.confusion_matrix(y_train_pred_f.Converted, y_train_pred_f.Predicted )\n",
    "print(con_met)"
   ]
  },
  {
   "cell_type": "code",
   "execution_count": null,
   "id": "6bfc8b55",
   "metadata": {},
   "outputs": [],
   "source": []
  },
  {
   "cell_type": "code",
   "execution_count": 649,
   "id": "a4842e29",
   "metadata": {},
   "outputs": [],
   "source": [
    "# Substituting the value of True Positive\n",
    "TP = con_met[1,1]\n",
    "# Substituting the value of True Negatives\n",
    "TN = con_met[0,0]\n",
    "# Substituting the value of False Positives\n",
    "FP = con_met[0,1] \n",
    "# Substituting the value of false negatives\n",
    "FN = con_met[1,0]"
   ]
  },
  {
   "cell_type": "code",
   "execution_count": 650,
   "id": "eb820587",
   "metadata": {},
   "outputs": [
    {
     "data": {
      "text/plain": [
       "0.9348970799425562"
      ]
     },
     "execution_count": 650,
     "metadata": {},
     "output_type": "execute_result"
    }
   ],
   "source": [
    "# Accuracy\n",
    "(TP+TN)/(TP+TN+FP+FN)"
   ]
  },
  {
   "cell_type": "code",
   "execution_count": 651,
   "id": "d5dac331",
   "metadata": {},
   "outputs": [
    {
     "data": {
      "text/plain": [
       "0.8893097643097643"
      ]
     },
     "execution_count": 651,
     "metadata": {},
     "output_type": "execute_result"
    }
   ],
   "source": [
    "# Sensitivity\n",
    "TP/(TP+FN)"
   ]
  },
  {
   "cell_type": "code",
   "execution_count": 652,
   "id": "f2a9011d",
   "metadata": {},
   "outputs": [
    {
     "data": {
      "text/plain": [
       "0.9627345155487022"
      ]
     },
     "execution_count": 652,
     "metadata": {},
     "output_type": "execute_result"
    }
   ],
   "source": [
    "# Specificity\n",
    "TN / float(TN+FP)"
   ]
  },
  {
   "cell_type": "code",
   "execution_count": 653,
   "id": "6ff97701",
   "metadata": {},
   "outputs": [
    {
     "data": {
      "text/plain": [
       "0.9357838795394154"
      ]
     },
     "execution_count": 653,
     "metadata": {},
     "output_type": "execute_result"
    }
   ],
   "source": [
    "# Precession\n",
    "TP/(TP+FP)"
   ]
  },
  {
   "cell_type": "markdown",
   "id": "3c147d24",
   "metadata": {},
   "source": [
    "With cutoff 0.5 we have\n",
    "1. accuracy = 93.48%\n",
    "2. Senstivity = 88.93%\n",
    "3. Specificity = 96.27%\n",
    "4. Precession = 93.57%\n",
    "\n",
    "We found out that specificity is 96.27% which is good and Senstivity is 88.93% which needs to be handled"
   ]
  },
  {
   "cell_type": "markdown",
   "id": "135578b2",
   "metadata": {},
   "source": [
    "# 9. ROC"
   ]
  },
  {
   "cell_type": "code",
   "execution_count": 654,
   "id": "c84580a6",
   "metadata": {},
   "outputs": [],
   "source": [
    "def roc_def( actuals, prob ):\n",
    "    Fpr, Tpr, Threshold = metrics.roc_curve( actuals, prob,drop_intermediate = False )\n",
    "    score_auc = metrics.roc_auc_score( actuals, prob )\n",
    "    plt.figure(figsize=(8, 8))\n",
    "    plt.plot( Fpr, Tpr, label='ROC curve (area = %0.2f)' % score_auc )\n",
    "    plt.plot([0, 1], [0, 1], 'k--')\n",
    "    plt.xlim([0.0, 1.0])\n",
    "    plt.ylim([0.0, 1.05])\n",
    "    plt.xlabel('False Positive Rate or [1 - True Negative Rate]')\n",
    "    plt.ylabel('True Positive Rate')\n",
    "    plt.title('Receiver characteristic example')\n",
    "    plt.legend(loc=\"upper left\")\n",
    "    plt.show()\n",
    "    return None"
   ]
  },
  {
   "cell_type": "code",
   "execution_count": 655,
   "id": "0c8f99fc",
   "metadata": {},
   "outputs": [],
   "source": [
    "Fpr, Tpr, Threshold = metrics.roc_curve( y_train_pred_f.Converted, y_train_pred_f.Converted_prob, drop_intermediate = False )"
   ]
  },
  {
   "cell_type": "code",
   "execution_count": 656,
   "id": "4a64a5e9",
   "metadata": {},
   "outputs": [
    {
     "data": {
      "image/png": "[encoded data removed]",
      "text/plain": [
       "<Figure size 576x576 with 1 Axes>"
      ]
     },
     "metadata": {
      "needs_background": "light"
     },
     "output_type": "display_data"
    }
   ],
   "source": [
    "roc_def(y_train_pred_f.Converted, y_train_pred_f.Converted_prob)"
   ]
  },
  {
   "cell_type": "markdown",
   "id": "09e61f36",
   "metadata": {},
   "source": [
    "ROC should be closer to 1 and we are Getting ROC = 0.98 which is very good value which indicates that it is a great model"
   ]
  },
  {
   "cell_type": "markdown",
   "id": "351cbb0e",
   "metadata": {},
   "source": [
    "# 10. Probability Cut-Offs"
   ]
  },
  {
   "cell_type": "code",
   "execution_count": 657,
   "id": "d4f4eb48",
   "metadata": {},
   "outputs": [
    {
     "data": {
      "text/html": [
       "<div>\n",
       "<style scoped>\n",
       "    .dataframe tbody tr th:only-of-type {\n",
       "        vertical-align: middle;\n",
       "    }\n",
       "\n",
       "    .dataframe tbody tr th {\n",
       "        vertical-align: top;\n",
       "    }\n",
       "\n",
       "    .dataframe thead th {\n",
       "        text-align: right;\n",
       "    }\n",
       "</style>\n",
       "<table border=\"1\" class=\"dataframe\">\n",
       "  <thead>\n",
       "    <tr style=\"text-align: right;\">\n",
       "      <th></th>\n",
       "      <th>Converted</th>\n",
       "      <th>Converted_prob</th>\n",
       "      <th>Prospect ID</th>\n",
       "      <th>Predicted</th>\n",
       "      <th>0.0</th>\n",
       "      <th>0.1</th>\n",
       "      <th>0.2</th>\n",
       "      <th>0.3</th>\n",
       "      <th>0.4</th>\n",
       "      <th>0.5</th>\n",
       "      <th>0.6</th>\n",
       "      <th>0.7</th>\n",
       "      <th>0.8</th>\n",
       "      <th>0.9</th>\n",
       "    </tr>\n",
       "  </thead>\n",
       "  <tbody>\n",
       "    <tr>\n",
       "      <th>0</th>\n",
       "      <td>1</td>\n",
       "      <td>0.820453</td>\n",
       "      <td>2389</td>\n",
       "      <td>1</td>\n",
       "      <td>1</td>\n",
       "      <td>1</td>\n",
       "      <td>1</td>\n",
       "      <td>1</td>\n",
       "      <td>1</td>\n",
       "      <td>1</td>\n",
       "      <td>1</td>\n",
       "      <td>1</td>\n",
       "      <td>1</td>\n",
       "      <td>0</td>\n",
       "    </tr>\n",
       "    <tr>\n",
       "      <th>1</th>\n",
       "      <td>1</td>\n",
       "      <td>0.790742</td>\n",
       "      <td>7435</td>\n",
       "      <td>1</td>\n",
       "      <td>1</td>\n",
       "      <td>1</td>\n",
       "      <td>1</td>\n",
       "      <td>1</td>\n",
       "      <td>1</td>\n",
       "      <td>1</td>\n",
       "      <td>1</td>\n",
       "      <td>1</td>\n",
       "      <td>0</td>\n",
       "      <td>0</td>\n",
       "    </tr>\n",
       "    <tr>\n",
       "      <th>2</th>\n",
       "      <td>1</td>\n",
       "      <td>0.212203</td>\n",
       "      <td>1102</td>\n",
       "      <td>0</td>\n",
       "      <td>1</td>\n",
       "      <td>1</td>\n",
       "      <td>1</td>\n",
       "      <td>0</td>\n",
       "      <td>0</td>\n",
       "      <td>0</td>\n",
       "      <td>0</td>\n",
       "      <td>0</td>\n",
       "      <td>0</td>\n",
       "      <td>0</td>\n",
       "    </tr>\n",
       "    <tr>\n",
       "      <th>3</th>\n",
       "      <td>1</td>\n",
       "      <td>0.996744</td>\n",
       "      <td>4444</td>\n",
       "      <td>1</td>\n",
       "      <td>1</td>\n",
       "      <td>1</td>\n",
       "      <td>1</td>\n",
       "      <td>1</td>\n",
       "      <td>1</td>\n",
       "      <td>1</td>\n",
       "      <td>1</td>\n",
       "      <td>1</td>\n",
       "      <td>1</td>\n",
       "      <td>1</td>\n",
       "    </tr>\n",
       "    <tr>\n",
       "      <th>4</th>\n",
       "      <td>0</td>\n",
       "      <td>0.011410</td>\n",
       "      <td>8026</td>\n",
       "      <td>0</td>\n",
       "      <td>1</td>\n",
       "      <td>0</td>\n",
       "      <td>0</td>\n",
       "      <td>0</td>\n",
       "      <td>0</td>\n",
       "      <td>0</td>\n",
       "      <td>0</td>\n",
       "      <td>0</td>\n",
       "      <td>0</td>\n",
       "      <td>0</td>\n",
       "    </tr>\n",
       "  </tbody>\n",
       "</table>\n",
       "</div>"
      ],
      "text/plain": [
       "   Converted  Converted_prob  Prospect ID  Predicted  0.0  0.1  0.2  0.3  0.4  \\\n",
       "0          1        0.820453         2389          1    1    1    1    1    1   \n",
       "1          1        0.790742         7435          1    1    1    1    1    1   \n",
       "2          1        0.212203         1102          0    1    1    1    0    0   \n",
       "3          1        0.996744         4444          1    1    1    1    1    1   \n",
       "4          0        0.011410         8026          0    1    0    0    0    0   \n",
       "\n",
       "   0.5  0.6  0.7  0.8  0.9  \n",
       "0    1    1    1    1    0  \n",
       "1    1    1    1    0    0  \n",
       "2    0    0    0    0    0  \n",
       "3    1    1    1    1    1  \n",
       "4    0    0    0    0    0  "
      ]
     },
     "execution_count": 657,
     "metadata": {},
     "output_type": "execute_result"
    }
   ],
   "source": [
    "num = [float(x)/10 for x in range(10)]\n",
    "for i in num:\n",
    "    y_train_pred_f[i]= y_train_pred_f.Converted_prob.map(lambda x: 1 if x > i else 0)\n",
    "y_train_pred_f.head()"
   ]
  },
  {
   "cell_type": "code",
   "execution_count": 658,
   "id": "a385e3a9",
   "metadata": {},
   "outputs": [
    {
     "name": "stdout",
     "output_type": "stream",
     "text": [
      "     probability  accuracy  sensitivity  specificity\n",
      "0.0          0.0  0.379129     1.000000     0.000000\n",
      "0.1          0.1  0.890538     0.969697     0.842200\n",
      "0.2          0.2  0.919260     0.955387     0.897199\n",
      "0.3          0.3  0.926440     0.938552     0.919044\n",
      "0.4          0.4  0.931067     0.905303     0.946800\n",
      "0.5          0.5  0.934897     0.889310     0.962735\n",
      "0.6          0.6  0.934738     0.879630     0.968389\n",
      "0.7          0.7  0.928036     0.853535     0.973529\n",
      "0.8          0.8  0.909686     0.795034     0.979697\n",
      "0.9          0.9  0.898835     0.753367     0.987664\n"
     ]
    }
   ],
   "source": [
    "# Calculating Accuracy Sensitivity and Specificity for various Probability Cutoffs.\n",
    "cutoff = pd.DataFrame( columns = ['probability','accuracy','sensitivity','specificity'])\n",
    "num_01 = [0.0,0.1,0.2,0.3,0.4,0.5,0.6,0.7,0.8,0.9]\n",
    "for i in num_01:\n",
    "    cm_1 = metrics.confusion_matrix(y_train_pred_f.Converted, y_train_pred_f[i] )\n",
    "    total_1=sum(sum(cm_1))\n",
    "    accuracy = (cm_1[0,0]+cm_1[1,1])/total_1\n",
    "    specificity = cm_1[0,0]/(cm_1[0,0]+cm_1[0,1])\n",
    "    sensitivity = cm_1[1,1]/(cm_1[1,0]+cm_1[1,1])\n",
    "    cutoff.loc[i] =[ i ,accuracy,sensitivity,specificity]\n",
    "print(cutoff)"
   ]
  },
  {
   "cell_type": "code",
   "execution_count": 659,
   "id": "546416f1",
   "metadata": {},
   "outputs": [
    {
     "data": {
      "image/png": "[encoded data removed]",
      "text/plain": [
       "<Figure size 432x288 with 1 Axes>"
      ]
     },
     "metadata": {
      "needs_background": "light"
     },
     "output_type": "display_data"
    }
   ],
   "source": [
    "# Plotting accuracy sensitivity and specificity for various probabilities\n",
    "\n",
    "cutoff.plot.line(x='probability', y=['accuracy','sensitivity','specificity'])\n",
    "plt.show()"
   ]
  },
  {
   "cell_type": "markdown",
   "id": "c0a6301a",
   "metadata": {},
   "source": [
    "The optimal cutoff is at 0.35"
   ]
  },
  {
   "cell_type": "code",
   "execution_count": 660,
   "id": "17734817",
   "metadata": {},
   "outputs": [
    {
     "data": {
      "text/html": [
       "<div>\n",
       "<style scoped>\n",
       "    .dataframe tbody tr th:only-of-type {\n",
       "        vertical-align: middle;\n",
       "    }\n",
       "\n",
       "    .dataframe tbody tr th {\n",
       "        vertical-align: top;\n",
       "    }\n",
       "\n",
       "    .dataframe thead th {\n",
       "        text-align: right;\n",
       "    }\n",
       "</style>\n",
       "<table border=\"1\" class=\"dataframe\">\n",
       "  <thead>\n",
       "    <tr style=\"text-align: right;\">\n",
       "      <th></th>\n",
       "      <th>Converted</th>\n",
       "      <th>Converted_prob</th>\n",
       "      <th>Prospect ID</th>\n",
       "      <th>Predicted</th>\n",
       "      <th>0.0</th>\n",
       "      <th>0.1</th>\n",
       "      <th>0.2</th>\n",
       "      <th>0.3</th>\n",
       "      <th>0.4</th>\n",
       "      <th>0.5</th>\n",
       "      <th>0.6</th>\n",
       "      <th>0.7</th>\n",
       "      <th>0.8</th>\n",
       "      <th>0.9</th>\n",
       "      <th>Predicted_F</th>\n",
       "    </tr>\n",
       "  </thead>\n",
       "  <tbody>\n",
       "    <tr>\n",
       "      <th>0</th>\n",
       "      <td>1</td>\n",
       "      <td>0.820453</td>\n",
       "      <td>2389</td>\n",
       "      <td>1</td>\n",
       "      <td>1</td>\n",
       "      <td>1</td>\n",
       "      <td>1</td>\n",
       "      <td>1</td>\n",
       "      <td>1</td>\n",
       "      <td>1</td>\n",
       "      <td>1</td>\n",
       "      <td>1</td>\n",
       "      <td>1</td>\n",
       "      <td>0</td>\n",
       "      <td>1</td>\n",
       "    </tr>\n",
       "    <tr>\n",
       "      <th>1</th>\n",
       "      <td>1</td>\n",
       "      <td>0.790742</td>\n",
       "      <td>7435</td>\n",
       "      <td>1</td>\n",
       "      <td>1</td>\n",
       "      <td>1</td>\n",
       "      <td>1</td>\n",
       "      <td>1</td>\n",
       "      <td>1</td>\n",
       "      <td>1</td>\n",
       "      <td>1</td>\n",
       "      <td>1</td>\n",
       "      <td>0</td>\n",
       "      <td>0</td>\n",
       "      <td>1</td>\n",
       "    </tr>\n",
       "    <tr>\n",
       "      <th>2</th>\n",
       "      <td>1</td>\n",
       "      <td>0.212203</td>\n",
       "      <td>1102</td>\n",
       "      <td>0</td>\n",
       "      <td>1</td>\n",
       "      <td>1</td>\n",
       "      <td>1</td>\n",
       "      <td>0</td>\n",
       "      <td>0</td>\n",
       "      <td>0</td>\n",
       "      <td>0</td>\n",
       "      <td>0</td>\n",
       "      <td>0</td>\n",
       "      <td>0</td>\n",
       "      <td>0</td>\n",
       "    </tr>\n",
       "    <tr>\n",
       "      <th>3</th>\n",
       "      <td>1</td>\n",
       "      <td>0.996744</td>\n",
       "      <td>4444</td>\n",
       "      <td>1</td>\n",
       "      <td>1</td>\n",
       "      <td>1</td>\n",
       "      <td>1</td>\n",
       "      <td>1</td>\n",
       "      <td>1</td>\n",
       "      <td>1</td>\n",
       "      <td>1</td>\n",
       "      <td>1</td>\n",
       "      <td>1</td>\n",
       "      <td>1</td>\n",
       "      <td>1</td>\n",
       "    </tr>\n",
       "    <tr>\n",
       "      <th>4</th>\n",
       "      <td>0</td>\n",
       "      <td>0.011410</td>\n",
       "      <td>8026</td>\n",
       "      <td>0</td>\n",
       "      <td>1</td>\n",
       "      <td>0</td>\n",
       "      <td>0</td>\n",
       "      <td>0</td>\n",
       "      <td>0</td>\n",
       "      <td>0</td>\n",
       "      <td>0</td>\n",
       "      <td>0</td>\n",
       "      <td>0</td>\n",
       "      <td>0</td>\n",
       "      <td>0</td>\n",
       "    </tr>\n",
       "  </tbody>\n",
       "</table>\n",
       "</div>"
      ],
      "text/plain": [
       "   Converted  Converted_prob  Prospect ID  Predicted  0.0  0.1  0.2  0.3  0.4  \\\n",
       "0          1        0.820453         2389          1    1    1    1    1    1   \n",
       "1          1        0.790742         7435          1    1    1    1    1    1   \n",
       "2          1        0.212203         1102          0    1    1    1    0    0   \n",
       "3          1        0.996744         4444          1    1    1    1    1    1   \n",
       "4          0        0.011410         8026          0    1    0    0    0    0   \n",
       "\n",
       "   0.5  0.6  0.7  0.8  0.9  Predicted_F  \n",
       "0    1    1    1    1    0            1  \n",
       "1    1    1    1    0    0            1  \n",
       "2    0    0    0    0    0            0  \n",
       "3    1    1    1    1    1            1  \n",
       "4    0    0    0    0    0            0  "
      ]
     },
     "execution_count": 660,
     "metadata": {},
     "output_type": "execute_result"
    }
   ],
   "source": [
    "y_train_pred_f['Predicted_F'] = y_train_pred_f.Converted_prob.map( lambda x: 1 if x > 0.35 else 0)\n",
    "y_train_pred_f.head()"
   ]
  },
  {
   "cell_type": "code",
   "execution_count": 661,
   "id": "4fe0e6f6",
   "metadata": {},
   "outputs": [
    {
     "data": {
      "text/html": [
       "<div>\n",
       "<style scoped>\n",
       "    .dataframe tbody tr th:only-of-type {\n",
       "        vertical-align: middle;\n",
       "    }\n",
       "\n",
       "    .dataframe tbody tr th {\n",
       "        vertical-align: top;\n",
       "    }\n",
       "\n",
       "    .dataframe thead th {\n",
       "        text-align: right;\n",
       "    }\n",
       "</style>\n",
       "<table border=\"1\" class=\"dataframe\">\n",
       "  <thead>\n",
       "    <tr style=\"text-align: right;\">\n",
       "      <th></th>\n",
       "      <th>Converted</th>\n",
       "      <th>Converted_prob</th>\n",
       "      <th>Prospect ID</th>\n",
       "      <th>Predicted_F</th>\n",
       "      <th>Score_Lead</th>\n",
       "    </tr>\n",
       "  </thead>\n",
       "  <tbody>\n",
       "    <tr>\n",
       "      <th>0</th>\n",
       "      <td>1</td>\n",
       "      <td>0.820453</td>\n",
       "      <td>2389</td>\n",
       "      <td>1</td>\n",
       "      <td>82</td>\n",
       "    </tr>\n",
       "    <tr>\n",
       "      <th>1</th>\n",
       "      <td>1</td>\n",
       "      <td>0.790742</td>\n",
       "      <td>7435</td>\n",
       "      <td>1</td>\n",
       "      <td>79</td>\n",
       "    </tr>\n",
       "    <tr>\n",
       "      <th>2</th>\n",
       "      <td>1</td>\n",
       "      <td>0.212203</td>\n",
       "      <td>1102</td>\n",
       "      <td>0</td>\n",
       "      <td>21</td>\n",
       "    </tr>\n",
       "    <tr>\n",
       "      <th>3</th>\n",
       "      <td>1</td>\n",
       "      <td>0.996744</td>\n",
       "      <td>4444</td>\n",
       "      <td>1</td>\n",
       "      <td>100</td>\n",
       "    </tr>\n",
       "    <tr>\n",
       "      <th>4</th>\n",
       "      <td>0</td>\n",
       "      <td>0.011410</td>\n",
       "      <td>8026</td>\n",
       "      <td>0</td>\n",
       "      <td>1</td>\n",
       "    </tr>\n",
       "  </tbody>\n",
       "</table>\n",
       "</div>"
      ],
      "text/plain": [
       "   Converted  Converted_prob  Prospect ID  Predicted_F  Score_Lead\n",
       "0          1        0.820453         2389            1          82\n",
       "1          1        0.790742         7435            1          79\n",
       "2          1        0.212203         1102            0          21\n",
       "3          1        0.996744         4444            1         100\n",
       "4          0        0.011410         8026            0           1"
      ]
     },
     "execution_count": 661,
     "metadata": {},
     "output_type": "execute_result"
    }
   ],
   "source": [
    "y_train_pred_f['Score_Lead'] = y_train_pred_f.Converted_prob.map( lambda x: round(x*100))\n",
    "\n",
    "y_train_pred_f[['Converted','Converted_prob','Prospect ID','Predicted_F','Score_Lead']].head()"
   ]
  },
  {
   "cell_type": "code",
   "execution_count": null,
   "id": "5b4fde7c",
   "metadata": {},
   "outputs": [],
   "source": []
  },
  {
   "cell_type": "code",
   "execution_count": 662,
   "id": "05ca4a82",
   "metadata": {},
   "outputs": [
    {
     "data": {
      "text/plain": [
       "array([[3615,  276],\n",
       "       [ 162, 2214]], dtype=int64)"
      ]
     },
     "execution_count": 662,
     "metadata": {},
     "output_type": "execute_result"
    }
   ],
   "source": [
    "con_metrics = metrics.confusion_matrix(y_train_pred_f.Converted, y_train_pred_f.Predicted_F)\n",
    "con_metrics"
   ]
  },
  {
   "cell_type": "code",
   "execution_count": 663,
   "id": "195b79d4",
   "metadata": {},
   "outputs": [],
   "source": [
    "TP = con_metrics[1,1] # true positive \n",
    "TN = con_metrics[0,0] # true negatives\n",
    "FP = con_metrics[0,1] # false positives\n",
    "FN = con_metrics[1,0] # false negatives"
   ]
  },
  {
   "cell_type": "code",
   "execution_count": 664,
   "id": "d7956857",
   "metadata": {},
   "outputs": [
    {
     "data": {
      "text/plain": [
       "0.9301101005265677"
      ]
     },
     "execution_count": 664,
     "metadata": {},
     "output_type": "execute_result"
    }
   ],
   "source": [
    "# Accuracy\n",
    "(TP+TN)/(TP+TN+FP+FN)"
   ]
  },
  {
   "cell_type": "code",
   "execution_count": 665,
   "id": "ff104ed8",
   "metadata": {},
   "outputs": [
    {
     "data": {
      "text/plain": [
       "0.9318181818181818"
      ]
     },
     "execution_count": 665,
     "metadata": {},
     "output_type": "execute_result"
    }
   ],
   "source": [
    "# Sensitivity/Recall\n",
    "TP/(TP+FN)"
   ]
  },
  {
   "cell_type": "code",
   "execution_count": 666,
   "id": "7a37d0b7",
   "metadata": {},
   "outputs": [
    {
     "data": {
      "text/plain": [
       "0.9290670778720124"
      ]
     },
     "execution_count": 666,
     "metadata": {},
     "output_type": "execute_result"
    }
   ],
   "source": [
    "# Specificity\n",
    "TN / float(TN+FP)"
   ]
  },
  {
   "cell_type": "code",
   "execution_count": 667,
   "id": "320f1773",
   "metadata": {},
   "outputs": [
    {
     "data": {
      "text/plain": [
       "0.8891566265060241"
      ]
     },
     "execution_count": 667,
     "metadata": {},
     "output_type": "execute_result"
    }
   ],
   "source": [
    "# Precession\n",
    "TP/(TP+FP)"
   ]
  },
  {
   "cell_type": "markdown",
   "id": "7a60d984",
   "metadata": {},
   "source": [
    "With cutoff 0.35 on Train Data\n",
    "1. Accuracy = 93.01%\n",
    "2. Senstivity/Recall = 93.18%\n",
    "3. Specificity = 92.90%\n",
    "4. Precession = 88.91%"
   ]
  },
  {
   "cell_type": "markdown",
   "id": "ec942a52",
   "metadata": {},
   "source": [
    "We concluded that the optimal cut-off for the model is around 0.35 and chose this value to be threshold and got decent values of all the metrics – Accuracy (93.01%), Sensitivity (93.18%), and Specificity (92.90%)."
   ]
  },
  {
   "cell_type": "code",
   "execution_count": 668,
   "id": "721ef7fd",
   "metadata": {},
   "outputs": [],
   "source": [
    "y_train_pred_f.Converted, y_train_pred_f.Predicted_F\n",
    "precession, recall, thresholds = precision_recall_curve(y_train_pred_f.Converted, y_train_pred_f.Converted_prob)"
   ]
  },
  {
   "cell_type": "code",
   "execution_count": 669,
   "id": "b14195cc",
   "metadata": {},
   "outputs": [
    {
     "data": {
      "image/png": "[encoded data removed]",
      "text/plain": [
       "<Figure size 432x288 with 1 Axes>"
      ]
     },
     "metadata": {
      "needs_background": "light"
     },
     "output_type": "display_data"
    }
   ],
   "source": [
    "plt.plot(thresholds, precession[:-1], \"r-\")\n",
    "plt.plot(thresholds, recall[:-1], \"b-\")\n",
    "plt.show()"
   ]
  },
  {
   "cell_type": "markdown",
   "id": "cdf0a69a",
   "metadata": {},
   "source": [
    "Plotted a trade-off curve between precision and recall."
   ]
  },
  {
   "cell_type": "markdown",
   "id": "bc95aee5",
   "metadata": {},
   "source": [
    "# 11. Scaling Test Set"
   ]
  },
  {
   "cell_type": "code",
   "execution_count": 670,
   "id": "ebac6386",
   "metadata": {},
   "outputs": [
    {
     "data": {
      "text/html": [
       "<div>\n",
       "<style scoped>\n",
       "    .dataframe tbody tr th:only-of-type {\n",
       "        vertical-align: middle;\n",
       "    }\n",
       "\n",
       "    .dataframe tbody tr th {\n",
       "        vertical-align: top;\n",
       "    }\n",
       "\n",
       "    .dataframe thead th {\n",
       "        text-align: right;\n",
       "    }\n",
       "</style>\n",
       "<table border=\"1\" class=\"dataframe\">\n",
       "  <thead>\n",
       "    <tr style=\"text-align: right;\">\n",
       "      <th></th>\n",
       "      <th>TotalVisits</th>\n",
       "      <th>Total Time Spent on Website</th>\n",
       "      <th>Page Views Per Visit</th>\n",
       "      <th>Lead Origin_Landing Page Submission</th>\n",
       "      <th>Lead Origin_Lead Add Form</th>\n",
       "      <th>Lead Origin_Lead Import</th>\n",
       "      <th>What is your current occupation_Housewife</th>\n",
       "      <th>What is your current occupation_Not Specified</th>\n",
       "      <th>What is your current occupation_Other</th>\n",
       "      <th>What is your current occupation_Student</th>\n",
       "      <th>...</th>\n",
       "      <th>Tags_Graduation in progress</th>\n",
       "      <th>Tags_Interested  in full time MBA</th>\n",
       "      <th>Tags_Interested in other courses</th>\n",
       "      <th>Tags_Lost to EINS</th>\n",
       "      <th>Tags_Negative Tags</th>\n",
       "      <th>Tags_Positive Tags</th>\n",
       "      <th>Tags_Ringing</th>\n",
       "      <th>Tags_Will revert after reading the email</th>\n",
       "      <th>Tags_in touch with EINS</th>\n",
       "      <th>Tags_switched off</th>\n",
       "    </tr>\n",
       "  </thead>\n",
       "  <tbody>\n",
       "    <tr>\n",
       "      <th>9078</th>\n",
       "      <td>0.176471</td>\n",
       "      <td>0.047576</td>\n",
       "      <td>0.333333</td>\n",
       "      <td>1</td>\n",
       "      <td>0</td>\n",
       "      <td>0</td>\n",
       "      <td>0</td>\n",
       "      <td>1</td>\n",
       "      <td>0</td>\n",
       "      <td>0</td>\n",
       "      <td>...</td>\n",
       "      <td>0</td>\n",
       "      <td>0</td>\n",
       "      <td>0</td>\n",
       "      <td>0</td>\n",
       "      <td>0</td>\n",
       "      <td>0</td>\n",
       "      <td>0</td>\n",
       "      <td>0</td>\n",
       "      <td>0</td>\n",
       "      <td>0</td>\n",
       "    </tr>\n",
       "    <tr>\n",
       "      <th>7931</th>\n",
       "      <td>0.117647</td>\n",
       "      <td>0.816493</td>\n",
       "      <td>0.222222</td>\n",
       "      <td>1</td>\n",
       "      <td>0</td>\n",
       "      <td>0</td>\n",
       "      <td>0</td>\n",
       "      <td>0</td>\n",
       "      <td>0</td>\n",
       "      <td>0</td>\n",
       "      <td>...</td>\n",
       "      <td>0</td>\n",
       "      <td>0</td>\n",
       "      <td>0</td>\n",
       "      <td>0</td>\n",
       "      <td>0</td>\n",
       "      <td>0</td>\n",
       "      <td>0</td>\n",
       "      <td>1</td>\n",
       "      <td>0</td>\n",
       "      <td>0</td>\n",
       "    </tr>\n",
       "    <tr>\n",
       "      <th>4624</th>\n",
       "      <td>0.000000</td>\n",
       "      <td>0.000000</td>\n",
       "      <td>0.000000</td>\n",
       "      <td>0</td>\n",
       "      <td>0</td>\n",
       "      <td>0</td>\n",
       "      <td>0</td>\n",
       "      <td>0</td>\n",
       "      <td>0</td>\n",
       "      <td>0</td>\n",
       "      <td>...</td>\n",
       "      <td>0</td>\n",
       "      <td>0</td>\n",
       "      <td>0</td>\n",
       "      <td>0</td>\n",
       "      <td>0</td>\n",
       "      <td>0</td>\n",
       "      <td>0</td>\n",
       "      <td>1</td>\n",
       "      <td>0</td>\n",
       "      <td>0</td>\n",
       "    </tr>\n",
       "    <tr>\n",
       "      <th>176</th>\n",
       "      <td>0.117647</td>\n",
       "      <td>0.173539</td>\n",
       "      <td>0.222222</td>\n",
       "      <td>1</td>\n",
       "      <td>0</td>\n",
       "      <td>0</td>\n",
       "      <td>0</td>\n",
       "      <td>1</td>\n",
       "      <td>0</td>\n",
       "      <td>0</td>\n",
       "      <td>...</td>\n",
       "      <td>0</td>\n",
       "      <td>0</td>\n",
       "      <td>0</td>\n",
       "      <td>0</td>\n",
       "      <td>0</td>\n",
       "      <td>0</td>\n",
       "      <td>0</td>\n",
       "      <td>0</td>\n",
       "      <td>0</td>\n",
       "      <td>0</td>\n",
       "    </tr>\n",
       "    <tr>\n",
       "      <th>5080</th>\n",
       "      <td>0.176471</td>\n",
       "      <td>0.611690</td>\n",
       "      <td>0.333333</td>\n",
       "      <td>0</td>\n",
       "      <td>0</td>\n",
       "      <td>0</td>\n",
       "      <td>0</td>\n",
       "      <td>0</td>\n",
       "      <td>0</td>\n",
       "      <td>0</td>\n",
       "      <td>...</td>\n",
       "      <td>0</td>\n",
       "      <td>0</td>\n",
       "      <td>0</td>\n",
       "      <td>0</td>\n",
       "      <td>0</td>\n",
       "      <td>0</td>\n",
       "      <td>0</td>\n",
       "      <td>0</td>\n",
       "      <td>0</td>\n",
       "      <td>0</td>\n",
       "    </tr>\n",
       "  </tbody>\n",
       "</table>\n",
       "<p>5 rows × 58 columns</p>\n",
       "</div>"
      ],
      "text/plain": [
       "      TotalVisits  Total Time Spent on Website  Page Views Per Visit  \\\n",
       "9078     0.176471                     0.047576              0.333333   \n",
       "7931     0.117647                     0.816493              0.222222   \n",
       "4624     0.000000                     0.000000              0.000000   \n",
       "176      0.117647                     0.173539              0.222222   \n",
       "5080     0.176471                     0.611690              0.333333   \n",
       "\n",
       "      Lead Origin_Landing Page Submission  Lead Origin_Lead Add Form  \\\n",
       "9078                                    1                          0   \n",
       "7931                                    1                          0   \n",
       "4624                                    0                          0   \n",
       "176                                     1                          0   \n",
       "5080                                    0                          0   \n",
       "\n",
       "      Lead Origin_Lead Import  What is your current occupation_Housewife  \\\n",
       "9078                        0                                          0   \n",
       "7931                        0                                          0   \n",
       "4624                        0                                          0   \n",
       "176                         0                                          0   \n",
       "5080                        0                                          0   \n",
       "\n",
       "      What is your current occupation_Not Specified  \\\n",
       "9078                                              1   \n",
       "7931                                              0   \n",
       "4624                                              0   \n",
       "176                                               1   \n",
       "5080                                              0   \n",
       "\n",
       "      What is your current occupation_Other  \\\n",
       "9078                                      0   \n",
       "7931                                      0   \n",
       "4624                                      0   \n",
       "176                                       0   \n",
       "5080                                      0   \n",
       "\n",
       "      What is your current occupation_Student  ...  \\\n",
       "9078                                        0  ...   \n",
       "7931                                        0  ...   \n",
       "4624                                        0  ...   \n",
       "176                                         0  ...   \n",
       "5080                                        0  ...   \n",
       "\n",
       "      Tags_Graduation in progress  Tags_Interested  in full time MBA  \\\n",
       "9078                            0                                  0   \n",
       "7931                            0                                  0   \n",
       "4624                            0                                  0   \n",
       "176                             0                                  0   \n",
       "5080                            0                                  0   \n",
       "\n",
       "      Tags_Interested in other courses  Tags_Lost to EINS  Tags_Negative Tags  \\\n",
       "9078                                 0                  0                   0   \n",
       "7931                                 0                  0                   0   \n",
       "4624                                 0                  0                   0   \n",
       "176                                  0                  0                   0   \n",
       "5080                                 0                  0                   0   \n",
       "\n",
       "      Tags_Positive Tags  Tags_Ringing  \\\n",
       "9078                   0             0   \n",
       "7931                   0             0   \n",
       "4624                   0             0   \n",
       "176                    0             0   \n",
       "5080                   0             0   \n",
       "\n",
       "      Tags_Will revert after reading the email  Tags_in touch with EINS  \\\n",
       "9078                                         0                        0   \n",
       "7931                                         1                        0   \n",
       "4624                                         1                        0   \n",
       "176                                          0                        0   \n",
       "5080                                         0                        0   \n",
       "\n",
       "      Tags_switched off  \n",
       "9078                  0  \n",
       "7931                  0  \n",
       "4624                  0  \n",
       "176                   0  \n",
       "5080                  0  \n",
       "\n",
       "[5 rows x 58 columns]"
      ]
     },
     "execution_count": 670,
     "metadata": {},
     "output_type": "execute_result"
    }
   ],
   "source": [
    "scale = MinMaxScaler()\n",
    "X_test[['TotalVisits', 'Page Views Per Visit', 'Total Time Spent on Website']] = scale.fit_transform(X_test[['TotalVisits', 'Page Views Per Visit', 'Total Time Spent on Website']])\n",
    "X_test.head()"
   ]
  },
  {
   "cell_type": "code",
   "execution_count": 671,
   "id": "e13167dd",
   "metadata": {},
   "outputs": [
    {
     "data": {
      "text/html": [
       "<div>\n",
       "<style scoped>\n",
       "    .dataframe tbody tr th:only-of-type {\n",
       "        vertical-align: middle;\n",
       "    }\n",
       "\n",
       "    .dataframe tbody tr th {\n",
       "        vertical-align: top;\n",
       "    }\n",
       "\n",
       "    .dataframe thead th {\n",
       "        text-align: right;\n",
       "    }\n",
       "</style>\n",
       "<table border=\"1\" class=\"dataframe\">\n",
       "  <thead>\n",
       "    <tr style=\"text-align: right;\">\n",
       "      <th></th>\n",
       "      <th>Total Time Spent on Website</th>\n",
       "      <th>What is your current occupation_Not Specified</th>\n",
       "      <th>Lead Source_Welingak Website</th>\n",
       "      <th>Last Activity_SMS Sent</th>\n",
       "      <th>Last Notable Activity_Modified</th>\n",
       "      <th>Tags_Already a student</th>\n",
       "      <th>Tags_Closed by Horizzon</th>\n",
       "      <th>Tags_Graduation in progress</th>\n",
       "      <th>Tags_Interested  in full time MBA</th>\n",
       "      <th>Tags_Interested in other courses</th>\n",
       "      <th>Tags_Lost to EINS</th>\n",
       "      <th>Tags_Negative Tags</th>\n",
       "      <th>Tags_Ringing</th>\n",
       "      <th>Tags_Will revert after reading the email</th>\n",
       "      <th>Tags_switched off</th>\n",
       "    </tr>\n",
       "  </thead>\n",
       "  <tbody>\n",
       "    <tr>\n",
       "      <th>9078</th>\n",
       "      <td>0.047576</td>\n",
       "      <td>1</td>\n",
       "      <td>0</td>\n",
       "      <td>0</td>\n",
       "      <td>1</td>\n",
       "      <td>0</td>\n",
       "      <td>0</td>\n",
       "      <td>0</td>\n",
       "      <td>0</td>\n",
       "      <td>0</td>\n",
       "      <td>0</td>\n",
       "      <td>0</td>\n",
       "      <td>0</td>\n",
       "      <td>0</td>\n",
       "      <td>0</td>\n",
       "    </tr>\n",
       "    <tr>\n",
       "      <th>7931</th>\n",
       "      <td>0.816493</td>\n",
       "      <td>0</td>\n",
       "      <td>0</td>\n",
       "      <td>1</td>\n",
       "      <td>0</td>\n",
       "      <td>0</td>\n",
       "      <td>0</td>\n",
       "      <td>0</td>\n",
       "      <td>0</td>\n",
       "      <td>0</td>\n",
       "      <td>0</td>\n",
       "      <td>0</td>\n",
       "      <td>0</td>\n",
       "      <td>1</td>\n",
       "      <td>0</td>\n",
       "    </tr>\n",
       "    <tr>\n",
       "      <th>4624</th>\n",
       "      <td>0.000000</td>\n",
       "      <td>0</td>\n",
       "      <td>0</td>\n",
       "      <td>1</td>\n",
       "      <td>0</td>\n",
       "      <td>0</td>\n",
       "      <td>0</td>\n",
       "      <td>0</td>\n",
       "      <td>0</td>\n",
       "      <td>0</td>\n",
       "      <td>0</td>\n",
       "      <td>0</td>\n",
       "      <td>0</td>\n",
       "      <td>1</td>\n",
       "      <td>0</td>\n",
       "    </tr>\n",
       "    <tr>\n",
       "      <th>176</th>\n",
       "      <td>0.173539</td>\n",
       "      <td>1</td>\n",
       "      <td>0</td>\n",
       "      <td>0</td>\n",
       "      <td>0</td>\n",
       "      <td>0</td>\n",
       "      <td>0</td>\n",
       "      <td>0</td>\n",
       "      <td>0</td>\n",
       "      <td>0</td>\n",
       "      <td>0</td>\n",
       "      <td>0</td>\n",
       "      <td>0</td>\n",
       "      <td>0</td>\n",
       "      <td>0</td>\n",
       "    </tr>\n",
       "    <tr>\n",
       "      <th>5080</th>\n",
       "      <td>0.611690</td>\n",
       "      <td>0</td>\n",
       "      <td>0</td>\n",
       "      <td>0</td>\n",
       "      <td>0</td>\n",
       "      <td>0</td>\n",
       "      <td>0</td>\n",
       "      <td>0</td>\n",
       "      <td>0</td>\n",
       "      <td>0</td>\n",
       "      <td>0</td>\n",
       "      <td>0</td>\n",
       "      <td>0</td>\n",
       "      <td>0</td>\n",
       "      <td>0</td>\n",
       "    </tr>\n",
       "  </tbody>\n",
       "</table>\n",
       "</div>"
      ],
      "text/plain": [
       "      Total Time Spent on Website  \\\n",
       "9078                     0.047576   \n",
       "7931                     0.816493   \n",
       "4624                     0.000000   \n",
       "176                      0.173539   \n",
       "5080                     0.611690   \n",
       "\n",
       "      What is your current occupation_Not Specified  \\\n",
       "9078                                              1   \n",
       "7931                                              0   \n",
       "4624                                              0   \n",
       "176                                               1   \n",
       "5080                                              0   \n",
       "\n",
       "      Lead Source_Welingak Website  Last Activity_SMS Sent  \\\n",
       "9078                             0                       0   \n",
       "7931                             0                       1   \n",
       "4624                             0                       1   \n",
       "176                              0                       0   \n",
       "5080                             0                       0   \n",
       "\n",
       "      Last Notable Activity_Modified  Tags_Already a student  \\\n",
       "9078                               1                       0   \n",
       "7931                               0                       0   \n",
       "4624                               0                       0   \n",
       "176                                0                       0   \n",
       "5080                               0                       0   \n",
       "\n",
       "      Tags_Closed by Horizzon  Tags_Graduation in progress  \\\n",
       "9078                        0                            0   \n",
       "7931                        0                            0   \n",
       "4624                        0                            0   \n",
       "176                         0                            0   \n",
       "5080                        0                            0   \n",
       "\n",
       "      Tags_Interested  in full time MBA  Tags_Interested in other courses  \\\n",
       "9078                                  0                                 0   \n",
       "7931                                  0                                 0   \n",
       "4624                                  0                                 0   \n",
       "176                                   0                                 0   \n",
       "5080                                  0                                 0   \n",
       "\n",
       "      Tags_Lost to EINS  Tags_Negative Tags  Tags_Ringing  \\\n",
       "9078                  0                   0             0   \n",
       "7931                  0                   0             0   \n",
       "4624                  0                   0             0   \n",
       "176                   0                   0             0   \n",
       "5080                  0                   0             0   \n",
       "\n",
       "      Tags_Will revert after reading the email  Tags_switched off  \n",
       "9078                                         0                  0  \n",
       "7931                                         1                  0  \n",
       "4624                                         1                  0  \n",
       "176                                          0                  0  \n",
       "5080                                         0                  0  "
      ]
     },
     "execution_count": 671,
     "metadata": {},
     "output_type": "execute_result"
    }
   ],
   "source": [
    "X_test = X_test[column]\n",
    "X_test.head()"
   ]
  },
  {
   "cell_type": "code",
   "execution_count": 672,
   "id": "9c2cbe8e",
   "metadata": {},
   "outputs": [],
   "source": [
    "X_test_f = sm.add_constant(X_test)"
   ]
  },
  {
   "cell_type": "markdown",
   "id": "99445e38",
   "metadata": {},
   "source": [
    "# 12. Prediction on Test Set"
   ]
  },
  {
   "cell_type": "code",
   "execution_count": 673,
   "id": "b23c420c",
   "metadata": {},
   "outputs": [],
   "source": [
    "y_test_pred_f = result.predict(X_test_f)"
   ]
  },
  {
   "cell_type": "code",
   "execution_count": 674,
   "id": "b196bbc1",
   "metadata": {},
   "outputs": [
    {
     "data": {
      "text/plain": [
       "9078    0.013450\n",
       "7931    0.999228\n",
       "4624    0.986707\n",
       "176     0.096655\n",
       "5080    0.826668\n",
       "3480    0.055075\n",
       "6941    0.026089\n",
       "3620    0.011410\n",
       "1042    0.011410\n",
       "9124    0.106071\n",
       "8404    0.456085\n",
       "5215    0.001216\n",
       "4410    0.022773\n",
       "8212    0.017567\n",
       "719     0.006875\n",
       "dtype: float64"
      ]
     },
     "execution_count": 674,
     "metadata": {},
     "output_type": "execute_result"
    }
   ],
   "source": [
    "y_test_pred_f[:15]"
   ]
  },
  {
   "cell_type": "code",
   "execution_count": 675,
   "id": "66da1ffd",
   "metadata": {},
   "outputs": [
    {
     "data": {
      "text/html": [
       "<div>\n",
       "<style scoped>\n",
       "    .dataframe tbody tr th:only-of-type {\n",
       "        vertical-align: middle;\n",
       "    }\n",
       "\n",
       "    .dataframe tbody tr th {\n",
       "        vertical-align: top;\n",
       "    }\n",
       "\n",
       "    .dataframe thead th {\n",
       "        text-align: right;\n",
       "    }\n",
       "</style>\n",
       "<table border=\"1\" class=\"dataframe\">\n",
       "  <thead>\n",
       "    <tr style=\"text-align: right;\">\n",
       "      <th></th>\n",
       "      <th>0</th>\n",
       "    </tr>\n",
       "  </thead>\n",
       "  <tbody>\n",
       "    <tr>\n",
       "      <th>9078</th>\n",
       "      <td>0.013450</td>\n",
       "    </tr>\n",
       "    <tr>\n",
       "      <th>7931</th>\n",
       "      <td>0.999228</td>\n",
       "    </tr>\n",
       "    <tr>\n",
       "      <th>4624</th>\n",
       "      <td>0.986707</td>\n",
       "    </tr>\n",
       "    <tr>\n",
       "      <th>176</th>\n",
       "      <td>0.096655</td>\n",
       "    </tr>\n",
       "    <tr>\n",
       "      <th>5080</th>\n",
       "      <td>0.826668</td>\n",
       "    </tr>\n",
       "  </tbody>\n",
       "</table>\n",
       "</div>"
      ],
      "text/plain": [
       "             0\n",
       "9078  0.013450\n",
       "7931  0.999228\n",
       "4624  0.986707\n",
       "176   0.096655\n",
       "5080  0.826668"
      ]
     },
     "execution_count": 675,
     "metadata": {},
     "output_type": "execute_result"
    }
   ],
   "source": [
    "# Converting into Arrays\n",
    "y_pred_f = pd.DataFrame(y_test_pred_f)\n",
    "y_pred_f.head()"
   ]
  },
  {
   "cell_type": "code",
   "execution_count": 676,
   "id": "19c5ff9f",
   "metadata": {},
   "outputs": [],
   "source": [
    "# Converting y_test to dataframe\n",
    "df_y_test = pd.DataFrame(y_test)"
   ]
  },
  {
   "cell_type": "code",
   "execution_count": 677,
   "id": "7f12ef7c",
   "metadata": {},
   "outputs": [],
   "source": [
    "# Putting CustID to index\n",
    "df_y_test['Prospect ID'] = df_y_test.index"
   ]
  },
  {
   "cell_type": "code",
   "execution_count": 678,
   "id": "42bb3d89",
   "metadata": {},
   "outputs": [],
   "source": [
    "# Removing index for both dataframes to append them \n",
    "y_pred_f.reset_index(drop=True, inplace=True)\n",
    "df_y_test.reset_index(drop=True, inplace=True)"
   ]
  },
  {
   "cell_type": "code",
   "execution_count": 679,
   "id": "38f5bda1",
   "metadata": {},
   "outputs": [
    {
     "data": {
      "text/html": [
       "<div>\n",
       "<style scoped>\n",
       "    .dataframe tbody tr th:only-of-type {\n",
       "        vertical-align: middle;\n",
       "    }\n",
       "\n",
       "    .dataframe tbody tr th {\n",
       "        vertical-align: top;\n",
       "    }\n",
       "\n",
       "    .dataframe thead th {\n",
       "        text-align: right;\n",
       "    }\n",
       "</style>\n",
       "<table border=\"1\" class=\"dataframe\">\n",
       "  <thead>\n",
       "    <tr style=\"text-align: right;\">\n",
       "      <th></th>\n",
       "      <th>Converted</th>\n",
       "      <th>Prospect ID</th>\n",
       "      <th>0</th>\n",
       "    </tr>\n",
       "  </thead>\n",
       "  <tbody>\n",
       "    <tr>\n",
       "      <th>0</th>\n",
       "      <td>0</td>\n",
       "      <td>9078</td>\n",
       "      <td>0.013450</td>\n",
       "    </tr>\n",
       "    <tr>\n",
       "      <th>1</th>\n",
       "      <td>1</td>\n",
       "      <td>7931</td>\n",
       "      <td>0.999228</td>\n",
       "    </tr>\n",
       "    <tr>\n",
       "      <th>2</th>\n",
       "      <td>1</td>\n",
       "      <td>4624</td>\n",
       "      <td>0.986707</td>\n",
       "    </tr>\n",
       "    <tr>\n",
       "      <th>3</th>\n",
       "      <td>0</td>\n",
       "      <td>176</td>\n",
       "      <td>0.096655</td>\n",
       "    </tr>\n",
       "    <tr>\n",
       "      <th>4</th>\n",
       "      <td>1</td>\n",
       "      <td>5080</td>\n",
       "      <td>0.826668</td>\n",
       "    </tr>\n",
       "  </tbody>\n",
       "</table>\n",
       "</div>"
      ],
      "text/plain": [
       "   Converted  Prospect ID         0\n",
       "0          0         9078  0.013450\n",
       "1          1         7931  0.999228\n",
       "2          1         4624  0.986707\n",
       "3          0          176  0.096655\n",
       "4          1         5080  0.826668"
      ]
     },
     "execution_count": 679,
     "metadata": {},
     "output_type": "execute_result"
    }
   ],
   "source": [
    "# Appending df_y_test and y_pred_f\n",
    "y_pred_f = pd.concat([df_y_test, y_pred_f],axis=1)\n",
    "y_pred_f.head()"
   ]
  },
  {
   "cell_type": "code",
   "execution_count": 680,
   "id": "82decb94",
   "metadata": {},
   "outputs": [
    {
     "data": {
      "text/html": [
       "<div>\n",
       "<style scoped>\n",
       "    .dataframe tbody tr th:only-of-type {\n",
       "        vertical-align: middle;\n",
       "    }\n",
       "\n",
       "    .dataframe tbody tr th {\n",
       "        vertical-align: top;\n",
       "    }\n",
       "\n",
       "    .dataframe thead th {\n",
       "        text-align: right;\n",
       "    }\n",
       "</style>\n",
       "<table border=\"1\" class=\"dataframe\">\n",
       "  <thead>\n",
       "    <tr style=\"text-align: right;\">\n",
       "      <th></th>\n",
       "      <th>Converted</th>\n",
       "      <th>Prospect ID</th>\n",
       "      <th>Converted_prob</th>\n",
       "    </tr>\n",
       "  </thead>\n",
       "  <tbody>\n",
       "    <tr>\n",
       "      <th>0</th>\n",
       "      <td>0</td>\n",
       "      <td>9078</td>\n",
       "      <td>0.013450</td>\n",
       "    </tr>\n",
       "    <tr>\n",
       "      <th>1</th>\n",
       "      <td>1</td>\n",
       "      <td>7931</td>\n",
       "      <td>0.999228</td>\n",
       "    </tr>\n",
       "    <tr>\n",
       "      <th>2</th>\n",
       "      <td>1</td>\n",
       "      <td>4624</td>\n",
       "      <td>0.986707</td>\n",
       "    </tr>\n",
       "    <tr>\n",
       "      <th>3</th>\n",
       "      <td>0</td>\n",
       "      <td>176</td>\n",
       "      <td>0.096655</td>\n",
       "    </tr>\n",
       "    <tr>\n",
       "      <th>4</th>\n",
       "      <td>1</td>\n",
       "      <td>5080</td>\n",
       "      <td>0.826668</td>\n",
       "    </tr>\n",
       "  </tbody>\n",
       "</table>\n",
       "</div>"
      ],
      "text/plain": [
       "   Converted  Prospect ID  Converted_prob\n",
       "0          0         9078        0.013450\n",
       "1          1         7931        0.999228\n",
       "2          1         4624        0.986707\n",
       "3          0          176        0.096655\n",
       "4          1         5080        0.826668"
      ]
     },
     "execution_count": 680,
     "metadata": {},
     "output_type": "execute_result"
    }
   ],
   "source": [
    "# Renaming the column \n",
    "y_pred_f= y_pred_f.rename(columns={ 0 : 'Converted_prob'})\n",
    "y_pred_f.head()"
   ]
  },
  {
   "cell_type": "code",
   "execution_count": 681,
   "id": "ba12b5f2",
   "metadata": {},
   "outputs": [
    {
     "data": {
      "text/html": [
       "<div>\n",
       "<style scoped>\n",
       "    .dataframe tbody tr th:only-of-type {\n",
       "        vertical-align: middle;\n",
       "    }\n",
       "\n",
       "    .dataframe tbody tr th {\n",
       "        vertical-align: top;\n",
       "    }\n",
       "\n",
       "    .dataframe thead th {\n",
       "        text-align: right;\n",
       "    }\n",
       "</style>\n",
       "<table border=\"1\" class=\"dataframe\">\n",
       "  <thead>\n",
       "    <tr style=\"text-align: right;\">\n",
       "      <th></th>\n",
       "      <th>Prospect ID</th>\n",
       "      <th>Converted</th>\n",
       "      <th>Converted_prob</th>\n",
       "      <th>Score_Lead</th>\n",
       "    </tr>\n",
       "  </thead>\n",
       "  <tbody>\n",
       "    <tr>\n",
       "      <th>0</th>\n",
       "      <td>9078</td>\n",
       "      <td>0</td>\n",
       "      <td>0.013450</td>\n",
       "      <td>1</td>\n",
       "    </tr>\n",
       "    <tr>\n",
       "      <th>1</th>\n",
       "      <td>7931</td>\n",
       "      <td>1</td>\n",
       "      <td>0.999228</td>\n",
       "      <td>100</td>\n",
       "    </tr>\n",
       "    <tr>\n",
       "      <th>2</th>\n",
       "      <td>4624</td>\n",
       "      <td>1</td>\n",
       "      <td>0.986707</td>\n",
       "      <td>99</td>\n",
       "    </tr>\n",
       "    <tr>\n",
       "      <th>3</th>\n",
       "      <td>176</td>\n",
       "      <td>0</td>\n",
       "      <td>0.096655</td>\n",
       "      <td>10</td>\n",
       "    </tr>\n",
       "    <tr>\n",
       "      <th>4</th>\n",
       "      <td>5080</td>\n",
       "      <td>1</td>\n",
       "      <td>0.826668</td>\n",
       "      <td>83</td>\n",
       "    </tr>\n",
       "  </tbody>\n",
       "</table>\n",
       "</div>"
      ],
      "text/plain": [
       "   Prospect ID  Converted  Converted_prob  Score_Lead\n",
       "0         9078          0        0.013450           1\n",
       "1         7931          1        0.999228         100\n",
       "2         4624          1        0.986707          99\n",
       "3          176          0        0.096655          10\n",
       "4         5080          1        0.826668          83"
      ]
     },
     "execution_count": 681,
     "metadata": {},
     "output_type": "execute_result"
    }
   ],
   "source": [
    "# Rearranging the columns\n",
    "y_pred_f = y_pred_f[['Prospect ID','Converted','Converted_prob']]\n",
    "y_pred_f['Score_Lead'] = y_pred_f.Converted_prob.map( lambda x: round(x*100))\n",
    "y_pred_f.head()"
   ]
  },
  {
   "cell_type": "code",
   "execution_count": 682,
   "id": "abe37adf",
   "metadata": {},
   "outputs": [
    {
     "data": {
      "text/html": [
       "<div>\n",
       "<style scoped>\n",
       "    .dataframe tbody tr th:only-of-type {\n",
       "        vertical-align: middle;\n",
       "    }\n",
       "\n",
       "    .dataframe tbody tr th {\n",
       "        vertical-align: top;\n",
       "    }\n",
       "\n",
       "    .dataframe thead th {\n",
       "        text-align: right;\n",
       "    }\n",
       "</style>\n",
       "<table border=\"1\" class=\"dataframe\">\n",
       "  <thead>\n",
       "    <tr style=\"text-align: right;\">\n",
       "      <th></th>\n",
       "      <th>Prospect ID</th>\n",
       "      <th>Converted</th>\n",
       "      <th>Converted_prob</th>\n",
       "      <th>Score_Lead</th>\n",
       "      <th>Predicted_F</th>\n",
       "    </tr>\n",
       "  </thead>\n",
       "  <tbody>\n",
       "    <tr>\n",
       "      <th>0</th>\n",
       "      <td>9078</td>\n",
       "      <td>0</td>\n",
       "      <td>0.013450</td>\n",
       "      <td>1</td>\n",
       "      <td>0</td>\n",
       "    </tr>\n",
       "    <tr>\n",
       "      <th>1</th>\n",
       "      <td>7931</td>\n",
       "      <td>1</td>\n",
       "      <td>0.999228</td>\n",
       "      <td>100</td>\n",
       "      <td>1</td>\n",
       "    </tr>\n",
       "    <tr>\n",
       "      <th>2</th>\n",
       "      <td>4624</td>\n",
       "      <td>1</td>\n",
       "      <td>0.986707</td>\n",
       "      <td>99</td>\n",
       "      <td>1</td>\n",
       "    </tr>\n",
       "    <tr>\n",
       "      <th>3</th>\n",
       "      <td>176</td>\n",
       "      <td>0</td>\n",
       "      <td>0.096655</td>\n",
       "      <td>10</td>\n",
       "      <td>0</td>\n",
       "    </tr>\n",
       "    <tr>\n",
       "      <th>4</th>\n",
       "      <td>5080</td>\n",
       "      <td>1</td>\n",
       "      <td>0.826668</td>\n",
       "      <td>83</td>\n",
       "      <td>1</td>\n",
       "    </tr>\n",
       "  </tbody>\n",
       "</table>\n",
       "</div>"
      ],
      "text/plain": [
       "   Prospect ID  Converted  Converted_prob  Score_Lead  Predicted_F\n",
       "0         9078          0        0.013450           1            0\n",
       "1         7931          1        0.999228         100            1\n",
       "2         4624          1        0.986707          99            1\n",
       "3          176          0        0.096655          10            0\n",
       "4         5080          1        0.826668          83            1"
      ]
     },
     "execution_count": 682,
     "metadata": {},
     "output_type": "execute_result"
    }
   ],
   "source": [
    "y_pred_f['Predicted_F'] = y_pred_f.Converted_prob.map(lambda x: 1 if x > 0.35 else 0)\n",
    "y_pred_f.head()"
   ]
  },
  {
   "cell_type": "code",
   "execution_count": 683,
   "id": "69021395",
   "metadata": {},
   "outputs": [
    {
     "data": {
      "text/plain": [
       "array([[1554,  113],\n",
       "       [  70,  949]], dtype=int64)"
      ]
     },
     "execution_count": 683,
     "metadata": {},
     "output_type": "execute_result"
    }
   ],
   "source": [
    "con_metrics = metrics.confusion_matrix(y_pred_f.Converted, y_pred_f.Predicted_F )\n",
    "con_metrics"
   ]
  },
  {
   "cell_type": "code",
   "execution_count": 684,
   "id": "66da6a6e",
   "metadata": {},
   "outputs": [],
   "source": [
    "TP = con_metrics[1,1] # true positive \n",
    "TN = con_metrics[0,0] # true negatives\n",
    "FP = con_metrics[0,1] # false positives\n",
    "FN = con_metrics[1,0] # false negatives"
   ]
  },
  {
   "cell_type": "code",
   "execution_count": 685,
   "id": "ca93d1e0",
   "metadata": {},
   "outputs": [
    {
     "data": {
      "text/plain": [
       "0.9318689501116902"
      ]
     },
     "execution_count": 685,
     "metadata": {},
     "output_type": "execute_result"
    }
   ],
   "source": [
    "# Accuracy\n",
    "(TP+TN)/(TP+TN+FP+FN)"
   ]
  },
  {
   "cell_type": "code",
   "execution_count": 686,
   "id": "4e099999",
   "metadata": {},
   "outputs": [
    {
     "data": {
      "text/plain": [
       "0.9313052011776252"
      ]
     },
     "execution_count": 686,
     "metadata": {},
     "output_type": "execute_result"
    }
   ],
   "source": [
    "# Sensitivity/Recall\n",
    "TP/(TP+FN)"
   ]
  },
  {
   "cell_type": "code",
   "execution_count": 687,
   "id": "2ef6f048",
   "metadata": {},
   "outputs": [
    {
     "data": {
      "text/plain": [
       "0.9322135572885423"
      ]
     },
     "execution_count": 687,
     "metadata": {},
     "output_type": "execute_result"
    }
   ],
   "source": [
    "# Specificity\n",
    "TN / float(TN+FP)"
   ]
  },
  {
   "cell_type": "code",
   "execution_count": 688,
   "id": "f4fb3589",
   "metadata": {},
   "outputs": [
    {
     "data": {
      "text/plain": [
       "0.8935969868173258"
      ]
     },
     "execution_count": 688,
     "metadata": {},
     "output_type": "execute_result"
    }
   ],
   "source": [
    "# Precession\n",
    "TP/(TP+FP)"
   ]
  },
  {
   "cell_type": "markdown",
   "id": "9c2c6182",
   "metadata": {},
   "source": [
    "After Running Model on Test data at cutoff 0.35\n",
    "1. Accuracy = 93.18%\n",
    "2. Senstivity/Recall = 93.13%\n",
    "3. Specificity = 93.22%\n",
    "4. Precession = 89.35%"
   ]
  },
  {
   "cell_type": "code",
   "execution_count": null,
   "id": "db0d6a57",
   "metadata": {},
   "outputs": [],
   "source": []
  },
  {
   "cell_type": "markdown",
   "id": "64a78058",
   "metadata": {},
   "source": [
    "Comparing Train and Test Data with cutoff 0.35\n",
    "\n",
    "a. Train Data\n",
    "1. Accuracy = 93.01%\n",
    "2. Senstivity/Recall = 93.18%\n",
    "3. Specificity = 92.90%\n",
    "4. Precession = 88.91%\n",
    "\n",
    "b. Test Data\n",
    "1. Accuracy = 93.18%\n",
    "2. Senstivity/Recall = 93.13%\n",
    "3. Specificity = 93.22%\n",
    "4. Precession = 89.35%"
   ]
  },
  {
   "cell_type": "markdown",
   "id": "34dbb7a2",
   "metadata": {},
   "source": [
    "It seems that Model will predict the Conversion Rate very well "
   ]
  },
  {
   "cell_type": "markdown",
   "id": "67966305",
   "metadata": {},
   "source": [
    "# Conclusion"
   ]
  },
  {
   "cell_type": "markdown",
   "id": "2880cbbe",
   "metadata": {},
   "source": [
    "It seems that Model will predict the Conversion Rate very well and X Education have a high chance of getting all the potential buyers to buy their courses by focussing on: \n",
    "1.\tThe customers are visiting the website more often/ is eager to know about the course by visiting the website several times and downloading the program sheet.\n",
    "2.\tWhose last modified activity falls under the category ‘Modified’.\n",
    "3.\tThe customers who have opened the Email to have a look over the program."
   ]
  },
  {
   "cell_type": "code",
   "execution_count": null,
   "id": "c194c09a",
   "metadata": {},
   "outputs": [],
   "source": []
  }
 ],
 "metadata": {
  "kernelspec": {
   "display_name": "Python 3 (ipykernel)",
   "language": "python",
   "name": "python3"
  },
  "language_info": {
   "codemirror_mode": {
    "name": "ipython",
    "version": 3
   },
   "file_extension": ".py",
   "mimetype": "text/x-python",
   "name": "python",
   "nbconvert_exporter": "python",
   "pygments_lexer": "ipython3",
   "version": "3.9.7"
  }
 },
 "nbformat": 4,
 "nbformat_minor": 5
}
